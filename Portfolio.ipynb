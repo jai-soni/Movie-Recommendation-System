{
 "cells": [
  {
   "cell_type": "markdown",
   "metadata": {},
   "source": [
    "# Movie Recommendation System using NLP"
   ]
  },
  {
   "cell_type": "code",
   "execution_count": 1,
   "metadata": {},
   "outputs": [],
   "source": [
    "#Import Necessary libraries\n",
    "import pandas as pd\n",
    "import numpy as np\n",
    "import matplotlib.pyplot as plt\n",
    "import seaborn as sns\n",
    "from scipy import stats\n",
    "from ast import literal_eval\n",
    "from sklearn.metrics.pairwise import linear_kernel, cosine_similarity\n",
    "\n",
    "# Libraries required for NLP\n",
    "import nltk\n",
    "from sklearn.feature_extraction.text import TfidfVectorizer, CountVectorizer\n",
    "from nltk.stem.snowball import SnowballStemmer\n",
    "from nltk.stem.wordnet import WordNetLemmatizer\n",
    "from nltk.corpus import wordnet,stopwords\n",
    "import string\n",
    "from requests import get\n",
    "\n",
    "# Library for Collaborative filtering\n",
    "from surprise import Reader, Dataset, SVD, evaluate\n",
    "\n",
    "import warnings; warnings.simplefilter('ignore')\n",
    "\n",
    "%matplotlib inline"
   ]
  },
  {
   "cell_type": "code",
   "execution_count": 2,
   "metadata": {},
   "outputs": [
    {
     "data": {
      "text/html": [
       "<div>\n",
       "<style scoped>\n",
       "    .dataframe tbody tr th:only-of-type {\n",
       "        vertical-align: middle;\n",
       "    }\n",
       "\n",
       "    .dataframe tbody tr th {\n",
       "        vertical-align: top;\n",
       "    }\n",
       "\n",
       "    .dataframe thead th {\n",
       "        text-align: right;\n",
       "    }\n",
       "</style>\n",
       "<table border=\"1\" class=\"dataframe\">\n",
       "  <thead>\n",
       "    <tr style=\"text-align: right;\">\n",
       "      <th></th>\n",
       "      <th>adult</th>\n",
       "      <th>belongs_to_collection</th>\n",
       "      <th>budget</th>\n",
       "      <th>genres</th>\n",
       "      <th>homepage</th>\n",
       "      <th>id</th>\n",
       "      <th>imdb_id</th>\n",
       "      <th>original_language</th>\n",
       "      <th>original_title</th>\n",
       "      <th>overview</th>\n",
       "      <th>...</th>\n",
       "      <th>release_date</th>\n",
       "      <th>revenue</th>\n",
       "      <th>runtime</th>\n",
       "      <th>spoken_languages</th>\n",
       "      <th>status</th>\n",
       "      <th>tagline</th>\n",
       "      <th>title</th>\n",
       "      <th>video</th>\n",
       "      <th>vote_average</th>\n",
       "      <th>vote_count</th>\n",
       "    </tr>\n",
       "  </thead>\n",
       "  <tbody>\n",
       "    <tr>\n",
       "      <th>0</th>\n",
       "      <td>False</td>\n",
       "      <td>{'id': 10194, 'name': 'Toy Story Collection', ...</td>\n",
       "      <td>30000000</td>\n",
       "      <td>[{'id': 16, 'name': 'Animation'}, {'id': 35, '...</td>\n",
       "      <td>http://toystory.disney.com/toy-story</td>\n",
       "      <td>862</td>\n",
       "      <td>tt0114709</td>\n",
       "      <td>en</td>\n",
       "      <td>Toy Story</td>\n",
       "      <td>Led by Woody, Andy's toys live happily in his ...</td>\n",
       "      <td>...</td>\n",
       "      <td>1995-10-30</td>\n",
       "      <td>373554033.0</td>\n",
       "      <td>81.0</td>\n",
       "      <td>[{'iso_639_1': 'en', 'name': 'English'}]</td>\n",
       "      <td>Released</td>\n",
       "      <td>NaN</td>\n",
       "      <td>Toy Story</td>\n",
       "      <td>False</td>\n",
       "      <td>7.7</td>\n",
       "      <td>5415.0</td>\n",
       "    </tr>\n",
       "    <tr>\n",
       "      <th>1</th>\n",
       "      <td>False</td>\n",
       "      <td>NaN</td>\n",
       "      <td>65000000</td>\n",
       "      <td>[{'id': 12, 'name': 'Adventure'}, {'id': 14, '...</td>\n",
       "      <td>NaN</td>\n",
       "      <td>8844</td>\n",
       "      <td>tt0113497</td>\n",
       "      <td>en</td>\n",
       "      <td>Jumanji</td>\n",
       "      <td>When siblings Judy and Peter discover an encha...</td>\n",
       "      <td>...</td>\n",
       "      <td>1995-12-15</td>\n",
       "      <td>262797249.0</td>\n",
       "      <td>104.0</td>\n",
       "      <td>[{'iso_639_1': 'en', 'name': 'English'}, {'iso...</td>\n",
       "      <td>Released</td>\n",
       "      <td>Roll the dice and unleash the excitement!</td>\n",
       "      <td>Jumanji</td>\n",
       "      <td>False</td>\n",
       "      <td>6.9</td>\n",
       "      <td>2413.0</td>\n",
       "    </tr>\n",
       "    <tr>\n",
       "      <th>2</th>\n",
       "      <td>False</td>\n",
       "      <td>{'id': 119050, 'name': 'Grumpy Old Men Collect...</td>\n",
       "      <td>0</td>\n",
       "      <td>[{'id': 10749, 'name': 'Romance'}, {'id': 35, ...</td>\n",
       "      <td>NaN</td>\n",
       "      <td>15602</td>\n",
       "      <td>tt0113228</td>\n",
       "      <td>en</td>\n",
       "      <td>Grumpier Old Men</td>\n",
       "      <td>A family wedding reignites the ancient feud be...</td>\n",
       "      <td>...</td>\n",
       "      <td>1995-12-22</td>\n",
       "      <td>0.0</td>\n",
       "      <td>101.0</td>\n",
       "      <td>[{'iso_639_1': 'en', 'name': 'English'}]</td>\n",
       "      <td>Released</td>\n",
       "      <td>Still Yelling. Still Fighting. Still Ready for...</td>\n",
       "      <td>Grumpier Old Men</td>\n",
       "      <td>False</td>\n",
       "      <td>6.5</td>\n",
       "      <td>92.0</td>\n",
       "    </tr>\n",
       "    <tr>\n",
       "      <th>3</th>\n",
       "      <td>False</td>\n",
       "      <td>NaN</td>\n",
       "      <td>16000000</td>\n",
       "      <td>[{'id': 35, 'name': 'Comedy'}, {'id': 18, 'nam...</td>\n",
       "      <td>NaN</td>\n",
       "      <td>31357</td>\n",
       "      <td>tt0114885</td>\n",
       "      <td>en</td>\n",
       "      <td>Waiting to Exhale</td>\n",
       "      <td>Cheated on, mistreated and stepped on, the wom...</td>\n",
       "      <td>...</td>\n",
       "      <td>1995-12-22</td>\n",
       "      <td>81452156.0</td>\n",
       "      <td>127.0</td>\n",
       "      <td>[{'iso_639_1': 'en', 'name': 'English'}]</td>\n",
       "      <td>Released</td>\n",
       "      <td>Friends are the people who let you be yourself...</td>\n",
       "      <td>Waiting to Exhale</td>\n",
       "      <td>False</td>\n",
       "      <td>6.1</td>\n",
       "      <td>34.0</td>\n",
       "    </tr>\n",
       "    <tr>\n",
       "      <th>4</th>\n",
       "      <td>False</td>\n",
       "      <td>{'id': 96871, 'name': 'Father of the Bride Col...</td>\n",
       "      <td>0</td>\n",
       "      <td>[{'id': 35, 'name': 'Comedy'}]</td>\n",
       "      <td>NaN</td>\n",
       "      <td>11862</td>\n",
       "      <td>tt0113041</td>\n",
       "      <td>en</td>\n",
       "      <td>Father of the Bride Part II</td>\n",
       "      <td>Just when George Banks has recovered from his ...</td>\n",
       "      <td>...</td>\n",
       "      <td>1995-02-10</td>\n",
       "      <td>76578911.0</td>\n",
       "      <td>106.0</td>\n",
       "      <td>[{'iso_639_1': 'en', 'name': 'English'}]</td>\n",
       "      <td>Released</td>\n",
       "      <td>Just When His World Is Back To Normal... He's ...</td>\n",
       "      <td>Father of the Bride Part II</td>\n",
       "      <td>False</td>\n",
       "      <td>5.7</td>\n",
       "      <td>173.0</td>\n",
       "    </tr>\n",
       "  </tbody>\n",
       "</table>\n",
       "<p>5 rows × 24 columns</p>\n",
       "</div>"
      ],
      "text/plain": [
       "   adult                              belongs_to_collection    budget  \\\n",
       "0  False  {'id': 10194, 'name': 'Toy Story Collection', ...  30000000   \n",
       "1  False                                                NaN  65000000   \n",
       "2  False  {'id': 119050, 'name': 'Grumpy Old Men Collect...         0   \n",
       "3  False                                                NaN  16000000   \n",
       "4  False  {'id': 96871, 'name': 'Father of the Bride Col...         0   \n",
       "\n",
       "                                              genres  \\\n",
       "0  [{'id': 16, 'name': 'Animation'}, {'id': 35, '...   \n",
       "1  [{'id': 12, 'name': 'Adventure'}, {'id': 14, '...   \n",
       "2  [{'id': 10749, 'name': 'Romance'}, {'id': 35, ...   \n",
       "3  [{'id': 35, 'name': 'Comedy'}, {'id': 18, 'nam...   \n",
       "4                     [{'id': 35, 'name': 'Comedy'}]   \n",
       "\n",
       "                               homepage     id    imdb_id original_language  \\\n",
       "0  http://toystory.disney.com/toy-story    862  tt0114709                en   \n",
       "1                                   NaN   8844  tt0113497                en   \n",
       "2                                   NaN  15602  tt0113228                en   \n",
       "3                                   NaN  31357  tt0114885                en   \n",
       "4                                   NaN  11862  tt0113041                en   \n",
       "\n",
       "                original_title  \\\n",
       "0                    Toy Story   \n",
       "1                      Jumanji   \n",
       "2             Grumpier Old Men   \n",
       "3            Waiting to Exhale   \n",
       "4  Father of the Bride Part II   \n",
       "\n",
       "                                            overview    ...     release_date  \\\n",
       "0  Led by Woody, Andy's toys live happily in his ...    ...       1995-10-30   \n",
       "1  When siblings Judy and Peter discover an encha...    ...       1995-12-15   \n",
       "2  A family wedding reignites the ancient feud be...    ...       1995-12-22   \n",
       "3  Cheated on, mistreated and stepped on, the wom...    ...       1995-12-22   \n",
       "4  Just when George Banks has recovered from his ...    ...       1995-02-10   \n",
       "\n",
       "       revenue runtime                                   spoken_languages  \\\n",
       "0  373554033.0    81.0           [{'iso_639_1': 'en', 'name': 'English'}]   \n",
       "1  262797249.0   104.0  [{'iso_639_1': 'en', 'name': 'English'}, {'iso...   \n",
       "2          0.0   101.0           [{'iso_639_1': 'en', 'name': 'English'}]   \n",
       "3   81452156.0   127.0           [{'iso_639_1': 'en', 'name': 'English'}]   \n",
       "4   76578911.0   106.0           [{'iso_639_1': 'en', 'name': 'English'}]   \n",
       "\n",
       "     status                                            tagline  \\\n",
       "0  Released                                                NaN   \n",
       "1  Released          Roll the dice and unleash the excitement!   \n",
       "2  Released  Still Yelling. Still Fighting. Still Ready for...   \n",
       "3  Released  Friends are the people who let you be yourself...   \n",
       "4  Released  Just When His World Is Back To Normal... He's ...   \n",
       "\n",
       "                         title  video vote_average vote_count  \n",
       "0                    Toy Story  False          7.7     5415.0  \n",
       "1                      Jumanji  False          6.9     2413.0  \n",
       "2             Grumpier Old Men  False          6.5       92.0  \n",
       "3            Waiting to Exhale  False          6.1       34.0  \n",
       "4  Father of the Bride Part II  False          5.7      173.0  \n",
       "\n",
       "[5 rows x 24 columns]"
      ]
     },
     "execution_count": 2,
     "metadata": {},
     "output_type": "execute_result"
    }
   ],
   "source": [
    "movies_metadata = pd. read_csv('movies_metadata.csv')\n",
    "movies_metadata.head()"
   ]
  },
  {
   "cell_type": "code",
   "execution_count": 3,
   "metadata": {},
   "outputs": [
    {
     "data": {
      "text/plain": [
       "Index(['adult', 'belongs_to_collection', 'budget', 'genres', 'homepage', 'id',\n",
       "       'imdb_id', 'original_language', 'original_title', 'overview',\n",
       "       'popularity', 'poster_path', 'production_companies',\n",
       "       'production_countries', 'release_date', 'revenue', 'runtime',\n",
       "       'spoken_languages', 'status', 'tagline', 'title', 'video',\n",
       "       'vote_average', 'vote_count'],\n",
       "      dtype='object')"
      ]
     },
     "execution_count": 3,
     "metadata": {},
     "output_type": "execute_result"
    }
   ],
   "source": [
    "movies_metadata.columns"
   ]
  },
  {
   "cell_type": "markdown",
   "metadata": {},
   "source": [
    "\n",
    "##### Features\n",
    "- adult: Indicates if the movie is X-Rated or Adult.\n",
    "- belongs_to_collection: A stringified dictionary that gives information on the movie series the particular film belongs to.\n",
    "- budget: The budget of the movie in dollars.\n",
    "- genres: A stringified list of dictionaries that list out all the genres associated with the movie.\n",
    "- homepage: The Official Homepage of the move.\n",
    "- id: The ID of the movie.\n",
    "- imdb_id: The IMDB ID of the movie.\n",
    "- original_language: The language in which the movie was originally shot in.\n",
    "- original_title: The original title of the movie.\n",
    "- overview: A brief blurb of the movie.\n",
    "- popularity: The Popularity Score assigned by TMDB.\n",
    "- poster_path: The URL of the poster image.\n",
    "- production_companies: A stringified list of production companies involved with the making of the movie.\n",
    "- production_countries: A stringified list of countries where the movie was shot/produced in.\n",
    "- release_date: Theatrical Release Date of the movie.\n",
    "- revenue: The total revenue of the movie in dollars.\n",
    "- runtime: The runtime of the movie in minutes.\n",
    "- spoken_languages: A stringified list of spoken languages in the film.\n",
    "- status: The status of the movie (Released, To Be Released, Announced, etc.)\n",
    "- tagline: The tagline of the movie.\n",
    "- title: The Official Title of the movie.\n",
    "- video: Indicates if there is a video present of the movie with TMDB.\n",
    "- vote_average: The average rating of the movie.\n",
    "- vote_count: The number of votes by users, as counted by TMDB."
   ]
  },
  {
   "cell_type": "code",
   "execution_count": 4,
   "metadata": {},
   "outputs": [
    {
     "name": "stdout",
     "output_type": "stream",
     "text": [
      "<class 'pandas.core.frame.DataFrame'>\n",
      "RangeIndex: 45466 entries, 0 to 45465\n",
      "Data columns (total 24 columns):\n",
      "adult                    45466 non-null object\n",
      "belongs_to_collection    4494 non-null object\n",
      "budget                   45466 non-null object\n",
      "genres                   45466 non-null object\n",
      "homepage                 7782 non-null object\n",
      "id                       45466 non-null object\n",
      "imdb_id                  45449 non-null object\n",
      "original_language        45455 non-null object\n",
      "original_title           45466 non-null object\n",
      "overview                 44512 non-null object\n",
      "popularity               45461 non-null object\n",
      "poster_path              45080 non-null object\n",
      "production_companies     45463 non-null object\n",
      "production_countries     45463 non-null object\n",
      "release_date             45379 non-null object\n",
      "revenue                  45460 non-null float64\n",
      "runtime                  45203 non-null float64\n",
      "spoken_languages         45460 non-null object\n",
      "status                   45379 non-null object\n",
      "tagline                  20412 non-null object\n",
      "title                    45460 non-null object\n",
      "video                    45460 non-null object\n",
      "vote_average             45460 non-null float64\n",
      "vote_count               45460 non-null float64\n",
      "dtypes: float64(4), object(20)\n",
      "memory usage: 8.3+ MB\n"
     ]
    }
   ],
   "source": [
    "movies_metadata.info()"
   ]
  },
  {
   "cell_type": "markdown",
   "metadata": {},
   "source": [
    "we have more than 45,000 movies in the movies-metadata"
   ]
  },
  {
   "cell_type": "markdown",
   "metadata": {},
   "source": [
    "Lets Explore the dataset !"
   ]
  },
  {
   "cell_type": "code",
   "execution_count": 5,
   "metadata": {},
   "outputs": [
    {
     "data": {
      "text/plain": [
       "<matplotlib.axes._subplots.AxesSubplot at 0x2a1da6bc630>"
      ]
     },
     "execution_count": 5,
     "metadata": {},
     "output_type": "execute_result"
    },
    {
     "data": {
      "image/png": "[encoded data removed]",
      "text/plain": [
       "<matplotlib.figure.Figure at 0x2a1da687f28>"
      ]
     },
     "metadata": {},
     "output_type": "display_data"
    }
   ],
   "source": [
    "#Null Value Analysis\n",
    "fig, ax = plt.subplots()\n",
    "# the size of A4 paper\n",
    "fig.set_size_inches(11.7, 8.27)\n",
    "sns.heatmap(movies_metadata.isnull(),yticklabels=False,cbar=False,cmap='viridis',ax=ax)"
   ]
  },
  {
   "cell_type": "markdown",
   "metadata": {},
   "source": [
    "Form the above graph, We can easily visualize how much data is missing for our dataset, We have more than 80% of missing data for homepage, tagline, belongs_to_collection"
   ]
  },
  {
   "cell_type": "code",
   "execution_count": 6,
   "metadata": {},
   "outputs": [
    {
     "data": {
      "text/html": [
       "<div>\n",
       "<style scoped>\n",
       "    .dataframe tbody tr th:only-of-type {\n",
       "        vertical-align: middle;\n",
       "    }\n",
       "\n",
       "    .dataframe tbody tr th {\n",
       "        vertical-align: top;\n",
       "    }\n",
       "\n",
       "    .dataframe thead th {\n",
       "        text-align: right;\n",
       "    }\n",
       "</style>\n",
       "<table border=\"1\" class=\"dataframe\">\n",
       "  <thead>\n",
       "    <tr style=\"text-align: right;\">\n",
       "      <th></th>\n",
       "      <th>movieId</th>\n",
       "      <th>title</th>\n",
       "      <th>genres</th>\n",
       "    </tr>\n",
       "  </thead>\n",
       "  <tbody>\n",
       "    <tr>\n",
       "      <th>0</th>\n",
       "      <td>1</td>\n",
       "      <td>Toy Story (1995)</td>\n",
       "      <td>Adventure|Animation|Children|Comedy|Fantasy</td>\n",
       "    </tr>\n",
       "    <tr>\n",
       "      <th>1</th>\n",
       "      <td>2</td>\n",
       "      <td>Jumanji (1995)</td>\n",
       "      <td>Adventure|Children|Fantasy</td>\n",
       "    </tr>\n",
       "    <tr>\n",
       "      <th>2</th>\n",
       "      <td>3</td>\n",
       "      <td>Grumpier Old Men (1995)</td>\n",
       "      <td>Comedy|Romance</td>\n",
       "    </tr>\n",
       "    <tr>\n",
       "      <th>3</th>\n",
       "      <td>4</td>\n",
       "      <td>Waiting to Exhale (1995)</td>\n",
       "      <td>Comedy|Drama|Romance</td>\n",
       "    </tr>\n",
       "    <tr>\n",
       "      <th>4</th>\n",
       "      <td>5</td>\n",
       "      <td>Father of the Bride Part II (1995)</td>\n",
       "      <td>Comedy</td>\n",
       "    </tr>\n",
       "  </tbody>\n",
       "</table>\n",
       "</div>"
      ],
      "text/plain": [
       "   movieId                               title  \\\n",
       "0        1                    Toy Story (1995)   \n",
       "1        2                      Jumanji (1995)   \n",
       "2        3             Grumpier Old Men (1995)   \n",
       "3        4            Waiting to Exhale (1995)   \n",
       "4        5  Father of the Bride Part II (1995)   \n",
       "\n",
       "                                        genres  \n",
       "0  Adventure|Animation|Children|Comedy|Fantasy  \n",
       "1                   Adventure|Children|Fantasy  \n",
       "2                               Comedy|Romance  \n",
       "3                         Comedy|Drama|Romance  \n",
       "4                                       Comedy  "
      ]
     },
     "execution_count": 6,
     "metadata": {},
     "output_type": "execute_result"
    }
   ],
   "source": [
    "#Reading the movies from our small movies data set\n",
    "movies_small = pd.read_csv('movies.csv')\n",
    "movies_small.head()"
   ]
  },
  {
   "cell_type": "code",
   "execution_count": 7,
   "metadata": {},
   "outputs": [
    {
     "name": "stdout",
     "output_type": "stream",
     "text": [
      "<class 'pandas.core.frame.DataFrame'>\n",
      "RangeIndex: 9125 entries, 0 to 9124\n",
      "Data columns (total 3 columns):\n",
      "movieId    9125 non-null int64\n",
      "title      9125 non-null object\n",
      "genres     9125 non-null object\n",
      "dtypes: int64(1), object(2)\n",
      "memory usage: 213.9+ KB\n"
     ]
    }
   ],
   "source": [
    "movies_small.info()"
   ]
  },
  {
   "cell_type": "markdown",
   "metadata": {},
   "source": [
    "We have 9125 movies in the movies small dataset, lets reduce the size of movies metadata, so that movies metadata contains info of only movies small dataset"
   ]
  },
  {
   "cell_type": "code",
   "execution_count": 8,
   "metadata": {},
   "outputs": [
    {
     "data": {
      "text/plain": [
       "movieId    0\n",
       "title      0\n",
       "genres     0\n",
       "dtype: int64"
      ]
     },
     "execution_count": 8,
     "metadata": {},
     "output_type": "execute_result"
    }
   ],
   "source": [
    "#Checking Null values\n",
    "movies_small.isnull().sum()"
   ]
  },
  {
   "cell_type": "code",
   "execution_count": 9,
   "metadata": {},
   "outputs": [
    {
     "data": {
      "text/plain": [
       "<matplotlib.axes._subplots.AxesSubplot at 0x2a1d39634a8>"
      ]
     },
     "execution_count": 9,
     "metadata": {},
     "output_type": "execute_result"
    },
    {
     "data": {
      "image/png": "[encoded data removed]",
      "text/plain": [
       "<matplotlib.figure.Figure at 0x2a1d3963c18>"
      ]
     },
     "metadata": {},
     "output_type": "display_data"
    }
   ],
   "source": [
    "# Creating a plot for Genre Distribution\n",
    "df1 = movies_small['genres'].apply(lambda genrelist : str(genrelist).split(\"|\"))\n",
    "df1 = pd.Series(df1).apply(frozenset).to_frame(name='givengenres')\n",
    "for givengenres in frozenset.union(*df1.givengenres):\n",
    "    df1[givengenres] = df1.apply(lambda _: int(givengenres in _.givengenres), axis=1)\n",
    "df1.drop('givengenres',axis=1,inplace=True)\n",
    "df1['movieId']=movies_small['movieId']\n",
    "df1 = pd.merge(movies_small,df1,on='movieId')\n",
    "df1.head()\n",
    "genre_columns= ['Film-Noir',\n",
    "       'Romance', 'Western', 'Documentary', 'Thriller', 'Action', 'Musical',\n",
    "       'War', 'Drama', 'IMAX', 'Crime', 'Children', 'Adventure', 'Horror',\n",
    "       'Fantasy', 'Animation', 'Comedy', 'Mystery', '(no genres listed)',\n",
    "       'Sci-Fi']\n",
    "df1[genre_columns].sum().sort_values(ascending=False).plot(kind='bar',figsize=(12,9))"
   ]
  },
  {
   "cell_type": "markdown",
   "metadata": {},
   "source": [
    "We can see from the above graph that majority of the movies are of genre Drama and Comedy"
   ]
  },
  {
   "cell_type": "code",
   "execution_count": 10,
   "metadata": {},
   "outputs": [
    {
     "data": {
      "image/png": "[encoded data removed]",
      "text/plain": [
       "<matplotlib.figure.Figure at 0x2a1d3d62240>"
      ]
     },
     "metadata": {},
     "output_type": "display_data"
    }
   ],
   "source": [
    "# Plotting a graph to see the distribution of votes across\n",
    "plt.subplots(figsize=(12,6))\n",
    "ax = movies_metadata['vote_count'].hist(bins=100)\n",
    "plt.xlabel('Vote Counts')\n",
    "plt.ylabel('Number of Movies')\n",
    "plt.show()"
   ]
  },
  {
   "cell_type": "markdown",
   "metadata": {},
   "source": [
    "From here, we can infer that most movies have vote counts in the range of 0-500"
   ]
  },
  {
   "cell_type": "code",
   "execution_count": 11,
   "metadata": {},
   "outputs": [
    {
     "data": {
      "image/png": "[encoded data removed]",
      "text/plain": [
       "<matplotlib.figure.Figure at 0x2a1d3badb38>"
      ]
     },
     "metadata": {},
     "output_type": "display_data"
    }
   ],
   "source": [
    "# Lets look into the distribution of vote average for out movies dataset\n",
    "plt.subplots(figsize=(12,6))\n",
    "ax = movies_metadata['vote_average'].plot(kind='hist')\n",
    "plt.xlabel('Vote average')\n",
    "plt.ylabel('Number of Movies')\n",
    "plt.show()"
   ]
  },
  {
   "cell_type": "markdown",
   "metadata": {},
   "source": [
    "From the above graph we can see that most of movies have vote average between 5 to 7"
   ]
  },
  {
   "cell_type": "code",
   "execution_count": 12,
   "metadata": {},
   "outputs": [
    {
     "data": {
      "text/plain": [
       "<seaborn.axisgrid.JointGrid at 0x2a1d3d4f4a8>"
      ]
     },
     "execution_count": 12,
     "metadata": {},
     "output_type": "execute_result"
    },
    {
     "data": {
      "image/png": "[encoded data removed]",
      "text/plain": [
       "<matplotlib.figure.Figure at 0x2a1d3d4fc50>"
      ]
     },
     "metadata": {},
     "output_type": "display_data"
    }
   ],
   "source": [
    "# Lets create a join plot to see the vote counts and vote average distribution\n",
    "sns.jointplot(x='vote_average',y='vote_count',data=movies_metadata,alpha=0.5)"
   ]
  },
  {
   "cell_type": "markdown",
   "metadata": {},
   "source": [
    "From here we can infer tha movies which have higher rating has higher vote counts, Naturally because more people watch and rate popular movies"
   ]
  },
  {
   "cell_type": "code",
   "execution_count": 13,
   "metadata": {},
   "outputs": [
    {
     "data": {
      "text/html": [
       "<div>\n",
       "<style scoped>\n",
       "    .dataframe tbody tr th:only-of-type {\n",
       "        vertical-align: middle;\n",
       "    }\n",
       "\n",
       "    .dataframe tbody tr th {\n",
       "        vertical-align: top;\n",
       "    }\n",
       "\n",
       "    .dataframe thead th {\n",
       "        text-align: right;\n",
       "    }\n",
       "</style>\n",
       "<table border=\"1\" class=\"dataframe\">\n",
       "  <thead>\n",
       "    <tr style=\"text-align: right;\">\n",
       "      <th></th>\n",
       "      <th>movieId</th>\n",
       "      <th>imdbId</th>\n",
       "      <th>tmdbId</th>\n",
       "    </tr>\n",
       "  </thead>\n",
       "  <tbody>\n",
       "    <tr>\n",
       "      <th>0</th>\n",
       "      <td>1</td>\n",
       "      <td>114709</td>\n",
       "      <td>862.0</td>\n",
       "    </tr>\n",
       "    <tr>\n",
       "      <th>1</th>\n",
       "      <td>2</td>\n",
       "      <td>113497</td>\n",
       "      <td>8844.0</td>\n",
       "    </tr>\n",
       "    <tr>\n",
       "      <th>2</th>\n",
       "      <td>3</td>\n",
       "      <td>113228</td>\n",
       "      <td>15602.0</td>\n",
       "    </tr>\n",
       "    <tr>\n",
       "      <th>3</th>\n",
       "      <td>4</td>\n",
       "      <td>114885</td>\n",
       "      <td>31357.0</td>\n",
       "    </tr>\n",
       "    <tr>\n",
       "      <th>4</th>\n",
       "      <td>5</td>\n",
       "      <td>113041</td>\n",
       "      <td>11862.0</td>\n",
       "    </tr>\n",
       "  </tbody>\n",
       "</table>\n",
       "</div>"
      ],
      "text/plain": [
       "   movieId  imdbId   tmdbId\n",
       "0        1  114709    862.0\n",
       "1        2  113497   8844.0\n",
       "2        3  113228  15602.0\n",
       "3        4  114885  31357.0\n",
       "4        5  113041  11862.0"
      ]
     },
     "execution_count": 13,
     "metadata": {},
     "output_type": "execute_result"
    }
   ],
   "source": [
    "links = pd.read_csv('links.csv')\n",
    "links.head()"
   ]
  },
  {
   "cell_type": "code",
   "execution_count": 14,
   "metadata": {},
   "outputs": [
    {
     "name": "stdout",
     "output_type": "stream",
     "text": [
      "<class 'pandas.core.frame.DataFrame'>\n",
      "RangeIndex: 9125 entries, 0 to 9124\n",
      "Data columns (total 3 columns):\n",
      "movieId    9125 non-null int64\n",
      "imdbId     9125 non-null int64\n",
      "tmdbId     9112 non-null float64\n",
      "dtypes: float64(1), int64(2)\n",
      "memory usage: 213.9 KB\n"
     ]
    }
   ],
   "source": [
    "links.info()"
   ]
  },
  {
   "cell_type": "code",
   "execution_count": 15,
   "metadata": {},
   "outputs": [
    {
     "data": {
      "text/plain": [
       "movieId     0\n",
       "imdbId      0\n",
       "tmdbId     13\n",
       "dtype: int64"
      ]
     },
     "execution_count": 15,
     "metadata": {},
     "output_type": "execute_result"
    }
   ],
   "source": [
    "#Checking Null Values\n",
    "links.isnull().sum()"
   ]
  },
  {
   "cell_type": "code",
   "execution_count": 16,
   "metadata": {},
   "outputs": [
    {
     "data": {
      "text/plain": [
       "0"
      ]
     },
     "execution_count": 16,
     "metadata": {},
     "output_type": "execute_result"
    }
   ],
   "source": [
    "movies_metadata.id.isnull().sum()"
   ]
  },
  {
   "cell_type": "code",
   "execution_count": 17,
   "metadata": {},
   "outputs": [
    {
     "data": {
      "text/plain": [
       "13"
      ]
     },
     "execution_count": 17,
     "metadata": {},
     "output_type": "execute_result"
    }
   ],
   "source": [
    "links.tmdbId.isnull().sum()"
   ]
  },
  {
   "cell_type": "code",
   "execution_count": 18,
   "metadata": {},
   "outputs": [],
   "source": [
    "#Since we are using movies small dataset, we will only keep values in movies_metadata for movies in movies_small\n",
    "movies_metadata = movies_metadata[movies_metadata.id.isin(links['tmdbId'].astype(str).apply(lambda x:x[:-2]).tolist())]"
   ]
  },
  {
   "cell_type": "code",
   "execution_count": 19,
   "metadata": {},
   "outputs": [
    {
     "data": {
      "text/plain": [
       "<matplotlib.axes._subplots.AxesSubplot at 0x2a1d5070cf8>"
      ]
     },
     "execution_count": 19,
     "metadata": {},
     "output_type": "execute_result"
    },
    {
     "data": {
      "image/png": "[encoded data removed]",
      "text/plain": [
       "<matplotlib.figure.Figure at 0x2a1d5070550>"
      ]
     },
     "metadata": {},
     "output_type": "display_data"
    }
   ],
   "source": [
    "#Lets look at the null values after we have created this smaller version of movies_metadata\n",
    "fig, ax = plt.subplots()\n",
    "# the size of A4 paper\n",
    "fig.set_size_inches(11.7, 8.27)\n",
    "sns.heatmap(movies_metadata.isnull(),yticklabels=False,cbar=False,cmap='viridis',ax=ax)"
   ]
  },
  {
   "cell_type": "code",
   "execution_count": 20,
   "metadata": {},
   "outputs": [],
   "source": [
    "#Creating a list of genres from the json format provided\n",
    "movies_metadata['genres'] = movies_metadata['genres'].fillna('[]').apply(literal_eval).apply(lambda x: [i['name'] for i in x] if isinstance(x, list) else [])"
   ]
  },
  {
   "cell_type": "markdown",
   "metadata": {},
   "source": [
    "We also need to add Movie Id to our movies metadata, we can do it through links.csv"
   ]
  },
  {
   "cell_type": "code",
   "execution_count": 21,
   "metadata": {},
   "outputs": [],
   "source": [
    "def convert_int(x):\n",
    "    try:\n",
    "        return int(x) \n",
    "    except:\n",
    "        return 0"
   ]
  },
  {
   "cell_type": "code",
   "execution_count": 22,
   "metadata": {},
   "outputs": [],
   "source": [
    "links['tmdbId'] = links['tmdbId'].apply(convert_int)"
   ]
  },
  {
   "cell_type": "code",
   "execution_count": 23,
   "metadata": {},
   "outputs": [],
   "source": [
    "movies_metadata['id'] = movies_metadata['id'].apply(convert_int)"
   ]
  },
  {
   "cell_type": "code",
   "execution_count": 24,
   "metadata": {},
   "outputs": [],
   "source": [
    "def return_movieId(tmdbId):\n",
    "    return links[links['tmdbId']==tmdbId]['movieId'].iloc[0]"
   ]
  },
  {
   "cell_type": "code",
   "execution_count": 25,
   "metadata": {},
   "outputs": [
    {
     "data": {
      "text/html": [
       "<div>\n",
       "<style scoped>\n",
       "    .dataframe tbody tr th:only-of-type {\n",
       "        vertical-align: middle;\n",
       "    }\n",
       "\n",
       "    .dataframe tbody tr th {\n",
       "        vertical-align: top;\n",
       "    }\n",
       "\n",
       "    .dataframe thead th {\n",
       "        text-align: right;\n",
       "    }\n",
       "</style>\n",
       "<table border=\"1\" class=\"dataframe\">\n",
       "  <thead>\n",
       "    <tr style=\"text-align: right;\">\n",
       "      <th></th>\n",
       "      <th>adult</th>\n",
       "      <th>belongs_to_collection</th>\n",
       "      <th>budget</th>\n",
       "      <th>genres</th>\n",
       "      <th>homepage</th>\n",
       "      <th>id</th>\n",
       "      <th>imdb_id</th>\n",
       "      <th>original_language</th>\n",
       "      <th>original_title</th>\n",
       "      <th>overview</th>\n",
       "      <th>...</th>\n",
       "      <th>revenue</th>\n",
       "      <th>runtime</th>\n",
       "      <th>spoken_languages</th>\n",
       "      <th>status</th>\n",
       "      <th>tagline</th>\n",
       "      <th>title</th>\n",
       "      <th>video</th>\n",
       "      <th>vote_average</th>\n",
       "      <th>vote_count</th>\n",
       "      <th>movieId</th>\n",
       "    </tr>\n",
       "  </thead>\n",
       "  <tbody>\n",
       "    <tr>\n",
       "      <th>0</th>\n",
       "      <td>False</td>\n",
       "      <td>{'id': 10194, 'name': 'Toy Story Collection', ...</td>\n",
       "      <td>30000000</td>\n",
       "      <td>[Animation, Comedy, Family]</td>\n",
       "      <td>http://toystory.disney.com/toy-story</td>\n",
       "      <td>862</td>\n",
       "      <td>tt0114709</td>\n",
       "      <td>en</td>\n",
       "      <td>Toy Story</td>\n",
       "      <td>Led by Woody, Andy's toys live happily in his ...</td>\n",
       "      <td>...</td>\n",
       "      <td>373554033.0</td>\n",
       "      <td>81.0</td>\n",
       "      <td>[{'iso_639_1': 'en', 'name': 'English'}]</td>\n",
       "      <td>Released</td>\n",
       "      <td>NaN</td>\n",
       "      <td>Toy Story</td>\n",
       "      <td>False</td>\n",
       "      <td>7.7</td>\n",
       "      <td>5415.0</td>\n",
       "      <td>1</td>\n",
       "    </tr>\n",
       "    <tr>\n",
       "      <th>1</th>\n",
       "      <td>False</td>\n",
       "      <td>NaN</td>\n",
       "      <td>65000000</td>\n",
       "      <td>[Adventure, Fantasy, Family]</td>\n",
       "      <td>NaN</td>\n",
       "      <td>8844</td>\n",
       "      <td>tt0113497</td>\n",
       "      <td>en</td>\n",
       "      <td>Jumanji</td>\n",
       "      <td>When siblings Judy and Peter discover an encha...</td>\n",
       "      <td>...</td>\n",
       "      <td>262797249.0</td>\n",
       "      <td>104.0</td>\n",
       "      <td>[{'iso_639_1': 'en', 'name': 'English'}, {'iso...</td>\n",
       "      <td>Released</td>\n",
       "      <td>Roll the dice and unleash the excitement!</td>\n",
       "      <td>Jumanji</td>\n",
       "      <td>False</td>\n",
       "      <td>6.9</td>\n",
       "      <td>2413.0</td>\n",
       "      <td>2</td>\n",
       "    </tr>\n",
       "    <tr>\n",
       "      <th>2</th>\n",
       "      <td>False</td>\n",
       "      <td>{'id': 119050, 'name': 'Grumpy Old Men Collect...</td>\n",
       "      <td>0</td>\n",
       "      <td>[Romance, Comedy]</td>\n",
       "      <td>NaN</td>\n",
       "      <td>15602</td>\n",
       "      <td>tt0113228</td>\n",
       "      <td>en</td>\n",
       "      <td>Grumpier Old Men</td>\n",
       "      <td>A family wedding reignites the ancient feud be...</td>\n",
       "      <td>...</td>\n",
       "      <td>0.0</td>\n",
       "      <td>101.0</td>\n",
       "      <td>[{'iso_639_1': 'en', 'name': 'English'}]</td>\n",
       "      <td>Released</td>\n",
       "      <td>Still Yelling. Still Fighting. Still Ready for...</td>\n",
       "      <td>Grumpier Old Men</td>\n",
       "      <td>False</td>\n",
       "      <td>6.5</td>\n",
       "      <td>92.0</td>\n",
       "      <td>3</td>\n",
       "    </tr>\n",
       "    <tr>\n",
       "      <th>3</th>\n",
       "      <td>False</td>\n",
       "      <td>NaN</td>\n",
       "      <td>16000000</td>\n",
       "      <td>[Comedy, Drama, Romance]</td>\n",
       "      <td>NaN</td>\n",
       "      <td>31357</td>\n",
       "      <td>tt0114885</td>\n",
       "      <td>en</td>\n",
       "      <td>Waiting to Exhale</td>\n",
       "      <td>Cheated on, mistreated and stepped on, the wom...</td>\n",
       "      <td>...</td>\n",
       "      <td>81452156.0</td>\n",
       "      <td>127.0</td>\n",
       "      <td>[{'iso_639_1': 'en', 'name': 'English'}]</td>\n",
       "      <td>Released</td>\n",
       "      <td>Friends are the people who let you be yourself...</td>\n",
       "      <td>Waiting to Exhale</td>\n",
       "      <td>False</td>\n",
       "      <td>6.1</td>\n",
       "      <td>34.0</td>\n",
       "      <td>4</td>\n",
       "    </tr>\n",
       "    <tr>\n",
       "      <th>4</th>\n",
       "      <td>False</td>\n",
       "      <td>{'id': 96871, 'name': 'Father of the Bride Col...</td>\n",
       "      <td>0</td>\n",
       "      <td>[Comedy]</td>\n",
       "      <td>NaN</td>\n",
       "      <td>11862</td>\n",
       "      <td>tt0113041</td>\n",
       "      <td>en</td>\n",
       "      <td>Father of the Bride Part II</td>\n",
       "      <td>Just when George Banks has recovered from his ...</td>\n",
       "      <td>...</td>\n",
       "      <td>76578911.0</td>\n",
       "      <td>106.0</td>\n",
       "      <td>[{'iso_639_1': 'en', 'name': 'English'}]</td>\n",
       "      <td>Released</td>\n",
       "      <td>Just When His World Is Back To Normal... He's ...</td>\n",
       "      <td>Father of the Bride Part II</td>\n",
       "      <td>False</td>\n",
       "      <td>5.7</td>\n",
       "      <td>173.0</td>\n",
       "      <td>5</td>\n",
       "    </tr>\n",
       "  </tbody>\n",
       "</table>\n",
       "<p>5 rows × 25 columns</p>\n",
       "</div>"
      ],
      "text/plain": [
       "   adult                              belongs_to_collection    budget  \\\n",
       "0  False  {'id': 10194, 'name': 'Toy Story Collection', ...  30000000   \n",
       "1  False                                                NaN  65000000   \n",
       "2  False  {'id': 119050, 'name': 'Grumpy Old Men Collect...         0   \n",
       "3  False                                                NaN  16000000   \n",
       "4  False  {'id': 96871, 'name': 'Father of the Bride Col...         0   \n",
       "\n",
       "                         genres                              homepage     id  \\\n",
       "0   [Animation, Comedy, Family]  http://toystory.disney.com/toy-story    862   \n",
       "1  [Adventure, Fantasy, Family]                                   NaN   8844   \n",
       "2             [Romance, Comedy]                                   NaN  15602   \n",
       "3      [Comedy, Drama, Romance]                                   NaN  31357   \n",
       "4                      [Comedy]                                   NaN  11862   \n",
       "\n",
       "     imdb_id original_language               original_title  \\\n",
       "0  tt0114709                en                    Toy Story   \n",
       "1  tt0113497                en                      Jumanji   \n",
       "2  tt0113228                en             Grumpier Old Men   \n",
       "3  tt0114885                en            Waiting to Exhale   \n",
       "4  tt0113041                en  Father of the Bride Part II   \n",
       "\n",
       "                                            overview   ...        revenue  \\\n",
       "0  Led by Woody, Andy's toys live happily in his ...   ...    373554033.0   \n",
       "1  When siblings Judy and Peter discover an encha...   ...    262797249.0   \n",
       "2  A family wedding reignites the ancient feud be...   ...            0.0   \n",
       "3  Cheated on, mistreated and stepped on, the wom...   ...     81452156.0   \n",
       "4  Just when George Banks has recovered from his ...   ...     76578911.0   \n",
       "\n",
       "  runtime                                   spoken_languages    status  \\\n",
       "0    81.0           [{'iso_639_1': 'en', 'name': 'English'}]  Released   \n",
       "1   104.0  [{'iso_639_1': 'en', 'name': 'English'}, {'iso...  Released   \n",
       "2   101.0           [{'iso_639_1': 'en', 'name': 'English'}]  Released   \n",
       "3   127.0           [{'iso_639_1': 'en', 'name': 'English'}]  Released   \n",
       "4   106.0           [{'iso_639_1': 'en', 'name': 'English'}]  Released   \n",
       "\n",
       "                                             tagline  \\\n",
       "0                                                NaN   \n",
       "1          Roll the dice and unleash the excitement!   \n",
       "2  Still Yelling. Still Fighting. Still Ready for...   \n",
       "3  Friends are the people who let you be yourself...   \n",
       "4  Just When His World Is Back To Normal... He's ...   \n",
       "\n",
       "                         title  video vote_average vote_count movieId  \n",
       "0                    Toy Story  False          7.7     5415.0       1  \n",
       "1                      Jumanji  False          6.9     2413.0       2  \n",
       "2             Grumpier Old Men  False          6.5       92.0       3  \n",
       "3            Waiting to Exhale  False          6.1       34.0       4  \n",
       "4  Father of the Bride Part II  False          5.7      173.0       5  \n",
       "\n",
       "[5 rows x 25 columns]"
      ]
     },
     "execution_count": 25,
     "metadata": {},
     "output_type": "execute_result"
    }
   ],
   "source": [
    "#Get movie Id to the movies_metadata\n",
    "movies_metadata['movieId'] = movies_metadata['id'].apply(return_movieId)\n",
    "movies_metadata.head()"
   ]
  },
  {
   "cell_type": "code",
   "execution_count": 26,
   "metadata": {},
   "outputs": [
    {
     "name": "stdout",
     "output_type": "stream",
     "text": [
      "<class 'pandas.core.frame.DataFrame'>\n",
      "Int64Index: 9099 entries, 0 to 45265\n",
      "Data columns (total 25 columns):\n",
      "adult                    9099 non-null object\n",
      "belongs_to_collection    1674 non-null object\n",
      "budget                   9099 non-null object\n",
      "genres                   9099 non-null object\n",
      "homepage                 1974 non-null object\n",
      "id                       9099 non-null int64\n",
      "imdb_id                  9099 non-null object\n",
      "original_language        9099 non-null object\n",
      "original_title           9099 non-null object\n",
      "overview                 9087 non-null object\n",
      "popularity               9099 non-null object\n",
      "poster_path              9096 non-null object\n",
      "production_companies     9099 non-null object\n",
      "production_countries     9099 non-null object\n",
      "release_date             9099 non-null object\n",
      "revenue                  9099 non-null float64\n",
      "runtime                  9099 non-null float64\n",
      "spoken_languages         9099 non-null object\n",
      "status                   9097 non-null object\n",
      "tagline                  7033 non-null object\n",
      "title                    9099 non-null object\n",
      "video                    9099 non-null object\n",
      "vote_average             9099 non-null float64\n",
      "vote_count               9099 non-null float64\n",
      "movieId                  9099 non-null int64\n",
      "dtypes: float64(4), int64(2), object(19)\n",
      "memory usage: 1.8+ MB\n"
     ]
    }
   ],
   "source": [
    "movies_metadata.info()"
   ]
  },
  {
   "cell_type": "markdown",
   "metadata": {},
   "source": [
    "I use the TMDB Ratings to come up with our Top Movies Chart. I will use IMDB's weighted rating formula to construct my chart. Mathematically, it is represented as follows:\n",
    "\n",
    "Weighted Rating (WR) =  (vv+m.R)+(mv+m.C) \n",
    "where,\n",
    "\n",
    "v is the number of votes for the movie\n",
    "m is the minimum votes required to be listed in the chart\n",
    "R is the average rating of the movie\n",
    "C is the mean vote across the whole report\n",
    "The next step is to determine an appropriate value for m, the minimum votes required to be listed in the chart. We will use 95th percentile as our cutoff. In other words, for a movie to feature in the charts, it must have more votes than at least 95% of the movies in the list.\n",
    "\n",
    "I will build our overall Top 250 Chart and will define a function to build charts for a particular genre. Let's begin!\n",
    "\n",
    "<<<<< enter link for IMDB weighted rating here\n"
   ]
  },
  {
   "cell_type": "code",
   "execution_count": 27,
   "metadata": {},
   "outputs": [
    {
     "data": {
      "text/plain": [
       "5.916804044400483"
      ]
     },
     "execution_count": 27,
     "metadata": {},
     "output_type": "execute_result"
    }
   ],
   "source": [
    "no_of_votes = movies_metadata[movies_metadata['vote_count'].notnull()]['vote_count'].astype('int')\n",
    "vote_mean = movies_metadata[movies_metadata['vote_average'].notnull()]['vote_average'].astype('int')\n",
    "C = vote_mean.mean()\n",
    "C"
   ]
  },
  {
   "cell_type": "code",
   "execution_count": 28,
   "metadata": {},
   "outputs": [
    {
     "data": {
      "text/plain": [
       "2079.1000000000004"
      ]
     },
     "execution_count": 28,
     "metadata": {},
     "output_type": "execute_result"
    }
   ],
   "source": [
    "m = no_of_votes.quantile(0.95)\n",
    "m"
   ]
  },
  {
   "cell_type": "code",
   "execution_count": 29,
   "metadata": {},
   "outputs": [],
   "source": [
    "# Adding year column based on movies release date\n",
    "movies_metadata['year'] = pd.to_datetime(movies_metadata['release_date'], errors='coerce').apply(lambda x: str(x).split('-')[0] if x != np.nan else np.nan)"
   ]
  },
  {
   "cell_type": "code",
   "execution_count": 30,
   "metadata": {},
   "outputs": [
    {
     "data": {
      "text/plain": [
       "(455, 6)"
      ]
     },
     "execution_count": 30,
     "metadata": {},
     "output_type": "execute_result"
    }
   ],
   "source": [
    "movies_metadata['year'] = pd.to_datetime(movies_metadata['release_date'], errors='coerce').apply(lambda x: str(x).split('-')[0] if x != np.nan else np.nan)\n",
    "top_movies = movies_metadata[(movies_metadata['vote_count'] >= m) & (movies_metadata['vote_count'].notnull()) & (movies_metadata['vote_average'].notnull())][['title', 'year', 'vote_count', 'vote_average', 'popularity', 'genres']]\n",
    "top_movies['vote_count'] = top_movies['vote_count'].astype('int')\n",
    "top_movies['vote_average'] = top_movies['vote_average'].astype('int')\n",
    "top_movies.shape"
   ]
  },
  {
   "cell_type": "markdown",
   "metadata": {},
   "source": [
    "Therefore, to qualify to be considered for the chart, a movie has to have at least 2079 votes on TMDB. We also see that the average rating for a movie on TMDB is 5.916 on a scale of 10. 455 Movies qualify to be on our chart."
   ]
  },
  {
   "cell_type": "code",
   "execution_count": 31,
   "metadata": {},
   "outputs": [],
   "source": [
    "def weighted_rating(x):\n",
    "    v = x['vote_count']\n",
    "    R = x['vote_average']\n",
    "    return (v/(v+m) * R) + (m/(m+v) * C)"
   ]
  },
  {
   "cell_type": "code",
   "execution_count": 32,
   "metadata": {},
   "outputs": [],
   "source": [
    "top_movies['wr'] = top_movies.apply(weighted_rating, axis=1)"
   ]
  },
  {
   "cell_type": "code",
   "execution_count": 33,
   "metadata": {},
   "outputs": [],
   "source": [
    "top_movies = top_movies.sort_values('wr', ascending=False).head(100)"
   ]
  },
  {
   "cell_type": "code",
   "execution_count": 34,
   "metadata": {},
   "outputs": [
    {
     "data": {
      "text/html": [
       "<div>\n",
       "<style scoped>\n",
       "    .dataframe tbody tr th:only-of-type {\n",
       "        vertical-align: middle;\n",
       "    }\n",
       "\n",
       "    .dataframe tbody tr th {\n",
       "        vertical-align: top;\n",
       "    }\n",
       "\n",
       "    .dataframe thead th {\n",
       "        text-align: right;\n",
       "    }\n",
       "</style>\n",
       "<table border=\"1\" class=\"dataframe\">\n",
       "  <thead>\n",
       "    <tr style=\"text-align: right;\">\n",
       "      <th></th>\n",
       "      <th>title</th>\n",
       "      <th>year</th>\n",
       "      <th>vote_count</th>\n",
       "      <th>vote_average</th>\n",
       "      <th>popularity</th>\n",
       "      <th>genres</th>\n",
       "      <th>wr</th>\n",
       "    </tr>\n",
       "  </thead>\n",
       "  <tbody>\n",
       "    <tr>\n",
       "      <th>15480</th>\n",
       "      <td>Inception</td>\n",
       "      <td>2010</td>\n",
       "      <td>14075</td>\n",
       "      <td>8</td>\n",
       "      <td>29.1081</td>\n",
       "      <td>[Action, Thriller, Science Fiction, Mystery, A...</td>\n",
       "      <td>7.731884</td>\n",
       "    </tr>\n",
       "    <tr>\n",
       "      <th>12481</th>\n",
       "      <td>The Dark Knight</td>\n",
       "      <td>2008</td>\n",
       "      <td>12269</td>\n",
       "      <td>8</td>\n",
       "      <td>123.167</td>\n",
       "      <td>[Drama, Action, Crime, Thriller]</td>\n",
       "      <td>7.698136</td>\n",
       "    </tr>\n",
       "    <tr>\n",
       "      <th>22879</th>\n",
       "      <td>Interstellar</td>\n",
       "      <td>2014</td>\n",
       "      <td>11187</td>\n",
       "      <td>8</td>\n",
       "      <td>32.2135</td>\n",
       "      <td>[Adventure, Drama, Science Fiction]</td>\n",
       "      <td>7.673516</td>\n",
       "    </tr>\n",
       "    <tr>\n",
       "      <th>2843</th>\n",
       "      <td>Fight Club</td>\n",
       "      <td>1999</td>\n",
       "      <td>9678</td>\n",
       "      <td>8</td>\n",
       "      <td>63.8696</td>\n",
       "      <td>[Drama]</td>\n",
       "      <td>7.631612</td>\n",
       "    </tr>\n",
       "    <tr>\n",
       "      <th>4863</th>\n",
       "      <td>The Lord of the Rings: The Fellowship of the Ring</td>\n",
       "      <td>2001</td>\n",
       "      <td>8892</td>\n",
       "      <td>8</td>\n",
       "      <td>32.0707</td>\n",
       "      <td>[Adventure, Fantasy, Action]</td>\n",
       "      <td>7.605220</td>\n",
       "    </tr>\n",
       "    <tr>\n",
       "      <th>292</th>\n",
       "      <td>Pulp Fiction</td>\n",
       "      <td>1994</td>\n",
       "      <td>8670</td>\n",
       "      <td>8</td>\n",
       "      <td>140.95</td>\n",
       "      <td>[Thriller, Crime]</td>\n",
       "      <td>7.597066</td>\n",
       "    </tr>\n",
       "    <tr>\n",
       "      <th>314</th>\n",
       "      <td>The Shawshank Redemption</td>\n",
       "      <td>1994</td>\n",
       "      <td>8358</td>\n",
       "      <td>8</td>\n",
       "      <td>51.6454</td>\n",
       "      <td>[Drama, Crime]</td>\n",
       "      <td>7.585021</td>\n",
       "    </tr>\n",
       "    <tr>\n",
       "      <th>7000</th>\n",
       "      <td>The Lord of the Rings: The Return of the King</td>\n",
       "      <td>2003</td>\n",
       "      <td>8226</td>\n",
       "      <td>8</td>\n",
       "      <td>29.3244</td>\n",
       "      <td>[Adventure, Fantasy, Action]</td>\n",
       "      <td>7.579706</td>\n",
       "    </tr>\n",
       "    <tr>\n",
       "      <th>351</th>\n",
       "      <td>Forrest Gump</td>\n",
       "      <td>1994</td>\n",
       "      <td>8147</td>\n",
       "      <td>8</td>\n",
       "      <td>48.3072</td>\n",
       "      <td>[Comedy, Drama, Romance]</td>\n",
       "      <td>7.576459</td>\n",
       "    </tr>\n",
       "    <tr>\n",
       "      <th>5814</th>\n",
       "      <td>The Lord of the Rings: The Two Towers</td>\n",
       "      <td>2002</td>\n",
       "      <td>7641</td>\n",
       "      <td>8</td>\n",
       "      <td>29.4235</td>\n",
       "      <td>[Adventure, Fantasy, Action]</td>\n",
       "      <td>7.554411</td>\n",
       "    </tr>\n",
       "    <tr>\n",
       "      <th>256</th>\n",
       "      <td>Star Wars</td>\n",
       "      <td>1977</td>\n",
       "      <td>6778</td>\n",
       "      <td>8</td>\n",
       "      <td>42.1497</td>\n",
       "      <td>[Adventure, Action, Science Fiction]</td>\n",
       "      <td>7.510994</td>\n",
       "    </tr>\n",
       "    <tr>\n",
       "      <th>1225</th>\n",
       "      <td>Back to the Future</td>\n",
       "      <td>1985</td>\n",
       "      <td>6239</td>\n",
       "      <td>8</td>\n",
       "      <td>25.7785</td>\n",
       "      <td>[Adventure, Comedy, Science Fiction, Family]</td>\n",
       "      <td>7.479307</td>\n",
       "    </tr>\n",
       "    <tr>\n",
       "      <th>834</th>\n",
       "      <td>The Godfather</td>\n",
       "      <td>1972</td>\n",
       "      <td>6024</td>\n",
       "      <td>8</td>\n",
       "      <td>41.1093</td>\n",
       "      <td>[Drama, Crime]</td>\n",
       "      <td>7.465492</td>\n",
       "    </tr>\n",
       "    <tr>\n",
       "      <th>1154</th>\n",
       "      <td>The Empire Strikes Back</td>\n",
       "      <td>1980</td>\n",
       "      <td>5998</td>\n",
       "      <td>8</td>\n",
       "      <td>19.471</td>\n",
       "      <td>[Adventure, Action, Science Fiction]</td>\n",
       "      <td>7.463771</td>\n",
       "    </tr>\n",
       "    <tr>\n",
       "      <th>46</th>\n",
       "      <td>Se7en</td>\n",
       "      <td>1995</td>\n",
       "      <td>5915</td>\n",
       "      <td>8</td>\n",
       "      <td>18.4574</td>\n",
       "      <td>[Crime, Mystery, Thriller]</td>\n",
       "      <td>7.458204</td>\n",
       "    </tr>\n",
       "  </tbody>\n",
       "</table>\n",
       "</div>"
      ],
      "text/plain": [
       "                                                   title  year  vote_count  \\\n",
       "15480                                          Inception  2010       14075   \n",
       "12481                                    The Dark Knight  2008       12269   \n",
       "22879                                       Interstellar  2014       11187   \n",
       "2843                                          Fight Club  1999        9678   \n",
       "4863   The Lord of the Rings: The Fellowship of the Ring  2001        8892   \n",
       "292                                         Pulp Fiction  1994        8670   \n",
       "314                             The Shawshank Redemption  1994        8358   \n",
       "7000       The Lord of the Rings: The Return of the King  2003        8226   \n",
       "351                                         Forrest Gump  1994        8147   \n",
       "5814               The Lord of the Rings: The Two Towers  2002        7641   \n",
       "256                                            Star Wars  1977        6778   \n",
       "1225                                  Back to the Future  1985        6239   \n",
       "834                                        The Godfather  1972        6024   \n",
       "1154                             The Empire Strikes Back  1980        5998   \n",
       "46                                                 Se7en  1995        5915   \n",
       "\n",
       "       vote_average popularity  \\\n",
       "15480             8    29.1081   \n",
       "12481             8    123.167   \n",
       "22879             8    32.2135   \n",
       "2843              8    63.8696   \n",
       "4863              8    32.0707   \n",
       "292               8     140.95   \n",
       "314               8    51.6454   \n",
       "7000              8    29.3244   \n",
       "351               8    48.3072   \n",
       "5814              8    29.4235   \n",
       "256               8    42.1497   \n",
       "1225              8    25.7785   \n",
       "834               8    41.1093   \n",
       "1154              8     19.471   \n",
       "46                8    18.4574   \n",
       "\n",
       "                                                  genres        wr  \n",
       "15480  [Action, Thriller, Science Fiction, Mystery, A...  7.731884  \n",
       "12481                   [Drama, Action, Crime, Thriller]  7.698136  \n",
       "22879                [Adventure, Drama, Science Fiction]  7.673516  \n",
       "2843                                             [Drama]  7.631612  \n",
       "4863                        [Adventure, Fantasy, Action]  7.605220  \n",
       "292                                    [Thriller, Crime]  7.597066  \n",
       "314                                       [Drama, Crime]  7.585021  \n",
       "7000                        [Adventure, Fantasy, Action]  7.579706  \n",
       "351                             [Comedy, Drama, Romance]  7.576459  \n",
       "5814                        [Adventure, Fantasy, Action]  7.554411  \n",
       "256                 [Adventure, Action, Science Fiction]  7.510994  \n",
       "1225        [Adventure, Comedy, Science Fiction, Family]  7.479307  \n",
       "834                                       [Drama, Crime]  7.465492  \n",
       "1154                [Adventure, Action, Science Fiction]  7.463771  \n",
       "46                            [Crime, Mystery, Thriller]  7.458204  "
      ]
     },
     "execution_count": 34,
     "metadata": {},
     "output_type": "execute_result"
    }
   ],
   "source": [
    "top_movies.head(15)"
   ]
  },
  {
   "cell_type": "code",
   "execution_count": 35,
   "metadata": {},
   "outputs": [],
   "source": [
    "y = movies_metadata.apply(lambda x: pd.Series(x['genres']),axis=1).stack().reset_index(level=1, drop=True)\n",
    "y.name = 'genre'\n",
    "gen_data = movies_metadata.drop('genres', axis=1).join(y)"
   ]
  },
  {
   "cell_type": "markdown",
   "metadata": {},
   "source": [
    "Let us now construct our function that builds charts for particular genres. For this, we will use relax our default conditions to the 85th percentile instead of 95."
   ]
  },
  {
   "cell_type": "code",
   "execution_count": 36,
   "metadata": {},
   "outputs": [],
   "source": [
    "def top_movies_genre(genre, percentile=0.85):\n",
    "    df = gen_data[gen_data['genre'] == genre]\n",
    "    no_of_votes = df[df['vote_count'].notnull()]['vote_count'].astype('int')\n",
    "    vote_mean = df[df['vote_average'].notnull()]['vote_average'].astype('int')\n",
    "    C = vote_mean.mean()\n",
    "    m = no_of_votes.quantile(percentile)\n",
    "    \n",
    "    top_movies = df[(df['vote_count'] >= m) & (df['vote_count'].notnull()) & (df['vote_average'].notnull())][['title', 'year', 'vote_count', 'vote_average', 'popularity']]\n",
    "    top_movies['vote_count'] = top_movies['vote_count'].astype('int')\n",
    "    top_movies['vote_average'] = top_movies['vote_average'].astype('int')\n",
    "    \n",
    "    top_movies['wr'] = top_movies.apply(lambda x: (x['vote_count']/(x['vote_count']+m) * x['vote_average']) + (m/(m+x['vote_count']) * C), axis=1)\n",
    "    top_movies = top_movies.sort_values('wr', ascending=False).head(250)\n",
    "    \n",
    "    return top_movies"
   ]
  },
  {
   "cell_type": "markdown",
   "metadata": {},
   "source": [
    "Lets look upon Top 10 animation movies"
   ]
  },
  {
   "cell_type": "code",
   "execution_count": 37,
   "metadata": {},
   "outputs": [
    {
     "data": {
      "text/html": [
       "<div>\n",
       "<style scoped>\n",
       "    .dataframe tbody tr th:only-of-type {\n",
       "        vertical-align: middle;\n",
       "    }\n",
       "\n",
       "    .dataframe tbody tr th {\n",
       "        vertical-align: top;\n",
       "    }\n",
       "\n",
       "    .dataframe thead th {\n",
       "        text-align: right;\n",
       "    }\n",
       "</style>\n",
       "<table border=\"1\" class=\"dataframe\">\n",
       "  <thead>\n",
       "    <tr style=\"text-align: right;\">\n",
       "      <th></th>\n",
       "      <th>title</th>\n",
       "      <th>year</th>\n",
       "      <th>vote_count</th>\n",
       "      <th>vote_average</th>\n",
       "      <th>popularity</th>\n",
       "      <th>wr</th>\n",
       "    </tr>\n",
       "  </thead>\n",
       "  <tbody>\n",
       "    <tr>\n",
       "      <th>359</th>\n",
       "      <td>The Lion King</td>\n",
       "      <td>1994</td>\n",
       "      <td>5520</td>\n",
       "      <td>8</td>\n",
       "      <td>21.6058</td>\n",
       "      <td>7.592229</td>\n",
       "    </tr>\n",
       "    <tr>\n",
       "      <th>5481</th>\n",
       "      <td>Spirited Away</td>\n",
       "      <td>2001</td>\n",
       "      <td>3968</td>\n",
       "      <td>8</td>\n",
       "      <td>41.0489</td>\n",
       "      <td>7.481030</td>\n",
       "    </tr>\n",
       "    <tr>\n",
       "      <th>9698</th>\n",
       "      <td>Howl's Moving Castle</td>\n",
       "      <td>2004</td>\n",
       "      <td>2049</td>\n",
       "      <td>8</td>\n",
       "      <td>16.136</td>\n",
       "      <td>7.217022</td>\n",
       "    </tr>\n",
       "    <tr>\n",
       "      <th>2884</th>\n",
       "      <td>Princess Mononoke</td>\n",
       "      <td>1997</td>\n",
       "      <td>2041</td>\n",
       "      <td>8</td>\n",
       "      <td>17.1667</td>\n",
       "      <td>7.215358</td>\n",
       "    </tr>\n",
       "    <tr>\n",
       "      <th>5833</th>\n",
       "      <td>My Neighbor Totoro</td>\n",
       "      <td>1988</td>\n",
       "      <td>1730</td>\n",
       "      <td>8</td>\n",
       "      <td>13.5073</td>\n",
       "      <td>7.144693</td>\n",
       "    </tr>\n",
       "    <tr>\n",
       "      <th>13724</th>\n",
       "      <td>Up</td>\n",
       "      <td>2009</td>\n",
       "      <td>7048</td>\n",
       "      <td>7</td>\n",
       "      <td>19.3309</td>\n",
       "      <td>6.859731</td>\n",
       "    </tr>\n",
       "    <tr>\n",
       "      <th>30315</th>\n",
       "      <td>Inside Out</td>\n",
       "      <td>2015</td>\n",
       "      <td>6737</td>\n",
       "      <td>7</td>\n",
       "      <td>23.9856</td>\n",
       "      <td>6.854574</td>\n",
       "    </tr>\n",
       "    <tr>\n",
       "      <th>15472</th>\n",
       "      <td>Despicable Me</td>\n",
       "      <td>2010</td>\n",
       "      <td>6595</td>\n",
       "      <td>7</td>\n",
       "      <td>22.2745</td>\n",
       "      <td>6.852092</td>\n",
       "    </tr>\n",
       "    <tr>\n",
       "      <th>12704</th>\n",
       "      <td>WALL·E</td>\n",
       "      <td>2008</td>\n",
       "      <td>6439</td>\n",
       "      <td>7</td>\n",
       "      <td>16.0884</td>\n",
       "      <td>6.849265</td>\n",
       "    </tr>\n",
       "    <tr>\n",
       "      <th>6232</th>\n",
       "      <td>Finding Nemo</td>\n",
       "      <td>2003</td>\n",
       "      <td>6292</td>\n",
       "      <td>7</td>\n",
       "      <td>25.4978</td>\n",
       "      <td>6.846500</td>\n",
       "    </tr>\n",
       "  </tbody>\n",
       "</table>\n",
       "</div>"
      ],
      "text/plain": [
       "                      title  year  vote_count  vote_average popularity  \\\n",
       "359           The Lion King  1994        5520             8    21.6058   \n",
       "5481          Spirited Away  2001        3968             8    41.0489   \n",
       "9698   Howl's Moving Castle  2004        2049             8     16.136   \n",
       "2884      Princess Mononoke  1997        2041             8    17.1667   \n",
       "5833     My Neighbor Totoro  1988        1730             8    13.5073   \n",
       "13724                    Up  2009        7048             7    19.3309   \n",
       "30315            Inside Out  2015        6737             7    23.9856   \n",
       "15472         Despicable Me  2010        6595             7    22.2745   \n",
       "12704                WALL·E  2008        6439             7    16.0884   \n",
       "6232           Finding Nemo  2003        6292             7    25.4978   \n",
       "\n",
       "             wr  \n",
       "359    7.592229  \n",
       "5481   7.481030  \n",
       "9698   7.217022  \n",
       "2884   7.215358  \n",
       "5833   7.144693  \n",
       "13724  6.859731  \n",
       "30315  6.854574  \n",
       "15472  6.852092  \n",
       "12704  6.849265  \n",
       "6232   6.846500  "
      ]
     },
     "execution_count": 37,
     "metadata": {},
     "output_type": "execute_result"
    }
   ],
   "source": [
    "top_movies_genre('Animation').head(10)"
   ]
  },
  {
   "cell_type": "markdown",
   "metadata": {},
   "source": [
    "## Content Based Recommender\n",
    "The simple recommender that we just built provides just the top results for the genre, and it shows the the same results for every user looking for that genre.\n",
    "\n",
    "It also dosen't account for fan following towards particular director or Actors, which accounts for people also watching the movies that are less popular but from famous actors and directors.\n",
    "\n",
    "For personalized recommendations, We will create a recommendation system that computes similarity between movies based on certain features and recommend movies that are similar to user's taste. As we are using movie's metadata (or content) for creating this system, it is also referred as Content Based Filtering.\n",
    "\n",
    "We will build four Content Based Recommenders based on:\n",
    "\n",
    "- Movie overview's that particular user has liked and use latent semantic similarity for comparing similar movies\n",
    "- Adding Taglines and Movie Overviews and compare using pairwise cosine similarity\n",
    "- Movie Cast, Crew, Keywords and Genre\n"
   ]
  },
  {
   "cell_type": "markdown",
   "metadata": {},
   "source": [
    "#### Movie Description Based Recommender\n",
    "Let us first try to build a recommender using movie descriptions and taglines. We do not have a quantitative metric to judge our machine's performance so this will have to be done qualitatively."
   ]
  },
  {
   "cell_type": "code",
   "execution_count": 38,
   "metadata": {},
   "outputs": [
    {
     "data": {
      "text/html": [
       "<div>\n",
       "<style scoped>\n",
       "    .dataframe tbody tr th:only-of-type {\n",
       "        vertical-align: middle;\n",
       "    }\n",
       "\n",
       "    .dataframe tbody tr th {\n",
       "        vertical-align: top;\n",
       "    }\n",
       "\n",
       "    .dataframe thead th {\n",
       "        text-align: right;\n",
       "    }\n",
       "</style>\n",
       "<table border=\"1\" class=\"dataframe\">\n",
       "  <thead>\n",
       "    <tr style=\"text-align: right;\">\n",
       "      <th></th>\n",
       "      <th>adult</th>\n",
       "      <th>belongs_to_collection</th>\n",
       "      <th>budget</th>\n",
       "      <th>genres</th>\n",
       "      <th>homepage</th>\n",
       "      <th>id</th>\n",
       "      <th>imdb_id</th>\n",
       "      <th>original_language</th>\n",
       "      <th>original_title</th>\n",
       "      <th>overview</th>\n",
       "      <th>...</th>\n",
       "      <th>runtime</th>\n",
       "      <th>spoken_languages</th>\n",
       "      <th>status</th>\n",
       "      <th>tagline</th>\n",
       "      <th>title</th>\n",
       "      <th>video</th>\n",
       "      <th>vote_average</th>\n",
       "      <th>vote_count</th>\n",
       "      <th>movieId</th>\n",
       "      <th>year</th>\n",
       "    </tr>\n",
       "  </thead>\n",
       "  <tbody>\n",
       "    <tr>\n",
       "      <th>0</th>\n",
       "      <td>False</td>\n",
       "      <td>{'id': 10194, 'name': 'Toy Story Collection', ...</td>\n",
       "      <td>30000000</td>\n",
       "      <td>[Animation, Comedy, Family]</td>\n",
       "      <td>http://toystory.disney.com/toy-story</td>\n",
       "      <td>862</td>\n",
       "      <td>tt0114709</td>\n",
       "      <td>en</td>\n",
       "      <td>Toy Story</td>\n",
       "      <td>Led by Woody, Andy's toys live happily in his ...</td>\n",
       "      <td>...</td>\n",
       "      <td>81.0</td>\n",
       "      <td>[{'iso_639_1': 'en', 'name': 'English'}]</td>\n",
       "      <td>Released</td>\n",
       "      <td>NaN</td>\n",
       "      <td>Toy Story</td>\n",
       "      <td>False</td>\n",
       "      <td>7.7</td>\n",
       "      <td>5415.0</td>\n",
       "      <td>1</td>\n",
       "      <td>1995</td>\n",
       "    </tr>\n",
       "    <tr>\n",
       "      <th>1</th>\n",
       "      <td>False</td>\n",
       "      <td>NaN</td>\n",
       "      <td>65000000</td>\n",
       "      <td>[Adventure, Fantasy, Family]</td>\n",
       "      <td>NaN</td>\n",
       "      <td>8844</td>\n",
       "      <td>tt0113497</td>\n",
       "      <td>en</td>\n",
       "      <td>Jumanji</td>\n",
       "      <td>When siblings Judy and Peter discover an encha...</td>\n",
       "      <td>...</td>\n",
       "      <td>104.0</td>\n",
       "      <td>[{'iso_639_1': 'en', 'name': 'English'}, {'iso...</td>\n",
       "      <td>Released</td>\n",
       "      <td>Roll the dice and unleash the excitement!</td>\n",
       "      <td>Jumanji</td>\n",
       "      <td>False</td>\n",
       "      <td>6.9</td>\n",
       "      <td>2413.0</td>\n",
       "      <td>2</td>\n",
       "      <td>1995</td>\n",
       "    </tr>\n",
       "    <tr>\n",
       "      <th>2</th>\n",
       "      <td>False</td>\n",
       "      <td>{'id': 119050, 'name': 'Grumpy Old Men Collect...</td>\n",
       "      <td>0</td>\n",
       "      <td>[Romance, Comedy]</td>\n",
       "      <td>NaN</td>\n",
       "      <td>15602</td>\n",
       "      <td>tt0113228</td>\n",
       "      <td>en</td>\n",
       "      <td>Grumpier Old Men</td>\n",
       "      <td>A family wedding reignites the ancient feud be...</td>\n",
       "      <td>...</td>\n",
       "      <td>101.0</td>\n",
       "      <td>[{'iso_639_1': 'en', 'name': 'English'}]</td>\n",
       "      <td>Released</td>\n",
       "      <td>Still Yelling. Still Fighting. Still Ready for...</td>\n",
       "      <td>Grumpier Old Men</td>\n",
       "      <td>False</td>\n",
       "      <td>6.5</td>\n",
       "      <td>92.0</td>\n",
       "      <td>3</td>\n",
       "      <td>1995</td>\n",
       "    </tr>\n",
       "    <tr>\n",
       "      <th>3</th>\n",
       "      <td>False</td>\n",
       "      <td>NaN</td>\n",
       "      <td>16000000</td>\n",
       "      <td>[Comedy, Drama, Romance]</td>\n",
       "      <td>NaN</td>\n",
       "      <td>31357</td>\n",
       "      <td>tt0114885</td>\n",
       "      <td>en</td>\n",
       "      <td>Waiting to Exhale</td>\n",
       "      <td>Cheated on, mistreated and stepped on, the wom...</td>\n",
       "      <td>...</td>\n",
       "      <td>127.0</td>\n",
       "      <td>[{'iso_639_1': 'en', 'name': 'English'}]</td>\n",
       "      <td>Released</td>\n",
       "      <td>Friends are the people who let you be yourself...</td>\n",
       "      <td>Waiting to Exhale</td>\n",
       "      <td>False</td>\n",
       "      <td>6.1</td>\n",
       "      <td>34.0</td>\n",
       "      <td>4</td>\n",
       "      <td>1995</td>\n",
       "    </tr>\n",
       "    <tr>\n",
       "      <th>4</th>\n",
       "      <td>False</td>\n",
       "      <td>{'id': 96871, 'name': 'Father of the Bride Col...</td>\n",
       "      <td>0</td>\n",
       "      <td>[Comedy]</td>\n",
       "      <td>NaN</td>\n",
       "      <td>11862</td>\n",
       "      <td>tt0113041</td>\n",
       "      <td>en</td>\n",
       "      <td>Father of the Bride Part II</td>\n",
       "      <td>Just when George Banks has recovered from his ...</td>\n",
       "      <td>...</td>\n",
       "      <td>106.0</td>\n",
       "      <td>[{'iso_639_1': 'en', 'name': 'English'}]</td>\n",
       "      <td>Released</td>\n",
       "      <td>Just When His World Is Back To Normal... He's ...</td>\n",
       "      <td>Father of the Bride Part II</td>\n",
       "      <td>False</td>\n",
       "      <td>5.7</td>\n",
       "      <td>173.0</td>\n",
       "      <td>5</td>\n",
       "      <td>1995</td>\n",
       "    </tr>\n",
       "  </tbody>\n",
       "</table>\n",
       "<p>5 rows × 26 columns</p>\n",
       "</div>"
      ],
      "text/plain": [
       "   adult                              belongs_to_collection    budget  \\\n",
       "0  False  {'id': 10194, 'name': 'Toy Story Collection', ...  30000000   \n",
       "1  False                                                NaN  65000000   \n",
       "2  False  {'id': 119050, 'name': 'Grumpy Old Men Collect...         0   \n",
       "3  False                                                NaN  16000000   \n",
       "4  False  {'id': 96871, 'name': 'Father of the Bride Col...         0   \n",
       "\n",
       "                         genres                              homepage     id  \\\n",
       "0   [Animation, Comedy, Family]  http://toystory.disney.com/toy-story    862   \n",
       "1  [Adventure, Fantasy, Family]                                   NaN   8844   \n",
       "2             [Romance, Comedy]                                   NaN  15602   \n",
       "3      [Comedy, Drama, Romance]                                   NaN  31357   \n",
       "4                      [Comedy]                                   NaN  11862   \n",
       "\n",
       "     imdb_id original_language               original_title  \\\n",
       "0  tt0114709                en                    Toy Story   \n",
       "1  tt0113497                en                      Jumanji   \n",
       "2  tt0113228                en             Grumpier Old Men   \n",
       "3  tt0114885                en            Waiting to Exhale   \n",
       "4  tt0113041                en  Father of the Bride Part II   \n",
       "\n",
       "                                            overview  ...  runtime  \\\n",
       "0  Led by Woody, Andy's toys live happily in his ...  ...     81.0   \n",
       "1  When siblings Judy and Peter discover an encha...  ...    104.0   \n",
       "2  A family wedding reignites the ancient feud be...  ...    101.0   \n",
       "3  Cheated on, mistreated and stepped on, the wom...  ...    127.0   \n",
       "4  Just when George Banks has recovered from his ...  ...    106.0   \n",
       "\n",
       "                                    spoken_languages    status  \\\n",
       "0           [{'iso_639_1': 'en', 'name': 'English'}]  Released   \n",
       "1  [{'iso_639_1': 'en', 'name': 'English'}, {'iso...  Released   \n",
       "2           [{'iso_639_1': 'en', 'name': 'English'}]  Released   \n",
       "3           [{'iso_639_1': 'en', 'name': 'English'}]  Released   \n",
       "4           [{'iso_639_1': 'en', 'name': 'English'}]  Released   \n",
       "\n",
       "                                             tagline  \\\n",
       "0                                                NaN   \n",
       "1          Roll the dice and unleash the excitement!   \n",
       "2  Still Yelling. Still Fighting. Still Ready for...   \n",
       "3  Friends are the people who let you be yourself...   \n",
       "4  Just When His World Is Back To Normal... He's ...   \n",
       "\n",
       "                         title  video  vote_average vote_count movieId  year  \n",
       "0                    Toy Story  False           7.7     5415.0       1  1995  \n",
       "1                      Jumanji  False           6.9     2413.0       2  1995  \n",
       "2             Grumpier Old Men  False           6.5       92.0       3  1995  \n",
       "3            Waiting to Exhale  False           6.1       34.0       4  1995  \n",
       "4  Father of the Bride Part II  False           5.7      173.0       5  1995  \n",
       "\n",
       "[5 rows x 26 columns]"
      ]
     },
     "execution_count": 38,
     "metadata": {},
     "output_type": "execute_result"
    }
   ],
   "source": [
    "movies_metadata.head()"
   ]
  },
  {
   "cell_type": "markdown",
   "metadata": {},
   "source": [
    "For our first attempt in building Description based recommendation system,\n",
    "- We will first take list of movies which a user has watched\n",
    "- Process the description of the movie using NLP techniques like removing stopwords and punctuations, applying Tokenization, lemmatization and stemming, and return a clean list of words\n",
    "- Using similar techniques, we will process the description/overview of movie in our movies_metadata for the top 80 percentile of movies\n",
    "- In the next step, we will calculate the similarity between the combined overview of the movies user has watched and the overview of the movies user hasn't watched\n",
    "- To get this similarity, we will use UMBC's API service to provide latent semantic similarity between 2 scentences. The link to which can be found [here](http://swoogle.umbc.edu/SimService/api.html)"
   ]
  },
  {
   "cell_type": "markdown",
   "metadata": {},
   "source": [
    "Lets get the top movies that a user has rated more than average"
   ]
  },
  {
   "cell_type": "code",
   "execution_count": 39,
   "metadata": {},
   "outputs": [
    {
     "data": {
      "text/html": [
       "<div>\n",
       "<style scoped>\n",
       "    .dataframe tbody tr th:only-of-type {\n",
       "        vertical-align: middle;\n",
       "    }\n",
       "\n",
       "    .dataframe tbody tr th {\n",
       "        vertical-align: top;\n",
       "    }\n",
       "\n",
       "    .dataframe thead th {\n",
       "        text-align: right;\n",
       "    }\n",
       "</style>\n",
       "<table border=\"1\" class=\"dataframe\">\n",
       "  <thead>\n",
       "    <tr style=\"text-align: right;\">\n",
       "      <th></th>\n",
       "      <th>userId</th>\n",
       "      <th>movieId</th>\n",
       "      <th>rating</th>\n",
       "      <th>timestamp</th>\n",
       "    </tr>\n",
       "  </thead>\n",
       "  <tbody>\n",
       "    <tr>\n",
       "      <th>0</th>\n",
       "      <td>1</td>\n",
       "      <td>31</td>\n",
       "      <td>2.5</td>\n",
       "      <td>1260759144</td>\n",
       "    </tr>\n",
       "    <tr>\n",
       "      <th>1</th>\n",
       "      <td>1</td>\n",
       "      <td>1029</td>\n",
       "      <td>3.0</td>\n",
       "      <td>1260759179</td>\n",
       "    </tr>\n",
       "    <tr>\n",
       "      <th>2</th>\n",
       "      <td>1</td>\n",
       "      <td>1061</td>\n",
       "      <td>3.0</td>\n",
       "      <td>1260759182</td>\n",
       "    </tr>\n",
       "    <tr>\n",
       "      <th>3</th>\n",
       "      <td>1</td>\n",
       "      <td>1129</td>\n",
       "      <td>2.0</td>\n",
       "      <td>1260759185</td>\n",
       "    </tr>\n",
       "    <tr>\n",
       "      <th>4</th>\n",
       "      <td>1</td>\n",
       "      <td>1172</td>\n",
       "      <td>4.0</td>\n",
       "      <td>1260759205</td>\n",
       "    </tr>\n",
       "  </tbody>\n",
       "</table>\n",
       "</div>"
      ],
      "text/plain": [
       "   userId  movieId  rating   timestamp\n",
       "0       1       31     2.5  1260759144\n",
       "1       1     1029     3.0  1260759179\n",
       "2       1     1061     3.0  1260759182\n",
       "3       1     1129     2.0  1260759185\n",
       "4       1     1172     4.0  1260759205"
      ]
     },
     "execution_count": 39,
     "metadata": {},
     "output_type": "execute_result"
    }
   ],
   "source": [
    "ratings = pd.read_csv('ratings.csv')\n",
    "ratings.head()"
   ]
  },
  {
   "cell_type": "code",
   "execution_count": 40,
   "metadata": {},
   "outputs": [
    {
     "data": {
      "text/plain": [
       "[1029, 1061, 1172, 1339, 1953, 2105, 2150, 3671]"
      ]
     },
     "execution_count": 40,
     "metadata": {},
     "output_type": "execute_result"
    }
   ],
   "source": [
    "#Get movieId for above average ratings for userId 1\n",
    "ratings[(ratings['userId']==1) & (ratings['rating']>2.5)]['movieId'].tolist()"
   ]
  },
  {
   "cell_type": "code",
   "execution_count": 41,
   "metadata": {},
   "outputs": [],
   "source": [
    "def text_process(mess):\n",
    "    \"\"\"\n",
    "    1. remove punc\n",
    "    2. remove stop words\n",
    "    3. apply lemmatization\n",
    "    4. apply stemmization\n",
    "    5. return list clean overview\n",
    "    \n",
    "    \"\"\"\n",
    "    #Remove Stopwords and punctuations\n",
    "    nopunc = [char for char in mess if char not in string.punctuation]\n",
    "    stopwords = nltk.corpus.stopwords.words('english')\n",
    "    nopunc = ''.join(nopunc)\n",
    "    \n",
    "    #Apply tokenization\n",
    "    tokenized_list = []\n",
    "    tokenized_list =  [word for word in nopunc.split() if word.lower() not in stopwords]\n",
    "    \n",
    "    \n",
    "    wordnet_lemmatizer = WordNetLemmatizer()\n",
    "    snowball_stemmer = SnowballStemmer('english')\n",
    "\n",
    "    #Applying Lemmatization\n",
    "    \n",
    "    lemmatized_words = []\n",
    "    for word in tokenized_list:\n",
    "        lemmatized_words.append(wordnet_lemmatizer.lemmatize(word))\n",
    "\n",
    "   #Applying Stemmization\n",
    "   \n",
    "    cleaned_list  = []\n",
    "    for word in lemmatized_words:\n",
    "        cleaned_list.append(snowball_stemmer.stem(word))\n",
    "    return ' '.join(cleaned_list)"
   ]
  },
  {
   "cell_type": "code",
   "execution_count": 42,
   "metadata": {},
   "outputs": [],
   "source": [
    "movies_metadata['overview'] = movies_metadata['overview'].astype(str)"
   ]
  },
  {
   "cell_type": "code",
   "execution_count": 43,
   "metadata": {},
   "outputs": [],
   "source": [
    "movies_metadata['pro_overview'] = movies_metadata['overview'].apply(text_process)"
   ]
  },
  {
   "cell_type": "code",
   "execution_count": 44,
   "metadata": {},
   "outputs": [],
   "source": [
    "percentile = 0.90\n",
    "no_of_votes = movies_metadata[movies_metadata['vote_count'].notnull()]['vote_count'].astype('int')\n",
    "vote_mean = movies_metadata[movies_metadata['vote_average'].notnull()]['vote_average'].astype('int')\n",
    "C = vote_mean.mean()\n",
    "m = no_of_votes.quantile(percentile)\n",
    "\n",
    "top_movies = movies_metadata[(movies_metadata['vote_count'] >= m) & (movies_metadata['vote_count'].notnull()) & (movies_metadata['vote_average'].notnull())][['movieId','title', 'year', 'vote_count', 'vote_average', 'popularity','pro_overview']]\n",
    "top_movies['vote_count'] = top_movies['vote_count'].astype('int')\n",
    "top_movies['vote_average'] = top_movies['vote_average'].astype('int')"
   ]
  },
  {
   "cell_type": "code",
   "execution_count": 45,
   "metadata": {},
   "outputs": [
    {
     "data": {
      "text/html": [
       "<div>\n",
       "<style scoped>\n",
       "    .dataframe tbody tr th:only-of-type {\n",
       "        vertical-align: middle;\n",
       "    }\n",
       "\n",
       "    .dataframe tbody tr th {\n",
       "        vertical-align: top;\n",
       "    }\n",
       "\n",
       "    .dataframe thead th {\n",
       "        text-align: right;\n",
       "    }\n",
       "</style>\n",
       "<table border=\"1\" class=\"dataframe\">\n",
       "  <thead>\n",
       "    <tr style=\"text-align: right;\">\n",
       "      <th></th>\n",
       "      <th>movieId</th>\n",
       "      <th>title</th>\n",
       "      <th>year</th>\n",
       "      <th>vote_count</th>\n",
       "      <th>vote_average</th>\n",
       "      <th>popularity</th>\n",
       "      <th>pro_overview</th>\n",
       "    </tr>\n",
       "  </thead>\n",
       "  <tbody>\n",
       "    <tr>\n",
       "      <th>15480</th>\n",
       "      <td>79132</td>\n",
       "      <td>Inception</td>\n",
       "      <td>2010</td>\n",
       "      <td>14075</td>\n",
       "      <td>8</td>\n",
       "      <td>29.1081</td>\n",
       "      <td>cobb skill thief commit corpor espionag infilt...</td>\n",
       "    </tr>\n",
       "    <tr>\n",
       "      <th>12481</th>\n",
       "      <td>58559</td>\n",
       "      <td>The Dark Knight</td>\n",
       "      <td>2008</td>\n",
       "      <td>12269</td>\n",
       "      <td>8</td>\n",
       "      <td>123.167</td>\n",
       "      <td>batman rais stake war crime help lt jim gordon...</td>\n",
       "    </tr>\n",
       "    <tr>\n",
       "      <th>14551</th>\n",
       "      <td>72998</td>\n",
       "      <td>Avatar</td>\n",
       "      <td>2009</td>\n",
       "      <td>12114</td>\n",
       "      <td>7</td>\n",
       "      <td>185.071</td>\n",
       "      <td>22nd centuri parapleg marin dispatch moon pand...</td>\n",
       "    </tr>\n",
       "    <tr>\n",
       "      <th>17818</th>\n",
       "      <td>89745</td>\n",
       "      <td>The Avengers</td>\n",
       "      <td>2012</td>\n",
       "      <td>12000</td>\n",
       "      <td>7</td>\n",
       "      <td>89.8876</td>\n",
       "      <td>unexpect enemi emerg threaten global safeti se...</td>\n",
       "    </tr>\n",
       "    <tr>\n",
       "      <th>26564</th>\n",
       "      <td>122904</td>\n",
       "      <td>Deadpool</td>\n",
       "      <td>2016</td>\n",
       "      <td>11444</td>\n",
       "      <td>7</td>\n",
       "      <td>187.86</td>\n",
       "      <td>deadpool tell origin stori former special forc...</td>\n",
       "    </tr>\n",
       "  </tbody>\n",
       "</table>\n",
       "</div>"
      ],
      "text/plain": [
       "       movieId            title  year  vote_count  vote_average popularity  \\\n",
       "15480    79132        Inception  2010       14075             8    29.1081   \n",
       "12481    58559  The Dark Knight  2008       12269             8    123.167   \n",
       "14551    72998           Avatar  2009       12114             7    185.071   \n",
       "17818    89745     The Avengers  2012       12000             7    89.8876   \n",
       "26564   122904         Deadpool  2016       11444             7     187.86   \n",
       "\n",
       "                                            pro_overview  \n",
       "15480  cobb skill thief commit corpor espionag infilt...  \n",
       "12481  batman rais stake war crime help lt jim gordon...  \n",
       "14551  22nd centuri parapleg marin dispatch moon pand...  \n",
       "17818  unexpect enemi emerg threaten global safeti se...  \n",
       "26564  deadpool tell origin stori former special forc...  "
      ]
     },
     "execution_count": 45,
     "metadata": {},
     "output_type": "execute_result"
    }
   ],
   "source": [
    "top_movies.sort_values(by='vote_count',ascending=False).head()"
   ]
  },
  {
   "cell_type": "code",
   "execution_count": 46,
   "metadata": {},
   "outputs": [
    {
     "data": {
      "text/plain": [
       "910"
      ]
     },
     "execution_count": 46,
     "metadata": {},
     "output_type": "execute_result"
    }
   ],
   "source": [
    "len(top_movies)"
   ]
  },
  {
   "cell_type": "code",
   "execution_count": 47,
   "metadata": {},
   "outputs": [],
   "source": [
    "sss_url = \"http://swoogle.umbc.edu/SimService/GetSimilarity\"\n",
    "\n",
    "def sss(s1, s2, type='relation', corpus='webbase'):\n",
    "    try:\n",
    "        response = get(sss_url, params={'operation':'api','phrase1':s1,'phrase2':s2,'type':type,'corpus':corpus})\n",
    "        return float(response.text.strip())\n",
    "    except:\n",
    "        #print ('Error in getting similarity for %s: %s' % ((s1,s2), response))\n",
    "        return 0.0"
   ]
  },
  {
   "cell_type": "code",
   "execution_count": 48,
   "metadata": {},
   "outputs": [],
   "source": [
    "user_1_movies=[]\n",
    "for movieId in ratings[(ratings['userId']==1) & (ratings['rating']>2.5)]['movieId'].tolist():\n",
    "    user_1_movies.append(movies_metadata[movies_metadata['movieId']==movieId]['pro_overview'].iloc[0])\n",
    "user_1_movies = ' '.join(user_1_movies)"
   ]
  },
  {
   "cell_type": "code",
   "execution_count": 49,
   "metadata": {},
   "outputs": [
    {
     "data": {
      "text/plain": [
       "'dumbo babi eleph born overs ear suprem lack confid thank even diminut buddi timothi mous pintsiz pachyderm learn surmount obstacl two gangster seek reveng state jail worker stay youth prison sexual abus sensat court hear take place charg crime move drama director barri levinson filmmak recal childhood fell love movi villag theater form deep friendship theater projectionist dracula leaf captiv jonathan harker transylvania london search mina harker spit imag dracula longdead wife elisabeta obsess vampir hunter dr van hels set end mad tough narcot detect popey doyl hot pursuit suav french drug dealer may key huge heroinsmuggl oper kevin flynn search proof invent hit video game digit laser find insid grid program suffer tyrann rule master control program help tron secur program flynn seek free grid mcp miseri brought small group sho kalahari desert form cola bottl quest throw evil object edg earth xixo encount western civil haphazard doctor tyran despot town – everyon seem name johnson – way railroad order grab land hedley lemar polit connect nasti person send henchman make town unliv sheriff kill town demand new sheriff governor hedley convinc send town first black sheriff west'"
      ]
     },
     "execution_count": 49,
     "metadata": {},
     "output_type": "execute_result"
    }
   ],
   "source": [
    "user_1_movies"
   ]
  },
  {
   "cell_type": "code",
   "execution_count": 50,
   "metadata": {},
   "outputs": [
    {
     "name": "stdout",
     "output_type": "stream",
     "text": [
      "Wall time: 4min 42s\n"
     ]
    }
   ],
   "source": [
    "%%time\n",
    "top_movies['similarity'] = top_movies['pro_overview'].apply(lambda x:sss(user_1_movies,x))"
   ]
  },
  {
   "cell_type": "code",
   "execution_count": 51,
   "metadata": {},
   "outputs": [
    {
     "data": {
      "text/html": [
       "<div>\n",
       "<style scoped>\n",
       "    .dataframe tbody tr th:only-of-type {\n",
       "        vertical-align: middle;\n",
       "    }\n",
       "\n",
       "    .dataframe tbody tr th {\n",
       "        vertical-align: top;\n",
       "    }\n",
       "\n",
       "    .dataframe thead th {\n",
       "        text-align: right;\n",
       "    }\n",
       "</style>\n",
       "<table border=\"1\" class=\"dataframe\">\n",
       "  <thead>\n",
       "    <tr style=\"text-align: right;\">\n",
       "      <th></th>\n",
       "      <th>movieId</th>\n",
       "      <th>title</th>\n",
       "      <th>year</th>\n",
       "      <th>vote_count</th>\n",
       "      <th>vote_average</th>\n",
       "      <th>popularity</th>\n",
       "      <th>pro_overview</th>\n",
       "      <th>similarity</th>\n",
       "    </tr>\n",
       "  </thead>\n",
       "  <tbody>\n",
       "    <tr>\n",
       "      <th>0</th>\n",
       "      <td>1</td>\n",
       "      <td>Toy Story</td>\n",
       "      <td>1995</td>\n",
       "      <td>5415</td>\n",
       "      <td>7</td>\n",
       "      <td>21.9469</td>\n",
       "      <td>led woodi andi toy live happili room andi birt...</td>\n",
       "      <td>0.234470</td>\n",
       "    </tr>\n",
       "    <tr>\n",
       "      <th>1</th>\n",
       "      <td>2</td>\n",
       "      <td>Jumanji</td>\n",
       "      <td>1995</td>\n",
       "      <td>2413</td>\n",
       "      <td>6</td>\n",
       "      <td>17.0155</td>\n",
       "      <td>sibl judi peter discov enchant board game open...</td>\n",
       "      <td>0.270828</td>\n",
       "    </tr>\n",
       "    <tr>\n",
       "      <th>5</th>\n",
       "      <td>6</td>\n",
       "      <td>Heat</td>\n",
       "      <td>1995</td>\n",
       "      <td>1886</td>\n",
       "      <td>7</td>\n",
       "      <td>17.9249</td>\n",
       "      <td>obsess master thief neil mccauley lead topnotc...</td>\n",
       "      <td>0.221906</td>\n",
       "    </tr>\n",
       "    <tr>\n",
       "      <th>9</th>\n",
       "      <td>10</td>\n",
       "      <td>GoldenEye</td>\n",
       "      <td>1995</td>\n",
       "      <td>1194</td>\n",
       "      <td>6</td>\n",
       "      <td>14.686</td>\n",
       "      <td>jame bond must unmask mysteri head janus syndi...</td>\n",
       "      <td>0.153685</td>\n",
       "    </tr>\n",
       "    <tr>\n",
       "      <th>15</th>\n",
       "      <td>16</td>\n",
       "      <td>Casino</td>\n",
       "      <td>1995</td>\n",
       "      <td>1343</td>\n",
       "      <td>7</td>\n",
       "      <td>10.1374</td>\n",
       "      <td>life gambl paradis – las vega – dark mafia und...</td>\n",
       "      <td>0.092047</td>\n",
       "    </tr>\n",
       "  </tbody>\n",
       "</table>\n",
       "</div>"
      ],
      "text/plain": [
       "    movieId      title  year  vote_count  vote_average popularity  \\\n",
       "0         1  Toy Story  1995        5415             7    21.9469   \n",
       "1         2    Jumanji  1995        2413             6    17.0155   \n",
       "5         6       Heat  1995        1886             7    17.9249   \n",
       "9        10  GoldenEye  1995        1194             6     14.686   \n",
       "15       16     Casino  1995        1343             7    10.1374   \n",
       "\n",
       "                                         pro_overview  similarity  \n",
       "0   led woodi andi toy live happili room andi birt...    0.234470  \n",
       "1   sibl judi peter discov enchant board game open...    0.270828  \n",
       "5   obsess master thief neil mccauley lead topnotc...    0.221906  \n",
       "9   jame bond must unmask mysteri head janus syndi...    0.153685  \n",
       "15  life gambl paradis – las vega – dark mafia und...    0.092047  "
      ]
     },
     "execution_count": 51,
     "metadata": {},
     "output_type": "execute_result"
    }
   ],
   "source": [
    "top_movies.head()"
   ]
  },
  {
   "cell_type": "code",
   "execution_count": 52,
   "metadata": {},
   "outputs": [
    {
     "data": {
      "text/html": [
       "<div>\n",
       "<style scoped>\n",
       "    .dataframe tbody tr th:only-of-type {\n",
       "        vertical-align: middle;\n",
       "    }\n",
       "\n",
       "    .dataframe tbody tr th {\n",
       "        vertical-align: top;\n",
       "    }\n",
       "\n",
       "    .dataframe thead th {\n",
       "        text-align: right;\n",
       "    }\n",
       "</style>\n",
       "<table border=\"1\" class=\"dataframe\">\n",
       "  <thead>\n",
       "    <tr style=\"text-align: right;\">\n",
       "      <th></th>\n",
       "      <th>title</th>\n",
       "      <th>similarity</th>\n",
       "      <th>vote_count</th>\n",
       "      <th>vote_average</th>\n",
       "    </tr>\n",
       "  </thead>\n",
       "  <tbody>\n",
       "    <tr>\n",
       "      <th>1000</th>\n",
       "      <td>Dumbo</td>\n",
       "      <td>0.587255</td>\n",
       "      <td>1206</td>\n",
       "      <td>6</td>\n",
       "    </tr>\n",
       "    <tr>\n",
       "      <th>20971</th>\n",
       "      <td>Epic</td>\n",
       "      <td>0.365386</td>\n",
       "      <td>1143</td>\n",
       "      <td>6</td>\n",
       "    </tr>\n",
       "    <tr>\n",
       "      <th>892</th>\n",
       "      <td>The Wizard of Oz</td>\n",
       "      <td>0.362549</td>\n",
       "      <td>1689</td>\n",
       "      <td>7</td>\n",
       "    </tr>\n",
       "    <tr>\n",
       "      <th>18973</th>\n",
       "      <td>Snow White and the Huntsman</td>\n",
       "      <td>0.361434</td>\n",
       "      <td>3183</td>\n",
       "      <td>5</td>\n",
       "    </tr>\n",
       "    <tr>\n",
       "      <th>24939</th>\n",
       "      <td>Dumb and Dumber To</td>\n",
       "      <td>0.361130</td>\n",
       "      <td>1140</td>\n",
       "      <td>5</td>\n",
       "    </tr>\n",
       "    <tr>\n",
       "      <th>16279</th>\n",
       "      <td>TRON: Legacy</td>\n",
       "      <td>0.356697</td>\n",
       "      <td>2895</td>\n",
       "      <td>6</td>\n",
       "    </tr>\n",
       "    <tr>\n",
       "      <th>9430</th>\n",
       "      <td>Oldboy</td>\n",
       "      <td>0.340289</td>\n",
       "      <td>2000</td>\n",
       "      <td>8</td>\n",
       "    </tr>\n",
       "    <tr>\n",
       "      <th>18499</th>\n",
       "      <td>Chronicle</td>\n",
       "      <td>0.340005</td>\n",
       "      <td>1965</td>\n",
       "      <td>6</td>\n",
       "    </tr>\n",
       "    <tr>\n",
       "      <th>19825</th>\n",
       "      <td>Rise of the Guardians</td>\n",
       "      <td>0.337160</td>\n",
       "      <td>1981</td>\n",
       "      <td>7</td>\n",
       "    </tr>\n",
       "    <tr>\n",
       "      <th>24278</th>\n",
       "      <td>Dracula Untold</td>\n",
       "      <td>0.333092</td>\n",
       "      <td>2439</td>\n",
       "      <td>6</td>\n",
       "    </tr>\n",
       "  </tbody>\n",
       "</table>\n",
       "</div>"
      ],
      "text/plain": [
       "                             title  similarity  vote_count  vote_average\n",
       "1000                         Dumbo    0.587255        1206             6\n",
       "20971                         Epic    0.365386        1143             6\n",
       "892               The Wizard of Oz    0.362549        1689             7\n",
       "18973  Snow White and the Huntsman    0.361434        3183             5\n",
       "24939           Dumb and Dumber To    0.361130        1140             5\n",
       "16279                 TRON: Legacy    0.356697        2895             6\n",
       "9430                        Oldboy    0.340289        2000             8\n",
       "18499                    Chronicle    0.340005        1965             6\n",
       "19825        Rise of the Guardians    0.337160        1981             7\n",
       "24278               Dracula Untold    0.333092        2439             6"
      ]
     },
     "execution_count": 52,
     "metadata": {},
     "output_type": "execute_result"
    }
   ],
   "source": [
    "top_movies[top_movies.movieId.isin(ratings[ratings['userId']!=1]['movieId'].tolist())][['title','similarity','vote_count','vote_average']].sort_values(by='similarity',ascending=False).head(10)"
   ]
  },
  {
   "cell_type": "code",
   "execution_count": 53,
   "metadata": {},
   "outputs": [],
   "source": [
    "#lets create a recommender based on the above method"
   ]
  },
  {
   "cell_type": "code",
   "execution_count": 54,
   "metadata": {},
   "outputs": [],
   "source": [
    "def user_taste_recommender(userId,percentile = 0.90):\n",
    "    no_of_votes = movies_metadata[movies_metadata['vote_count'].notnull()]['vote_count'].astype('int')\n",
    "    vote_mean = movies_metadata[movies_metadata['vote_average'].notnull()]['vote_average'].astype('int')\n",
    "    C = vote_mean.mean()\n",
    "    m = no_of_votes.quantile(percentile)\n",
    "\n",
    "    top_movies = movies_metadata[(movies_metadata['vote_count'] >= m) & (movies_metadata['vote_count'].notnull()) & (movies_metadata['vote_average'].notnull())][['movieId','title', 'year', 'vote_count', 'vote_average', 'popularity','pro_overview']]\n",
    "    top_movies['vote_count'] = top_movies['vote_count'].astype('int')\n",
    "    top_movies['vote_average'] = top_movies['vote_average'].astype('int')\n",
    "    \n",
    "    user_movies=[]\n",
    "    for movieId in ratings[(ratings['userId']==userId) & (ratings['rating']>2.5)]['movieId'].tolist():\n",
    "        user_movies.append(movies_metadata[movies_metadata['movieId']==movieId]['pro_overview'].iloc[0])\n",
    "    user_movies = ' '.join(user_movies)\n",
    "    \n",
    "    top_movies['similarity'] = top_movies['pro_overview'].apply(lambda x:sss(user_movies,x))\n",
    "    top_movies = top_movies[top_movies.movieId.isin(ratings[ratings['userId']!=userId]['movieId'].tolist())][['title','similarity','vote_count','vote_average']].sort_values(by='similarity',ascending=False).head(10)\n",
    "    \n",
    "    return top_movies"
   ]
  },
  {
   "cell_type": "code",
   "execution_count": 55,
   "metadata": {},
   "outputs": [
    {
     "data": {
      "text/html": [
       "<div>\n",
       "<style scoped>\n",
       "    .dataframe tbody tr th:only-of-type {\n",
       "        vertical-align: middle;\n",
       "    }\n",
       "\n",
       "    .dataframe tbody tr th {\n",
       "        vertical-align: top;\n",
       "    }\n",
       "\n",
       "    .dataframe thead th {\n",
       "        text-align: right;\n",
       "    }\n",
       "</style>\n",
       "<table border=\"1\" class=\"dataframe\">\n",
       "  <thead>\n",
       "    <tr style=\"text-align: right;\">\n",
       "      <th></th>\n",
       "      <th>title</th>\n",
       "      <th>similarity</th>\n",
       "      <th>vote_count</th>\n",
       "      <th>vote_average</th>\n",
       "    </tr>\n",
       "  </thead>\n",
       "  <tbody>\n",
       "    <tr>\n",
       "      <th>600</th>\n",
       "      <td>Fargo</td>\n",
       "      <td>0.622953</td>\n",
       "      <td>2080</td>\n",
       "      <td>7</td>\n",
       "    </tr>\n",
       "    <tr>\n",
       "      <th>31</th>\n",
       "      <td>Twelve Monkeys</td>\n",
       "      <td>0.619132</td>\n",
       "      <td>2470</td>\n",
       "      <td>7</td>\n",
       "    </tr>\n",
       "    <tr>\n",
       "      <th>760</th>\n",
       "      <td>Independence Day</td>\n",
       "      <td>0.589538</td>\n",
       "      <td>3334</td>\n",
       "      <td>6</td>\n",
       "    </tr>\n",
       "    <tr>\n",
       "      <th>0</th>\n",
       "      <td>Toy Story</td>\n",
       "      <td>0.589521</td>\n",
       "      <td>5415</td>\n",
       "      <td>7</td>\n",
       "    </tr>\n",
       "    <tr>\n",
       "      <th>716</th>\n",
       "      <td>The Rock</td>\n",
       "      <td>0.585872</td>\n",
       "      <td>1474</td>\n",
       "      <td>6</td>\n",
       "    </tr>\n",
       "    <tr>\n",
       "      <th>638</th>\n",
       "      <td>Mission: Impossible</td>\n",
       "      <td>0.572218</td>\n",
       "      <td>2677</td>\n",
       "      <td>6</td>\n",
       "    </tr>\n",
       "    <tr>\n",
       "      <th>5</th>\n",
       "      <td>Heat</td>\n",
       "      <td>0.572186</td>\n",
       "      <td>1886</td>\n",
       "      <td>7</td>\n",
       "    </tr>\n",
       "    <tr>\n",
       "      <th>375</th>\n",
       "      <td>True Lies</td>\n",
       "      <td>0.478509</td>\n",
       "      <td>1138</td>\n",
       "      <td>6</td>\n",
       "    </tr>\n",
       "    <tr>\n",
       "      <th>21068</th>\n",
       "      <td>Man of Steel</td>\n",
       "      <td>0.446365</td>\n",
       "      <td>6462</td>\n",
       "      <td>6</td>\n",
       "    </tr>\n",
       "    <tr>\n",
       "      <th>892</th>\n",
       "      <td>The Wizard of Oz</td>\n",
       "      <td>0.445946</td>\n",
       "      <td>1689</td>\n",
       "      <td>7</td>\n",
       "    </tr>\n",
       "  </tbody>\n",
       "</table>\n",
       "</div>"
      ],
      "text/plain": [
       "                     title  similarity  vote_count  vote_average\n",
       "600                  Fargo    0.622953        2080             7\n",
       "31          Twelve Monkeys    0.619132        2470             7\n",
       "760       Independence Day    0.589538        3334             6\n",
       "0                Toy Story    0.589521        5415             7\n",
       "716               The Rock    0.585872        1474             6\n",
       "638    Mission: Impossible    0.572218        2677             6\n",
       "5                     Heat    0.572186        1886             7\n",
       "375              True Lies    0.478509        1138             6\n",
       "21068         Man of Steel    0.446365        6462             6\n",
       "892       The Wizard of Oz    0.445946        1689             7"
      ]
     },
     "execution_count": 55,
     "metadata": {},
     "output_type": "execute_result"
    }
   ],
   "source": [
    "user_taste_recommender(100)"
   ]
  },
  {
   "cell_type": "markdown",
   "metadata": {
    "collapsed": true
   },
   "source": [
    "Just getting recommendation based on movie's synopsis dosent provide eye catching results, and is not reliable enough as Latent Semantic Similarity here takes into account movies from all the genre and most importantly, takes lot of time to calculate through the UMBC's API for soo many movies, So we will try Consine similarity from sklearn's linear kernel which is much faster to calculate"
   ]
  },
  {
   "cell_type": "markdown",
   "metadata": {},
   "source": [
    "Also, lets add tagline to the description and check if we get better recommendations"
   ]
  },
  {
   "cell_type": "code",
   "execution_count": 56,
   "metadata": {},
   "outputs": [],
   "source": [
    "movies_metadata['tagline'] = movies_metadata['tagline'].fillna('')\n",
    "movies_metadata['description'] = movies_metadata['pro_overview'] + movies_metadata['tagline']\n",
    "movies_metadata['description'] = movies_metadata['description'].fillna('')"
   ]
  },
  {
   "cell_type": "code",
   "execution_count": 57,
   "metadata": {},
   "outputs": [
    {
     "data": {
      "text/plain": [
       "0    led woodi andi toy live happili room andi birt...\n",
       "1    sibl judi peter discov enchant board game open...\n",
       "2    famili wed reignit ancient feud nextdoor neigh...\n",
       "3    cheat mistreat step woman hold breath wait elu...\n",
       "4    georg bank recov daughter wed receiv news shes...\n",
       "Name: description, dtype: object"
      ]
     },
     "execution_count": 57,
     "metadata": {},
     "output_type": "execute_result"
    }
   ],
   "source": [
    "movies_metadata['description'].head()"
   ]
  },
  {
   "cell_type": "code",
   "execution_count": 58,
   "metadata": {},
   "outputs": [],
   "source": [
    "tf = TfidfVectorizer(analyzer='word',ngram_range=(1, 2),min_df=0, stop_words='english')\n",
    "tfidf_matrix = tf.fit_transform(movies_metadata['description'])"
   ]
  },
  {
   "cell_type": "code",
   "execution_count": 59,
   "metadata": {},
   "outputs": [
    {
     "data": {
      "text/plain": [
       "(9099, 264045)"
      ]
     },
     "execution_count": 59,
     "metadata": {},
     "output_type": "execute_result"
    }
   ],
   "source": [
    "tfidf_matrix.shape"
   ]
  },
  {
   "cell_type": "markdown",
   "metadata": {},
   "source": [
    "#### Cosine Similarity\n",
    "I will be using the Cosine Similarity to calculate a numeric quantity that denotes the similarity between two movies. Mathematically, it is defined as follows:\n",
    "\n",
    "cosine(x,y)=x.y⊺||x||.||y|| \n",
    "Since we have used the TF-IDF Vectorizer, calculating the Dot Product will directly give us the Cosine Similarity Score. Therefore, we will use sklearn's linear_kernel instead of cosine_similarities since it is much faster."
   ]
  },
  {
   "cell_type": "code",
   "execution_count": 60,
   "metadata": {},
   "outputs": [],
   "source": [
    "cosine_sim = linear_kernel(tfidf_matrix, tfidf_matrix)"
   ]
  },
  {
   "cell_type": "code",
   "execution_count": 61,
   "metadata": {},
   "outputs": [
    {
     "data": {
      "text/plain": [
       "array([1.        , 0.00973524, 0.        , ..., 0.        , 0.0025085 ,\n",
       "       0.        ])"
      ]
     },
     "execution_count": 61,
     "metadata": {},
     "output_type": "execute_result"
    }
   ],
   "source": [
    "cosine_sim[0]"
   ]
  },
  {
   "cell_type": "markdown",
   "metadata": {},
   "source": [
    "We now have a pairwise cosine similarity matrix for all the movies in our dataset. The next step is to write a function that returns the 30 most similar movies based on the cosine similarity score."
   ]
  },
  {
   "cell_type": "code",
   "execution_count": 62,
   "metadata": {},
   "outputs": [],
   "source": [
    "movies_metadata = movies_metadata.reset_index()\n",
    "titles = movies_metadata['title']\n",
    "indexes = pd.Series(movies_metadata.index, index=movies_metadata['title'])"
   ]
  },
  {
   "cell_type": "code",
   "execution_count": 63,
   "metadata": {},
   "outputs": [
    {
     "name": "stdout",
     "output_type": "stream",
     "text": [
      "[(0, 0.9999999999999999), (1, 0.009735244938882703), (2, 0.0), (3, 0.0), (4, 0.0), (5, 0.0), (6, 0.0), (7, 0.0), (8, 0.0), (9, 0.0), (10, 0.0), (11, 0.0), (12, 0.0), (13, 0.0), (14, 0.0), (15, 0.0), (16, 0.007144671375121861), (17, 0.012421438495096492), (18, 0.0), (19, 0.0), (20, 0.0032737736480710263), (21, 0.0), (22, 0.0026527105730075108), (23, 0.0), (24, 0.0), (25, 0.0), (26, 0.0), (27, 0.0), (28, 0.0), (29, 0.0), (30, 0.0), (31, 0.0), (32, 0.006927272014702977), (33, 0.0), (34, 0.0), (35, 0.0035167174530869173), (36, 0.010488082480031125), (37, 0.0), (38, 0.0), (39, 0.0), (40, 0.0), (41, 0.0034977367551689933), (42, 0.0), (43, 0.0), (44, 0.0030982705983496612), (45, 0.0), (46, 0.0), (47, 0.0), (48, 0.00637987862737388), (49, 0.00860089206570781), (50, 0.0), (51, 0.0), (52, 0.01381816544846436), (53, 0.006221480968027278), (54, 0.006386218333823071), (55, 0.0), (56, 0.015151913271517992), (57, 0.0), (58, 0.0), (59, 0.0049107586769808935), (60, 0.0), (61, 0.0027304141668222197), (62, 0.0), (63, 0.008773422478017144), (64, 0.0), (65, 0.0), (66, 0.0), (67, 0.0), (68, 0.0), (69, 0.0), (70, 0.0), (71, 0.008283522923380245), (72, 0.003615203499462734), (73, 0.005193413576355653), (74, 0.0), (75, 0.0), (76, 0.004743114877096073), (77, 0.004898157169282089), (78, 0.01198804282096913), (79, 0.0), (80, 0.0), (81, 0.0), (82, 0.0), (83, 0.0), (84, 0.0), (85, 0.003305598430491891), (86, 0.0), (87, 0.0), (88, 0.0036934766974466055), (89, 0.0), (90, 0.0), (91, 0.0), (92, 0.0), (93, 0.0), (94, 0.0), (95, 0.006958824027746264), (96, 0.0), (97, 0.0), (98, 0.004833810683087494), (99, 0.0), (100, 0.0060270374575204025), (101, 0.0), (102, 0.0), (103, 0.0), (104, 0.0), (105, 0.0), (106, 0.0), (107, 0.0), (108, 0.0), (109, 0.0), (110, 0.0), (111, 0.0), (112, 0.0), (113, 0.0), (114, 0.0), (115, 0.0), (116, 0.009294644343943104), (117, 0.008892354701834738), (118, 0.0), (119, 0.0), (120, 0.0026784986132324363), (121, 0.0034577872411311016), (122, 0.008670746027456124), (123, 0.0), (124, 0.0), (125, 0.0), (126, 0.0), (127, 0.0), (128, 0.0), (129, 0.0), (130, 0.0), (131, 0.0), (132, 0.007171374939031105), (133, 0.0), (134, 0.0), (135, 0.0), (136, 0.004673398185257916), (137, 0.0030208983919376496), (138, 0.0), (139, 0.0), (140, 0.0), (141, 0.0), (142, 0.0), (143, 0.0), (144, 0.0), (145, 0.0), (146, 0.0), (147, 0.0), (148, 0.0), (149, 0.005520443512862354), (150, 0.0), (151, 0.0), (152, 0.0), (153, 0.008183556366067385), (154, 0.0040605484575886724), (155, 0.006371123182774335), (156, 0.0), (157, 0.0), (158, 0.003817373064660323), (159, 0.0), (160, 0.0), (161, 0.026658845297038346), (162, 0.0), (163, 0.0), (164, 0.0), (165, 0.003985577474526775), (166, 0.0), (167, 0.0), (168, 0.005295076362844021), (169, 0.0), (170, 0.0), (171, 0.0), (172, 0.0), (173, 0.0), (174, 0.0), (175, 0.0), (176, 0.0), (177, 0.004431134531463989), (178, 0.0), (179, 0.005990781845586997), (180, 0.0), (181, 0.0), (182, 0.0), (183, 0.0), (184, 0.0), (185, 0.007640730332441907), (186, 0.004292201537636909), (187, 0.0), (188, 0.0), (189, 0.006842746280200965), (190, 0.0033715468073784783), (191, 0.0), (192, 0.00481924177956439), (193, 0.003711811886536448), (194, 0.0), (195, 0.0), (196, 0.0), (197, 0.0), (198, 0.0), (199, 0.00899620846002927), (200, 0.0), (201, 0.0), (202, 0.010115446327852988), (203, 0.008259435050268741), (204, 0.009418337873032617), (205, 0.009362576987338736), (206, 0.0028718871885221537), (207, 0.0), (208, 0.006111880084877158), (209, 0.0035429820109586997), (210, 0.0), (211, 0.0), (212, 0.0), (213, 0.0), (214, 0.0), (215, 0.0), (216, 0.0), (217, 0.0), (218, 0.0), (219, 0.0), (220, 0.0), (221, 0.0), (222, 0.0), (223, 0.0), (224, 0.0), (225, 0.0051597075842366984), (226, 0.0), (227, 0.0), (228, 0.0), (229, 0.0), (230, 0.00368928751593655), (231, 0.004817162290956523), (232, 0.008462942131450294), (233, 0.00957311674983986), (234, 0.0), (235, 0.00849425488948816), (236, 0.0), (237, 0.0), (238, 0.004412825203262684), (239, 0.0), (240, 0.0), (241, 0.0), (242, 0.004713243468319962), (243, 0.003556812554449441), (244, 0.006869297451044671), (245, 0.0043072092676188995), (246, 0.0), (247, 0.0), (248, 0.004673931194613774), (249, 0.0), (250, 0.0034540716333781294), (251, 0.0), (252, 0.0), (253, 0.004103718927271999), (254, 0.006140562458179289), (255, 0.0), (256, 0.005805053769427983), (257, 0.0), (258, 0.0), (259, 0.0), (260, 0.0), (261, 0.011724635693937866), (262, 0.0), (263, 0.0), (264, 0.0), (265, 0.0), (266, 0.0), (267, 0.0038172237308887855), (268, 0.0), (269, 0.0), (270, 0.0), (271, 0.0), (272, 0.0), (273, 0.0), (274, 0.0), (275, 0.008611323499203644), (276, 0.005066795554650457), (277, 0.0), (278, 0.004472235562748373), (279, 0.004326282722281909), (280, 0.010245508184477777), (281, 0.0), (282, 0.00621111508159121), (283, 0.0037428663452787644), (284, 0.027022850633049742), (285, 0.0), (286, 0.004892110827949837), (287, 0.0068308821075186085), (288, 0.0), (289, 0.0), (290, 0.0), (291, 0.0), (292, 0.0), (293, 0.0), (294, 0.0), (295, 0.006810798054279212), (296, 0.0), (297, 0.0), (298, 0.0), (299, 0.0), (300, 0.006897243748468548), (301, 0.0), (302, 0.007402728290671735), (303, 0.0), (304, 0.0), (305, 0.0), (306, 0.002966209718623682), (307, 0.0), (308, 0.01972068325272836), (309, 0.0), (310, 0.0), (311, 0.0), (312, 0.0), (313, 0.00383204892504225), (314, 0.0), (315, 0.005435490513673853), (316, 0.0), (317, 0.004910935374987226), (318, 0.0), (319, 0.0), (320, 0.0), (321, 0.0), (322, 0.0), (323, 0.0), (324, 0.002605756580146779), (325, 0.0), (326, 0.01114621021962859), (327, 0.0), (328, 0.0063103163347723095), (329, 0.0060195049445902786), (330, 0.0), (331, 0.0), (332, 0.0), (333, 0.0050025209630978), (334, 0.0), (335, 0.0), (336, 0.0), (337, 0.0), (338, 0.0), (339, 0.008468591190540447), (340, 0.0), (341, 0.0), (342, 0.0), (343, 0.0), (344, 0.0), (345, 0.0), (346, 0.0), (347, 0.006053482822899302), (348, 0.0031688510185218038), (349, 0.0), (350, 0.0), (351, 0.0), (352, 0.0027941816972045044), (353, 0.0), (354, 0.0), (355, 0.0), (356, 0.0), (357, 0.0), (358, 0.003925116711719055), (359, 0.0), (360, 0.0), (361, 0.0), (362, 0.009807535731601829), (363, 0.0), (364, 0.0), (365, 0.0), (366, 0.0), (367, 0.0), (368, 0.007222711948364963), (369, 0.0), (370, 0.0), (371, 0.0), (372, 0.0), (373, 0.0), (374, 0.0), (375, 0.004258865456571028), (376, 0.0037297582165915786), (377, 0.006308094700440943), (378, 0.0), (379, 0.0), (380, 0.004134300835948305), (381, 0.008653759192707753), (382, 0.0), (383, 0.009902163892691336), (384, 0.002807025481648686), (385, 0.0), (386, 0.0), (387, 0.0), (388, 0.0), (389, 0.0028173417971448355), (390, 0.0), (391, 0.0), (392, 0.0), (393, 0.0), (394, 0.0), (395, 0.013068341557524971), (396, 0.0032494748645351054), (397, 0.008535960283204616), (398, 0.0), (399, 0.0), (400, 0.0), (401, 0.0), (402, 0.049666952333389434), (403, 0.004194440686745836), (404, 0.022265097282469955), (405, 0.0), (406, 0.005577472479792693), (407, 0.0), (408, 0.0), (409, 0.009254898607618807), (410, 0.00471690541912271), (411, 0.0), (412, 0.0), (413, 0.004781016245697011), (414, 0.0), (415, 0.0), (416, 0.0), (417, 0.0), (418, 0.010843149120366448), (419, 0.0), (420, 0.005338693110425925), (421, 0.0), (422, 0.0), (423, 0.0), (424, 0.0), (425, 0.013309282444917688), (426, 0.0), (427, 0.0028685266591583695), (428, 0.015395709211897434), (429, 0.0), (430, 0.0), (431, 0.0), (432, 0.0), (433, 0.0), (434, 0.0), (435, 0.0), (436, 0.0), (437, 0.0477314059036428), (438, 0.0), (439, 0.0), (440, 0.0), (441, 0.0), (442, 0.0), (443, 0.0), (444, 0.013360856268291827), (445, 0.0), (446, 0.0), (447, 0.0035944531176712955), (448, 0.0), (449, 0.004496578451477322), (450, 0.0), (451, 0.0), (452, 0.0), (453, 0.0), (454, 0.0), (455, 0.0), (456, 0.0), (457, 0.012655278628054616), (458, 0.0), (459, 0.0047698397113265945), (460, 0.0), (461, 0.0), (462, 0.0), (463, 0.004392612876996605), (464, 0.005772845979604262), (465, 0.0), (466, 0.0031803044261447854), (467, 0.0), (468, 0.0), (469, 0.0047635087284473064), (470, 0.0), (471, 0.0), (472, 0.0), (473, 0.004321157130824941), (474, 0.0), (475, 0.015634647348657882), (476, 0.0), (477, 0.0), (478, 0.0), (479, 0.0), (480, 0.004794543379621743), (481, 0.0), (482, 0.0), (483, 0.0), (484, 0.006159682333682796), (485, 0.0), (486, 0.0035308185797132095), (487, 0.0), (488, 0.0), (489, 0.0038346388039069506), (490, 0.005854175853177992), (491, 0.0), (492, 0.008802481067524843), (493, 0.007985006192486656), (494, 0.0), (495, 0.005171518726286119), (496, 0.0), (497, 0.0), (498, 0.007601251147527736), (499, 0.0), (500, 0.0), (501, 0.0), (502, 0.0), (503, 0.0), (504, 0.007377770379112641), (505, 0.0), (506, 0.003355920987704371), (507, 0.022558486603779602), (508, 0.0), (509, 0.0), (510, 0.0061039697153317555), (511, 0.0), (512, 0.0), (513, 0.0), (514, 0.0), (515, 0.0), (516, 0.0), (517, 0.0), (518, 0.018098778336564304), (519, 0.0), (520, 0.0033953704416209616), (521, 0.0057696521931610975), (522, 0.0), (523, 0.0), (524, 0.0), (525, 0.0), (526, 0.0), (527, 0.004628457636038449), (528, 0.006216958463660333), (529, 0.032741703465298866), (530, 0.0), (531, 0.0), (532, 0.0), (533, 0.0), (534, 0.0), (535, 0.0), (536, 0.0), (537, 0.0), (538, 0.0), (539, 0.003953494562358361), (540, 0.009863440184586555), (541, 0.0), (542, 0.005372652194373064), (543, 0.00503976581738522), (544, 0.0), (545, 0.009025399080329271), (546, 0.00436934977300338), (547, 0.003136479195947803), (548, 0.006537528001691216), (549, 0.0), (550, 0.013835255157777396), (551, 0.017794654543671195), (552, 0.0), (553, 0.0), (554, 0.0027208439221353335), (555, 0.0), (556, 0.0), (557, 0.0), (558, 0.0), (559, 0.0), (560, 0.0), (561, 0.004482749655947706), (562, 0.0033657752857182434), (563, 0.0), (564, 0.009562033182393213), (565, 0.004826994537376945), (566, 0.0), (567, 0.0), (568, 0.0), (569, 0.0), (570, 0.0), (571, 0.0069819469417813085), (572, 0.003376222104529062), (573, 0.0), (574, 0.0), (575, 0.0), (576, 0.0), (577, 0.0), (578, 0.0), (579, 0.0), (580, 0.0), (581, 0.0), (582, 0.0), (583, 0.005760476754661994), (584, 0.0), (585, 0.0), (586, 0.0), (587, 0.0), (588, 0.0), (589, 0.0), (590, 0.0), (591, 0.0), (592, 0.0), (593, 0.004215042252278003), (594, 0.0), (595, 0.0), (596, 0.0), (597, 0.0), (598, 0.0), (599, 0.0), (600, 0.0056002286031477996), (601, 0.004320746704183726), (602, 0.003923951796471292), (603, 0.0), (604, 0.0), (605, 0.0), (606, 0.0), (607, 0.0), (608, 0.0), (609, 0.0), (610, 0.0), (611, 0.003607898554426659), (612, 0.0), (613, 0.0), (614, 0.0), (615, 0.004711795007552752), (616, 0.009568639364234861), (617, 0.00458768669576087), (618, 0.004655396875500383), (619, 0.0), (620, 0.011762679608461123), (621, 0.0), (622, 0.0), (623, 0.0), (624, 0.011735025485957229), (625, 0.0), (626, 0.005874978223730535), (627, 0.004957850286385325), (628, 0.0), (629, 0.00715963782187686), (630, 0.0), (631, 0.00462024294697701), (632, 0.0), (633, 0.01418481349829856), (634, 0.0046721759419462725), (635, 0.0), (636, 0.033367825164295345), (637, 0.0), (638, 0.0), (639, 0.0104861961322513), (640, 0.0), (641, 0.0), (642, 0.005073031946696439), (643, 0.0), (644, 0.0), (645, 0.0), (646, 0.0), (647, 0.0), (648, 0.0), (649, 0.003812885286072982), (650, 0.0), (651, 0.0), (652, 0.0), (653, 0.00922937984967865), (654, 0.0), (655, 0.0), (656, 0.0), (657, 0.0), (658, 0.0), (659, 0.0), (660, 0.0), (661, 0.0), (662, 0.0), (663, 0.004154184376204748), (664, 0.0), (665, 0.0), (666, 0.0), (667, 0.0), (668, 0.008730651665287715), (669, 0.0), (670, 0.0), (671, 0.004514890256536619), (672, 0.0), (673, 0.0), (674, 0.0), (675, 0.005052652168697582), (676, 0.0), (677, 0.00264646675941051), (678, 0.0), (679, 0.0), (680, 0.0), (681, 0.0), (682, 0.0), (683, 0.0), (684, 0.0), (685, 0.007179964929924248), (686, 0.014260804683291146), (687, 0.0), (688, 0.0032077814103042986), (689, 0.00570254880350347), (690, 0.0066990464155088775), (691, 0.00340173573587093), (692, 0.0), (693, 0.0), (694, 0.0), (695, 0.0), (696, 0.0), (697, 0.0), (698, 0.005359391662602051), (699, 0.0), (700, 0.0), (701, 0.006023463746440692), (702, 0.0), (703, 0.005770213229975739), (704, 0.0), (705, 0.0), (706, 0.0036239391104351034), (707, 0.00574186817926127), (708, 0.0), (709, 0.002179849508067216), (710, 0.008669352032179752), (711, 0.0), (712, 0.0), (713, 0.0), (714, 0.0), (715, 0.00465265208596771), (716, 0.0), (717, 0.0), (718, 0.0), (719, 0.0), (720, 0.006285431348721145), (721, 0.0), (722, 0.0), (723, 0.004616456121889904), (724, 0.0021714899170081356), (725, 0.0), (726, 0.0), (727, 0.004283838127110648), (728, 0.004960582516384191), (729, 0.0), (730, 0.0), (731, 0.0), (732, 0.0), (733, 0.0), (734, 0.0), (735, 0.0), (736, 0.005590265768198395), (737, 0.0), (738, 0.0), (739, 0.0), (740, 0.0), (741, 0.0), (742, 0.0), (743, 0.0), (744, 0.0), (745, 0.0), (746, 0.0031472170289024884), (747, 0.0), (748, 0.0), (749, 0.002038500779630927), (750, 0.0), (751, 0.005224311198885311), (752, 0.0), (753, 0.0), (754, 0.0), (755, 0.0), (756, 0.0026161570549583786), (757, 0.0), (758, 0.0), (759, 0.0), (760, 0.009795089589308163), (761, 0.0), (762, 0.0), (763, 0.0), (764, 0.0), (765, 0.0), (766, 0.0), (767, 0.0), (768, 0.0), (769, 0.0), (770, 0.003879683257613438), (771, 0.00356819689844818), (772, 0.022036985775274385), (773, 0.0), (774, 0.0), (775, 0.0027346283677128257), (776, 0.005281255171958665), (777, 0.0), (778, 0.0), (779, 0.0), (780, 0.0), (781, 0.0), (782, 0.003151575962783277), (783, 0.0), (784, 0.0), (785, 0.005433282794724962), (786, 0.006488513172269761), (787, 0.0), (788, 0.011720005239670917), (789, 0.0), (790, 0.0035281075661598577), (791, 0.0), (792, 0.0), (793, 0.0027850425528859325), (794, 0.0), (795, 0.0), (796, 0.004799153515920623), (797, 0.0), (798, 0.0), (799, 0.0), (800, 0.0), (801, 0.00766606530002247), (802, 0.0), (803, 0.0), (804, 0.006203794105980577), (805, 0.0), (806, 0.0), (807, 0.0), (808, 0.0), (809, 0.003756701965881492), (810, 0.0), (811, 0.006088868837117314), (812, 0.0049546959503177735), (813, 0.005322187133445617), (814, 0.0057819923272504105), (815, 0.0), (816, 0.008328375332001956), (817, 0.0), (818, 0.0), (819, 0.0), (820, 0.0), (821, 0.0), (822, 0.004473632957434955), (823, 0.0), (824, 0.0), (825, 0.011579280463290658), (826, 0.0), (827, 0.0), (828, 0.0), (829, 0.0032336356134715955), (830, 0.0049246149877080845), (831, 0.0), (832, 0.0), (833, 0.004451776262516725), (834, 0.0), (835, 0.0), (836, 0.0), (837, 0.00448768869278252), (838, 0.0), (839, 0.005929810541145122), (840, 0.0), (841, 0.0), (842, 0.0), (843, 0.0), (844, 0.0), (845, 0.0), (846, 0.0), (847, 0.0), (848, 0.0), (849, 0.008318178111648651), (850, 0.0), (851, 0.005132983401802443), (852, 0.0), (853, 0.0), (854, 0.0), (855, 0.008500377502599531), (856, 0.00543624900867759), (857, 0.006022414920702225), (858, 0.0), (859, 0.0), (860, 0.0), (861, 0.0), (862, 0.0), (863, 0.0), (864, 0.0), (865, 0.0), (866, 0.0), (867, 0.0), (868, 0.0), (869, 0.0), (870, 0.0), (871, 0.0), (872, 0.0061094816634242105), (873, 0.0), (874, 0.00681947507645993), (875, 0.0), (876, 0.0), (877, 0.0), (878, 0.0), (879, 0.0), (880, 0.0), (881, 0.0), (882, 0.0), (883, 0.0), (884, 0.0), (885, 0.012065872883538858), (886, 0.006012062712462165), (887, 0.0), (888, 0.0), (889, 0.07067454297284655), (890, 0.0), (891, 0.0), (892, 0.0026369564362089697), (893, 0.00510020355272273), (894, 0.0), (895, 0.003989096216962742), (896, 0.003419367461149008), (897, 0.0), (898, 0.007146622602279045), (899, 0.0), (900, 0.005287292655796473), (901, 0.0), (902, 0.0), (903, 0.0), (904, 0.0), (905, 0.004380738662435837), (906, 0.010350498222418366), (907, 0.0), (908, 0.0), (909, 0.0), (910, 0.0), (911, 0.0), (912, 0.006925573116419232), (913, 0.0), (914, 0.002869546969198663), (915, 0.0), (916, 0.006118241527498302), (917, 0.0), (918, 0.007621071249705056), (919, 0.006507050498240047), (920, 0.017384367855305144), (921, 0.005185092571448734), (922, 0.0), (923, 0.0), (924, 0.005493667016208928), (925, 0.0), (926, 0.005132508443797226), (927, 0.0), (928, 0.0), (929, 0.00385351254789355), (930, 0.004771316330698465), (931, 0.0), (932, 0.0), (933, 0.0), (934, 0.0), (935, 0.004270342414576796), (936, 0.0), (937, 0.0), (938, 0.002730865584312394), (939, 0.0), (940, 0.0), (941, 0.004394973720734928), (942, 0.0), (943, 0.007430585409955377), (944, 0.0), (945, 0.007940968028405326), (946, 0.009470031436797572), (947, 0.0), (948, 0.012234947291277866), (949, 0.0035522005450050833), (950, 0.0), (951, 0.0), (952, 0.010919095017752397), (953, 0.0), (954, 0.0), (955, 0.005095141184905995), (956, 0.00787114075569779), (957, 0.0), (958, 0.0), (959, 0.0), (960, 0.0), (961, 0.0), (962, 0.0), (963, 0.003149840907529337), (964, 0.0033453458364645036), (965, 0.0), (966, 0.0), (967, 0.0), (968, 0.002709092314547706), (969, 0.0), (970, 0.0), (971, 0.004175717151481001), (972, 0.0), (973, 0.0), (974, 0.0), (975, 0.010015874937426545), (976, 0.0), (977, 0.0), (978, 0.004601318656690994), (979, 0.0), (980, 0.0), (981, 0.0), (982, 0.0), (983, 0.004963118433329892), (984, 0.0), (985, 0.0), (986, 0.005245219163756663), (987, 0.0), (988, 0.0), (989, 0.0), (990, 0.0), (991, 0.0), (992, 0.0), (993, 0.0), (994, 0.0), (995, 0.0), (996, 0.0), (997, 0.0), (998, 0.0), (999, 0.004670003558186222), (1000, 0.0), (1001, 0.0), (1002, 0.0), (1003, 0.0), (1004, 0.005393543254484932), (1005, 0.0), (1006, 0.0), (1007, 0.0), (1008, 0.0037827634902488885), (1009, 0.0), (1010, 0.0), (1011, 0.0), (1012, 0.0), (1013, 0.006215386194345272), (1014, 0.0), (1015, 0.0), (1016, 0.0), (1017, 0.0), (1018, 0.0), (1019, 0.005751768341087386), (1020, 0.0), (1021, 0.0), (1022, 0.005166447780536433), (1023, 0.017430776539125344), (1024, 0.0), (1025, 0.0), (1026, 0.0), (1027, 0.0), (1028, 0.0), (1029, 0.008496514385277569), (1030, 0.01216163515627267), (1031, 0.0), (1032, 0.0), (1033, 0.0), (1034, 0.0), (1035, 0.0), (1036, 0.008475761062224637), (1037, 0.003111080039991443), (1038, 0.0), (1039, 0.003465135799541198), (1040, 0.0), (1041, 0.0), (1042, 0.005504916748228103), (1043, 0.0), (1044, 0.006867483406970269), (1045, 0.007638804056701941), (1046, 0.0), (1047, 0.0), (1048, 0.0), (1049, 0.023455411074711212), (1050, 0.0), (1051, 0.0), (1052, 0.0), (1053, 0.0), (1054, 0.025546531501099843), (1055, 0.0), (1056, 0.0), (1057, 0.007263248765970565), (1058, 0.0), (1059, 0.0), (1060, 0.0), (1061, 0.0), (1062, 0.0), (1063, 0.018041500019792114), (1064, 0.004191308316313422), (1065, 0.0), (1066, 0.0), (1067, 0.004359435602798094), (1068, 0.0), (1069, 0.0), (1070, 0.0024888841677334164), (1071, 0.0), (1072, 0.0), (1073, 0.0), (1074, 0.0), (1075, 0.0), (1076, 0.003033745130737198), (1077, 0.0057961056562221), (1078, 0.0), (1079, 0.0), (1080, 0.0), (1081, 0.0), (1082, 0.0), (1083, 0.0), (1084, 0.0), (1085, 0.0), (1086, 0.006244350364661968), (1087, 0.0), (1088, 0.0), (1089, 0.0), (1090, 0.0), (1091, 0.0), (1092, 0.0), (1093, 0.0), (1094, 0.0), (1095, 0.0), (1096, 0.0), (1097, 0.0), (1098, 0.0), (1099, 0.007875508675316693), (1100, 0.0), (1101, 0.00289138863576922), (1102, 0.006393400820607518), (1103, 0.0), (1104, 0.0041593069423740475), (1105, 0.002323104841998926), (1106, 0.010655294945938167), (1107, 0.0), (1108, 0.0), (1109, 0.0), (1110, 0.0), (1111, 0.0), (1112, 0.0), (1113, 0.004228636045771309), (1114, 0.00829633688012465), (1115, 0.005563661405128811), (1116, 0.0), (1117, 0.004201971202911663), (1118, 0.0), (1119, 0.0), (1120, 0.004325066377789172), (1121, 0.0), (1122, 0.0), (1123, 0.0), (1124, 0.0), (1125, 0.0), (1126, 0.0), (1127, 0.004885503481789495), (1128, 0.007370963463900175), (1129, 0.0), (1130, 0.0), (1131, 0.0), (1132, 0.0), (1133, 0.006957261097017434), (1134, 0.0034022406944572404), (1135, 0.011083559992798135), (1136, 0.011100832046656513), (1137, 0.0), (1138, 0.003846654246099333), (1139, 0.0), (1140, 0.0), (1141, 0.003585791689460128), (1142, 0.0), (1143, 0.0), (1144, 0.0), (1145, 0.003401788247138823), (1146, 0.006462766362952386), (1147, 0.008633417457632022), (1148, 0.0), (1149, 0.0), (1150, 0.0033004687502783056), (1151, 0.0), (1152, 0.0), (1153, 0.007955054353219878), (1154, 0.0), (1155, 0.0), (1156, 0.0), (1157, 0.0), (1158, 0.0), (1159, 0.0), (1160, 0.0), (1161, 0.0), (1162, 0.0), (1163, 0.0), (1164, 0.005083629350925342), (1165, 0.0), (1166, 0.0), (1167, 0.0), (1168, 0.0), (1169, 0.004391498352100155), (1170, 0.005398547559713992), (1171, 0.0), (1172, 0.0), (1173, 0.003175693956736041), (1174, 0.0), (1175, 0.0), (1176, 0.007948177510057932), (1177, 0.0), (1178, 0.0), (1179, 0.0), (1180, 0.0), (1181, 0.0), (1182, 0.0), (1183, 0.0), (1184, 0.004070317286752191), (1185, 0.004931282337186343), (1186, 0.0), (1187, 0.0), (1188, 0.0), (1189, 0.0), (1190, 0.004308287023222416), (1191, 0.005345143462480017), (1192, 0.0), (1193, 0.0), (1194, 0.0), (1195, 0.00919032885871027), (1196, 0.0), (1197, 0.0), (1198, 0.0), (1199, 0.005358753532788144), (1200, 0.0), (1201, 0.0), (1202, 0.0), (1203, 0.003989431761238962), (1204, 0.0), (1205, 0.0), (1206, 0.005083657680935428), (1207, 0.0), (1208, 0.004247454175269062), (1209, 0.0035890413415762784), (1210, 0.0), (1211, 0.009305818276043305), (1212, 0.0), (1213, 0.0), (1214, 0.0), (1215, 0.0), (1216, 0.004992410209400885), (1217, 0.0), (1218, 0.0031304670036432784), (1219, 0.005232847930365354), (1220, 0.0), (1221, 0.0), (1222, 0.0), (1223, 0.0), (1224, 0.0), (1225, 0.02730236905833563), (1226, 0.0), (1227, 0.00276304901614308), (1228, 0.0), (1229, 0.0), (1230, 0.0045044040959641134), (1231, 0.0), (1232, 0.0), (1233, 0.01061519420514092), (1234, 0.0), (1235, 0.0), (1236, 0.006472798607452603), (1237, 0.0), (1238, 0.0), (1239, 0.0), (1240, 0.0), (1241, 0.0), (1242, 0.004716058811367189), (1243, 0.005716640194711873), (1244, 0.0), (1245, 0.0), (1246, 0.004014090009829712), (1247, 0.0), (1248, 0.006865184759665097), (1249, 0.0), (1250, 0.004616008057217823), (1251, 0.0), (1252, 0.0), (1253, 0.0), (1254, 0.0), (1255, 0.0), (1256, 0.0), (1257, 0.006549652422869106), (1258, 0.008405316243122777), (1259, 0.0), (1260, 0.0), (1261, 0.006393957499983924), (1262, 0.0), (1263, 0.0), (1264, 0.004092605668767498), (1265, 0.0), (1266, 0.0), (1267, 0.0), (1268, 0.0), (1269, 0.0), (1270, 0.0), (1271, 0.0063141275907355725), (1272, 0.0), (1273, 0.0), (1274, 0.0), (1275, 0.0038700286449086163), (1276, 0.0), (1277, 0.009538062407203524), (1278, 0.0), (1279, 0.0050320433343408735), (1280, 0.004267111611137725), (1281, 0.0), (1282, 0.0), (1283, 0.0), (1284, 0.00635205550388871), (1285, 0.0074991362264619655), (1286, 0.0), (1287, 0.00861396808885659), (1288, 0.0038180931563390284), (1289, 0.0), (1290, 0.0), (1291, 0.008002491827149839), (1292, 0.0), (1293, 0.0), (1294, 0.0), (1295, 0.0), (1296, 0.0), (1297, 0.0), (1298, 0.0035641607327186555), (1299, 0.0), (1300, 0.0), (1301, 0.0), (1302, 0.0), (1303, 0.0), (1304, 0.005222513588218085), (1305, 0.0), (1306, 0.008025352563073854), (1307, 0.0), (1308, 0.0), (1309, 0.00885318972045246), (1310, 0.0), (1311, 0.006146247463180735), (1312, 0.0), (1313, 0.0), (1314, 0.0), (1315, 0.0), (1316, 0.0), (1317, 0.0), (1318, 0.0), (1319, 0.0064868909814868704), (1320, 0.0), (1321, 0.0067689551698874775), (1322, 0.007882578351941623), (1323, 0.008798722461160008), (1324, 0.00860055253360996), (1325, 0.003982975109589239), (1326, 0.0), (1327, 0.0), (1328, 0.0), (1329, 0.0), (1330, 0.0), (1331, 0.0), (1332, 0.0), (1333, 0.0031606185337705915), (1334, 0.0), (1335, 0.01113596963730767), (1336, 0.0), (1337, 0.004926121552134751), (1338, 0.009729874784351129), (1339, 0.0079077129142098), (1340, 0.0), (1341, 0.0), (1342, 0.004633940298816018), (1343, 0.0), (1344, 0.013775543529032534), (1345, 0.0032935310160483525), (1346, 0.0), (1347, 0.0), (1348, 0.0), (1349, 0.0), (1350, 0.011596531540414122), (1351, 0.0), (1352, 0.0), (1353, 0.004648323218829499), (1354, 0.0), (1355, 0.005111164097633297), (1356, 0.0), (1357, 0.0), (1358, 0.0), (1359, 0.0), (1360, 0.007817745028303317), (1361, 0.0), (1362, 0.003118741109834592), (1363, 0.0), (1364, 0.0), (1365, 0.0), (1366, 0.0), (1367, 0.0), (1368, 0.009777808552892397), (1369, 0.0), (1370, 0.0), (1371, 0.0), (1372, 0.0), (1373, 0.005609440806160548), (1374, 0.006014466109389945), (1375, 0.0), (1376, 0.0), (1377, 0.0), (1378, 0.0), (1379, 0.0), (1380, 0.0), (1381, 0.0), (1382, 0.0), (1383, 0.005169293152085017), (1384, 0.008242377459129528), (1385, 0.0), (1386, 0.006313701846289453), (1387, 0.0), (1388, 0.003971774171676958), (1389, 0.0), (1390, 0.004558464270979461), (1391, 0.0), (1392, 0.0), (1393, 0.0), (1394, 0.0), (1395, 0.0), (1396, 0.004995727830402361), (1397, 0.0), (1398, 0.0), (1399, 0.0), (1400, 0.0), (1401, 0.0), (1402, 0.0), (1403, 0.0), (1404, 0.008505897925108094), (1405, 0.0), (1406, 0.0), (1407, 0.0), (1408, 0.0), (1409, 0.005939073026042982), (1410, 0.008274557255020923), (1411, 0.0), (1412, 0.0), (1413, 0.012198052697278292), (1414, 0.0), (1415, 0.017874440193219134), (1416, 0.0), (1417, 0.0), (1418, 0.0), (1419, 0.0048725657924342785), (1420, 0.0), (1421, 0.0), (1422, 0.004858694534378169), (1423, 0.0), (1424, 0.002774079726058394), (1425, 0.0), (1426, 0.0), (1427, 0.005965261960973247), (1428, 0.0), (1429, 0.0), (1430, 0.0), (1431, 0.0), (1432, 0.0), (1433, 0.0), (1434, 0.007860373676755888), (1435, 0.0), (1436, 0.0), (1437, 0.0), (1438, 0.005074693721566078), (1439, 0.0), (1440, 0.023226434887026748), (1441, 0.0), (1442, 0.008354102487777435), (1443, 0.0), (1444, 0.00851175522183077), (1445, 0.0), (1446, 0.0), (1447, 0.0), (1448, 0.0), (1449, 0.0), (1450, 0.0), (1451, 0.0), (1452, 0.0), (1453, 0.0), (1454, 0.0), (1455, 0.0), (1456, 0.005931035013823201), (1457, 0.0), (1458, 0.0), (1459, 0.0), (1460, 0.003134407859450301), (1461, 0.0), (1462, 0.0039045078426144606), (1463, 0.0), (1464, 0.0), (1465, 0.006539655208884917), (1466, 0.0), (1467, 0.0), (1468, 0.0), (1469, 0.005488602363091285), (1470, 0.0), (1471, 0.001980333997250636), (1472, 0.0), (1473, 0.0), (1474, 0.0), (1475, 0.0), (1476, 0.0), (1477, 0.0037723789836397333), (1478, 0.0), (1479, 0.003140217546828968), (1480, 0.03203661167342339), (1481, 0.0), (1482, 0.004202487615529377), (1483, 0.0), (1484, 0.0), (1485, 0.009775584759125405), (1486, 0.010955433022727258), (1487, 0.006096253662808707), (1488, 0.007956803112770451), (1489, 0.0), (1490, 0.0), (1491, 0.0), (1492, 0.0), (1493, 0.0), (1494, 0.0), (1495, 0.0), (1496, 0.010018966079140018), (1497, 0.0), (1498, 0.0), (1499, 0.0), (1500, 0.0), (1501, 0.0), (1502, 0.0), (1503, 0.0), (1504, 0.0), (1505, 0.0), (1506, 0.0), (1507, 0.005757298142798983), (1508, 0.0), (1509, 0.0), (1510, 0.0), (1511, 0.0), (1512, 0.0), (1513, 0.0), (1514, 0.0), (1515, 0.007053395733413548), (1516, 0.0), (1517, 0.013982093242098658), (1518, 0.0), (1519, 0.0), (1520, 0.0), (1521, 0.00461029437249379), (1522, 0.0), (1523, 0.005454124696458077), (1524, 0.0), (1525, 0.0), (1526, 0.0), (1527, 0.015539072232772122), (1528, 0.0), (1529, 0.0), (1530, 0.0), (1531, 0.0), (1532, 0.0), (1533, 0.0), (1534, 0.0), (1535, 0.0), (1536, 0.0), (1537, 0.0), (1538, 0.0), (1539, 0.0), (1540, 0.0), (1541, 0.0), (1542, 0.0), (1543, 0.005026585113587695), (1544, 0.0), (1545, 0.004809286349844711), (1546, 0.0), (1547, 0.0), (1548, 0.002644344740236977), (1549, 0.0), (1550, 0.015745692194115864), (1551, 0.0), (1552, 0.04163771081028714), (1553, 0.006105751184832723), (1554, 0.0), (1555, 0.0032967368892343743), (1556, 0.0), (1557, 0.0), (1558, 0.005033891445113144), (1559, 0.0035744975807801924), (1560, 0.0), (1561, 0.004515367088907079), (1562, 0.0), (1563, 0.0), (1564, 0.0), (1565, 0.0), (1566, 0.009625749173630738), (1567, 0.0), (1568, 0.0), (1569, 0.005236358912560593), (1570, 0.007988153824163815), (1571, 0.0), (1572, 0.0), (1573, 0.0), (1574, 0.0), (1575, 0.008697091030634175), (1576, 0.013630224548867597), (1577, 0.006479741560565483), (1578, 0.0), (1579, 0.0), (1580, 0.005666303111177119), (1581, 0.0), (1582, 0.0), (1583, 0.0), (1584, 0.0), (1585, 0.0024438852061101747), (1586, 0.0), (1587, 0.005086102475348739), (1588, 0.0), (1589, 0.01808514604784347), (1590, 0.0), (1591, 0.010248190433268713), (1592, 0.0), (1593, 0.0), (1594, 0.0), (1595, 0.003544185528545638), (1596, 0.0), (1597, 0.003990100595171909), (1598, 0.0), (1599, 0.06285550639519881), (1600, 0.0), (1601, 0.0), (1602, 0.0), (1603, 0.008985779372965227), (1604, 0.0), (1605, 0.0), (1606, 0.0), (1607, 0.0), (1608, 0.010598875040155017), (1609, 0.0), (1610, 0.0), (1611, 0.004084128464456236), (1612, 0.0), (1613, 0.0), (1614, 0.0), (1615, 0.014113783093241353), (1616, 0.0), (1617, 0.017413395415105767), (1618, 0.004928208899293701), (1619, 0.0), (1620, 0.0), (1621, 0.0), (1622, 0.008672163540087641), (1623, 0.0053602043122081885), (1624, 0.0), (1625, 0.0), (1626, 0.0036434149368213173), (1627, 0.0), (1628, 0.0), (1629, 0.0), (1630, 0.0), (1631, 0.0), (1632, 0.0), (1633, 0.0), (1634, 0.0), (1635, 0.0), (1636, 0.0), (1637, 0.0), (1638, 0.0), (1639, 0.004756731632652302), (1640, 0.0), (1641, 0.0), (1642, 0.0), (1643, 0.0), (1644, 0.009407658921855206), (1645, 0.012462715400458544), (1646, 0.008584601895815816), (1647, 0.0), (1648, 0.0), (1649, 0.005078989473114317), (1650, 0.0), (1651, 0.0), (1652, 0.0), (1653, 0.0), (1654, 0.0), (1655, 0.0), (1656, 0.009331820314126462), (1657, 0.0), (1658, 0.0), (1659, 0.0), (1660, 0.0), (1661, 0.0), (1662, 0.0), (1663, 0.0), (1664, 0.0), (1665, 0.0068330925244475755), (1666, 0.0), (1667, 0.0), (1668, 0.0), (1669, 0.013869337475399432), (1670, 0.0), (1671, 0.0), (1672, 0.006887837871365805), (1673, 0.0), (1674, 0.0), (1675, 0.0), (1676, 0.0), (1677, 0.0), (1678, 0.0), (1679, 0.004724218615197289), (1680, 0.002555306921222503), (1681, 0.0), (1682, 0.005411218715596048), (1683, 0.0), (1684, 0.0), (1685, 0.0), (1686, 0.0028825741703522776), (1687, 0.0), (1688, 0.0), (1689, 0.003073087339841597), (1690, 0.0), (1691, 0.0), (1692, 0.0), (1693, 0.007276451136412569), (1694, 0.0), (1695, 0.0), (1696, 0.0), (1697, 0.0031746813804313656), (1698, 0.0), (1699, 0.015348839033286639), (1700, 0.07872796050221505), (1701, 0.0018235964788004167), (1702, 0.005908837601694009), (1703, 0.008150444286508298), (1704, 0.0023925448430088853), (1705, 0.0), (1706, 0.0), (1707, 0.0), (1708, 0.005288468975199211), (1709, 0.015622369126560245), (1710, 0.0050467440454178975), (1711, 0.006297350406852936), (1712, 0.0), (1713, 0.0), (1714, 0.0), (1715, 0.0), (1716, 0.0), (1717, 0.0), (1718, 0.007132741705875325), (1719, 0.0), (1720, 0.0), (1721, 0.0), (1722, 0.0), (1723, 0.0), (1724, 0.0), (1725, 0.005791585229349687), (1726, 0.0), (1727, 0.007014159872063239), (1728, 0.0), (1729, 0.0), (1730, 0.0), (1731, 0.0), (1732, 0.005936931732922378), (1733, 0.0), (1734, 0.0), (1735, 0.0), (1736, 0.0), (1737, 0.004563248064953498), (1738, 0.0), (1739, 0.0036148654272585862), (1740, 0.0032780053629260053), (1741, 0.0), (1742, 0.018788661205593984), (1743, 0.0), (1744, 0.0), (1745, 0.0), (1746, 0.0), (1747, 0.0029472308421307452), (1748, 0.009320616437034501), (1749, 0.01633256933986878), (1750, 0.005874457830532891), (1751, 0.004990467011113741), (1752, 0.0), (1753, 0.021516003648642038), (1754, 0.0070070525895052594), (1755, 0.0), (1756, 0.00299347936321321), (1757, 0.0), (1758, 0.0), (1759, 0.0), (1760, 0.0), (1761, 0.007088670471837873), (1762, 0.0), (1763, 0.0), (1764, 0.00433584139553811), (1765, 0.0), (1766, 0.0), (1767, 0.0), (1768, 0.0), (1769, 0.0), (1770, 0.0), (1771, 0.0), (1772, 0.0), (1773, 0.0), (1774, 0.0), (1775, 0.0), (1776, 0.004706766684258438), (1777, 0.012516247210398169), (1778, 0.0), (1779, 0.0), (1780, 0.0), (1781, 0.0), (1782, 0.0), (1783, 0.0), (1784, 0.0), (1785, 0.0), (1786, 0.0), (1787, 0.0), (1788, 0.0), (1789, 0.006443420619503573), (1790, 0.0), (1791, 0.0), (1792, 0.04049880818397602), (1793, 0.0), (1794, 0.0), (1795, 0.0), (1796, 0.0), (1797, 0.0020301677684753266), (1798, 0.0), (1799, 0.0), (1800, 0.0), (1801, 0.0), (1802, 0.0), (1803, 0.0), (1804, 0.0), (1805, 0.007083801488199131), (1806, 0.0), (1807, 0.007530309660198136), (1808, 0.0), (1809, 0.0), (1810, 0.0), (1811, 0.0), (1812, 0.004856843283363735), (1813, 0.0), (1814, 0.0029433878044259243), (1815, 0.004897749678015351), (1816, 0.0), (1817, 0.0), (1818, 0.0), (1819, 0.0), (1820, 0.0), (1821, 0.0), (1822, 0.0), (1823, 0.0), (1824, 0.0033759613413735395), (1825, 0.0), (1826, 0.0), (1827, 0.005746350036973337), (1828, 0.0), (1829, 0.0), (1830, 0.0), (1831, 0.0), (1832, 0.006518699455706944), (1833, 0.004274778875353923), (1834, 0.0), (1835, 0.0), (1836, 0.0), (1837, 0.00291785745789053), (1838, 0.0), (1839, 0.0), (1840, 0.0031072772869060734), (1841, 0.0044200957685393005), (1842, 0.004357233296932086), (1843, 0.0), (1844, 0.0), (1845, 0.0), (1846, 0.0), (1847, 0.006034065688499798), (1848, 0.004915969771472633), (1849, 0.0), (1850, 0.00283704483282161), (1851, 0.0), (1852, 0.0), (1853, 0.0), (1854, 0.002782413584209632), (1855, 0.0), (1856, 0.0), (1857, 0.0), (1858, 0.007769452418290638), (1859, 0.0), (1860, 0.0), (1861, 0.0), (1862, 0.004256521990412474), (1863, 0.006997133410961262), (1864, 0.0), (1865, 0.0), (1866, 0.0), (1867, 0.008522407809063324), (1868, 0.0), (1869, 0.0), (1870, 0.005895898533541328), (1871, 0.0047724122097363), (1872, 0.004313571416967272), (1873, 0.0), (1874, 0.004407999807004546), (1875, 0.0), (1876, 0.0), (1877, 0.002430965798935486), (1878, 0.0033751437721669486), (1879, 0.0), (1880, 0.0), (1881, 0.0), (1882, 0.0), (1883, 0.0), (1884, 0.004782762629742992), (1885, 0.0), (1886, 0.0), (1887, 0.0), (1888, 0.004630487592086848), (1889, 0.0), (1890, 0.0), (1891, 0.0), (1892, 0.0), (1893, 0.0), (1894, 0.0), (1895, 0.0), (1896, 0.0), (1897, 0.0), (1898, 0.0), (1899, 0.0), (1900, 0.0), (1901, 0.0), (1902, 0.0), (1903, 0.0), (1904, 0.0), (1905, 0.0), (1906, 0.025469046091451703), (1907, 0.0040755222657363685), (1908, 0.010960748812307354), (1909, 0.0062719006883912845), (1910, 0.0), (1911, 0.0), (1912, 0.003923153126462845), (1913, 0.0), (1914, 0.0), (1915, 0.005488701998292007), (1916, 0.0), (1917, 0.002863625801635874), (1918, 0.0), (1919, 0.0), (1920, 0.0), (1921, 0.005702611825692461), (1922, 0.0), (1923, 0.0), (1924, 0.030086715780631153), (1925, 0.0), (1926, 0.009090688240852714), (1927, 0.0), (1928, 0.0), (1929, 0.0), (1930, 0.0), (1931, 0.007308431491639573), (1932, 0.0), (1933, 0.024873094415188802), (1934, 0.0), (1935, 0.007854175073641365), (1936, 0.0), (1937, 0.0), (1938, 0.03472928445088754), (1939, 0.0), (1940, 0.011120975685405975), (1941, 0.0), (1942, 0.0), (1943, 0.0), (1944, 0.0), (1945, 0.0), (1946, 0.0017900603275583702), (1947, 0.0), (1948, 0.0), (1949, 0.004178975340586565), (1950, 0.0), (1951, 0.0), (1952, 0.0), (1953, 0.0), (1954, 0.0), (1955, 0.004771231225564138), (1956, 0.0), (1957, 0.0), (1958, 0.0), (1959, 0.024484698358475058), (1960, 0.005765849291372459), (1961, 0.0), (1962, 0.00881607690602202), (1963, 0.0), (1964, 0.0), (1965, 0.0), (1966, 0.0), (1967, 0.0), (1968, 0.012240659949446335), (1969, 0.0), (1970, 0.009325665474511175), (1971, 0.0), (1972, 0.0), (1973, 0.0), (1974, 0.0), (1975, 0.0), (1976, 0.0048185996577842964), (1977, 0.004548689030273845), (1978, 0.0), (1979, 0.0), (1980, 0.0), (1981, 0.005983222013224418), (1982, 0.0), (1983, 0.0021801528175276227), (1984, 0.0), (1985, 0.0), (1986, 0.0), (1987, 0.0), (1988, 0.002889942741017703), (1989, 0.004030781586594727), (1990, 0.0), (1991, 0.002876195141316816), (1992, 0.0), (1993, 0.0), (1994, 0.006799245430799168), (1995, 0.0), (1996, 0.0), (1997, 0.0028281038587460996), (1998, 0.0), (1999, 0.0), (2000, 0.007464912677666424), (2001, 0.0), (2002, 0.0), (2003, 0.0), (2004, 0.0), (2005, 0.013427690545254323), (2006, 0.0), (2007, 0.004642835049202384), (2008, 0.0), (2009, 0.0), (2010, 0.01340279033744328), (2011, 0.0), (2012, 0.0), (2013, 0.004193561043652019), (2014, 0.0), (2015, 0.0), (2016, 0.0), (2017, 0.01214378952548193), (2018, 0.0), (2019, 0.0), (2020, 0.0038495564239041614), (2021, 0.005616861809854081), (2022, 0.0179930632517909), (2023, 0.0), (2024, 0.0), (2025, 0.007359062582849867), (2026, 0.0), (2027, 0.0), (2028, 0.0), (2029, 0.005386753194491789), (2030, 0.0), (2031, 0.0), (2032, 0.0), (2033, 0.0), (2034, 0.005063617268494105), (2035, 0.005899134306501585), (2036, 0.0), (2037, 0.0), (2038, 0.008771772898990397), (2039, 0.0), (2040, 0.0), (2041, 0.009920844322777778), (2042, 0.0), (2043, 0.0), (2044, 0.0), (2045, 0.0), (2046, 0.0), (2047, 0.0), (2048, 0.0), (2049, 0.0), (2050, 0.0), (2051, 0.0), (2052, 0.004355556603316367), (2053, 0.005942431465439424), (2054, 0.0), (2055, 0.0), (2056, 0.0), (2057, 0.0), (2058, 0.0), (2059, 0.0), (2060, 0.0), (2061, 0.0), (2062, 0.0), (2063, 0.005418223695214445), (2064, 0.013513200178094414), (2065, 0.0), (2066, 0.0), (2067, 0.0), (2068, 0.009480505185277687), (2069, 0.0), (2070, 0.00463520575049649), (2071, 0.0), (2072, 0.0), (2073, 0.0059270466941665515), (2074, 0.0), (2075, 0.0), (2076, 0.0), (2077, 0.0), (2078, 0.004314453052043376), (2079, 0.0), (2080, 0.004694080831358664), (2081, 0.0), (2082, 0.04167709377404693), (2083, 0.0), (2084, 0.003833331855912284), (2085, 0.0), (2086, 0.003822677771700284), (2087, 0.0), (2088, 0.0), (2089, 0.0), (2090, 0.0), (2091, 0.0), (2092, 0.003604904349498744), (2093, 0.00959998739414708), (2094, 0.003940943422918688), (2095, 0.005347457085810533), (2096, 0.0), (2097, 0.004131976508166459), (2098, 0.006385248229536864), (2099, 0.0), (2100, 0.006974847323569118), (2101, 0.0), (2102, 0.011355374209411632), (2103, 0.0), (2104, 0.0), (2105, 0.0), (2106, 0.0), (2107, 0.010558816500829196), (2108, 0.0075274480348042835), (2109, 0.003915396476916678), (2110, 0.0), (2111, 0.0), (2112, 0.00606068284244169), (2113, 0.0), (2114, 0.0), (2115, 0.0), (2116, 0.0), (2117, 0.0), (2118, 0.0026037600007888665), (2119, 0.0054249936631026105), (2120, 0.003474995500061495), (2121, 0.0), (2122, 0.0), (2123, 0.0), (2124, 0.0), (2125, 0.0), (2126, 0.0), (2127, 0.0), (2128, 0.0), (2129, 0.0), (2130, 0.0), (2131, 0.007594539800784245), (2132, 0.0), (2133, 0.0), (2134, 0.0), (2135, 0.0), (2136, 0.0), (2137, 0.004689009315432893), (2138, 0.0), (2139, 0.00316387157766146), (2140, 0.003635247863740348), (2141, 0.0), (2142, 0.0), (2143, 0.0), (2144, 0.0), (2145, 0.0), (2146, 0.0), (2147, 0.0), (2148, 0.0), (2149, 0.0), (2150, 0.003751951744941939), (2151, 0.005223256814067311), (2152, 0.0), (2153, 0.0), (2154, 0.006247043108968444), (2155, 0.0), (2156, 0.0), (2157, 0.0), (2158, 0.0), (2159, 0.0038784447852165047), (2160, 0.0047069330117295), (2161, 0.006643204099666913), (2162, 0.0), (2163, 0.0), (2164, 0.0), (2165, 0.0), (2166, 0.0), (2167, 0.0031499328585393414), (2168, 0.0), (2169, 0.0), (2170, 0.017343523497298324), (2171, 0.0), (2172, 0.0), (2173, 0.0), (2174, 0.0), (2175, 0.0030631063051116472), (2176, 0.0), (2177, 0.0), (2178, 0.0), (2179, 0.018748877512686703), (2180, 0.003421700256140579), (2181, 0.0), (2182, 0.0), (2183, 0.0), (2184, 0.0), (2185, 0.0), (2186, 0.0), (2187, 0.004991468878085541), (2188, 0.0), (2189, 0.0), (2190, 0.0036176291416077162), (2191, 0.004841657455228445), (2192, 0.002548193497197241), (2193, 0.0), (2194, 0.0), (2195, 0.0), (2196, 0.0), (2197, 0.003924978162870041), (2198, 0.0), (2199, 0.03883316873089207), (2200, 0.0), (2201, 0.0), (2202, 0.0), (2203, 0.0), (2204, 0.003306310439131692), (2205, 0.0), (2206, 0.0), (2207, 0.0), (2208, 0.0), (2209, 0.004732084585947823), (2210, 0.0), (2211, 0.0), (2212, 0.0), (2213, 0.005704659960280989), (2214, 0.0), (2215, 0.0), (2216, 0.0), (2217, 0.0), (2218, 0.004047067316710658), (2219, 0.0), (2220, 0.0), (2221, 0.0), (2222, 0.0), (2223, 0.0), (2224, 0.0), (2225, 0.0), (2226, 0.0), (2227, 0.0), (2228, 0.0), (2229, 0.0064281928350726275), (2230, 0.004798622647260852), (2231, 0.004360671008247533), (2232, 0.0), (2233, 0.0), (2234, 0.0), (2235, 0.0), (2236, 0.0), (2237, 0.02878821165114556), (2238, 0.003933970074339337), (2239, 0.007954657569506828), (2240, 0.0), (2241, 0.0), (2242, 0.0), (2243, 0.0), (2244, 0.0), (2245, 0.0), (2246, 0.0), (2247, 0.0), (2248, 0.0), (2249, 0.0), (2250, 0.0), (2251, 0.0), (2252, 0.0), (2253, 0.0), (2254, 0.0), (2255, 0.0), (2256, 0.0), (2257, 0.0), (2258, 0.024727299959492376), (2259, 0.0), (2260, 0.0), (2261, 0.004870746818461125), (2262, 0.004600776430580801), (2263, 0.0043376923513466425), (2264, 0.0), (2265, 0.002856373065248746), (2266, 0.0), (2267, 0.0056269051748496215), (2268, 0.0021770165822510923), (2269, 0.0), (2270, 0.0), (2271, 0.003296703813043261), (2272, 0.0), (2273, 0.0), (2274, 0.00761885678743798), (2275, 0.0), (2276, 0.0), (2277, 0.0), (2278, 0.002804479989668883), (2279, 0.003287556698058339), (2280, 0.0), (2281, 0.004501380270525832), (2282, 0.0), (2283, 0.0), (2284, 0.0), (2285, 0.0), (2286, 0.0), (2287, 0.006312472519999877), (2288, 0.0), (2289, 0.0), (2290, 0.0), (2291, 0.0), (2292, 0.0074636367121375296), (2293, 0.0), (2294, 0.005298921403733671), (2295, 0.0), (2296, 0.0), (2297, 0.0), (2298, 0.0), (2299, 0.0), (2300, 0.009544018027358932), (2301, 0.0), (2302, 0.004368543309936659), (2303, 0.0), (2304, 0.0), (2305, 0.0), (2306, 0.0), (2307, 0.0), (2308, 0.0034963873376890205), (2309, 0.0), (2310, 0.00602604935973541), (2311, 0.0), (2312, 0.008985099883718787), (2313, 0.0), (2314, 0.0), (2315, 0.0), (2316, 0.0), (2317, 0.0032722010935742132), (2318, 0.0), (2319, 0.0), (2320, 0.007832014708352127), (2321, 0.0), (2322, 0.0), (2323, 0.0), (2324, 0.0), (2325, 0.0034596324194018863), (2326, 0.0), (2327, 0.0), (2328, 0.02103343277545018), (2329, 0.0), (2330, 0.0), (2331, 0.0), (2332, 0.0), (2333, 0.0), (2334, 0.006738879547200223), (2335, 0.0), (2336, 0.0), (2337, 0.0), (2338, 0.0), (2339, 0.0), (2340, 0.0), (2341, 0.0), (2342, 0.0), (2343, 0.0), (2344, 0.0029181471759715787), (2345, 0.0), (2346, 0.005526640537360567), (2347, 0.006114991481660874), (2348, 0.0), (2349, 0.0), (2350, 0.0), (2351, 0.0), (2352, 0.002586021908480075), (2353, 0.0), (2354, 0.0), (2355, 0.0030206678721407345), (2356, 0.0039357608011312524), (2357, 0.0), (2358, 0.0), (2359, 0.0), (2360, 0.006394627828110171), (2361, 0.0), (2362, 0.0), (2363, 0.0), (2364, 0.0), (2365, 0.0), (2366, 0.0), (2367, 0.0), (2368, 0.01724680180519179), (2369, 0.007541222618175255), (2370, 0.0), (2371, 0.0), (2372, 0.0), (2373, 0.0), (2374, 0.0), (2375, 0.0), (2376, 0.004883994335578992), (2377, 0.0), (2378, 0.0), (2379, 0.0), (2380, 0.0), (2381, 0.0), (2382, 0.0), (2383, 0.0), (2384, 0.0), (2385, 0.0), (2386, 0.0), (2387, 0.010358105828132989), (2388, 0.0), (2389, 0.0), (2390, 0.004500457867044796), (2391, 0.0), (2392, 0.0033324012301066833), (2393, 0.006951145120343779), (2394, 0.0), (2395, 0.0), (2396, 0.0), (2397, 0.00557550761674097), (2398, 0.0), (2399, 0.0), (2400, 0.0), (2401, 0.0), (2402, 0.0), (2403, 0.0), (2404, 0.005947862284411425), (2405, 0.00436179298142595), (2406, 0.0), (2407, 0.0), (2408, 0.0), (2409, 0.005941293334220433), (2410, 0.0), (2411, 0.0), (2412, 0.0), (2413, 0.0), (2414, 0.0), (2415, 0.0), (2416, 0.012176592419993712), (2417, 0.0), (2418, 0.0067307116701844395), (2419, 0.005560583818181879), (2420, 0.0), (2421, 0.004018876280871773), (2422, 0.012454809929166753), (2423, 0.03181613541784443), (2424, 0.0), (2425, 0.0), (2426, 0.00533460281062061), (2427, 0.0), (2428, 0.0), (2429, 0.0), (2430, 0.0026422944444739237), (2431, 0.0), (2432, 0.0), (2433, 0.0), (2434, 0.003109577453051346), (2435, 0.0), (2436, 0.0), (2437, 0.0), (2438, 0.0), (2439, 0.0036453681656734615), (2440, 0.0069805577151698306), (2441, 0.0), (2442, 0.005977542373743787), (2443, 0.0), (2444, 0.0), (2445, 0.010548822839409841), (2446, 0.00912218728088878), (2447, 0.0), (2448, 0.0), (2449, 0.0), (2450, 0.0), (2451, 0.0), (2452, 0.0028353468122585294), (2453, 0.0036298260193019234), (2454, 0.0045566467130523335), (2455, 0.0), (2456, 0.0), (2457, 0.0), (2458, 0.0), (2459, 0.0), (2460, 0.0), (2461, 0.0), (2462, 0.0058313668625526015), (2463, 0.0), (2464, 0.0), (2465, 0.0), (2466, 0.0035802013392883703), (2467, 0.0), (2468, 0.0), (2469, 0.0), (2470, 0.0), (2471, 0.010613114141810895), (2472, 0.0), (2473, 0.0), (2474, 0.010082695514904396), (2475, 0.0), (2476, 0.0), (2477, 0.0), (2478, 0.0), (2479, 0.0), (2480, 0.0), (2481, 0.0), (2482, 0.0), (2483, 0.0), (2484, 0.0), (2485, 0.0), (2486, 0.004709776334354647), (2487, 0.0), (2488, 0.010152504397874065), (2489, 0.009465698205780967), (2490, 0.0), (2491, 0.0), (2492, 0.0), (2493, 0.0), (2494, 0.0041322118831590374), (2495, 0.0), (2496, 0.0), (2497, 0.0), (2498, 0.0), (2499, 0.0), (2500, 0.0), (2501, 0.0), (2502, 0.25418129522709487), (2503, 0.0), (2504, 0.0), (2505, 0.007009857152107771), (2506, 0.0), (2507, 0.004599902004489033), (2508, 0.0), (2509, 0.0), (2510, 0.0), (2511, 0.0036746187929131186), (2512, 0.0), (2513, 0.0), (2514, 0.0), (2515, 0.013012648879177148), (2516, 0.004928740366307945), (2517, 0.0), (2518, 0.005567414388010548), (2519, 0.0), (2520, 0.0), (2521, 0.005876885167370077), (2522, 0.0), (2523, 0.0), (2524, 0.006736166240254093), (2525, 0.0), (2526, 0.0), (2527, 0.0), (2528, 0.006476715436715652), (2529, 0.0), (2530, 0.0), (2531, 0.0), (2532, 0.0), (2533, 0.0), (2534, 0.003727470650385245), (2535, 0.007708872605072643), (2536, 0.004862102428122679), (2537, 0.0), (2538, 0.0), (2539, 0.010879200470974437), (2540, 0.0), (2541, 0.0), (2542, 0.0), (2543, 0.0), (2544, 0.0), (2545, 0.0), (2546, 0.006186785450029915), (2547, 0.05710841028024258), (2548, 0.002943856860127996), (2549, 0.004116283368327339), (2550, 0.0), (2551, 0.0), (2552, 0.0), (2553, 0.0), (2554, 0.0), (2555, 0.0), (2556, 0.0), (2557, 0.0), (2558, 0.0), (2559, 0.0), (2560, 0.00827451064946492), (2561, 0.0), (2562, 0.0), (2563, 0.0), (2564, 0.0), (2565, 0.0), (2566, 0.008336054461185873), (2567, 0.0), (2568, 0.0060727708929962975), (2569, 0.0), (2570, 0.0), (2571, 0.0), (2572, 0.009733635164288037), (2573, 0.0), (2574, 0.0), (2575, 0.0), (2576, 0.0), (2577, 0.0), (2578, 0.0), (2579, 0.0), (2580, 0.0), (2581, 0.0), (2582, 0.004678833481877744), (2583, 0.004838985581864363), (2584, 0.0), (2585, 0.00362358859929808), (2586, 0.007691489831252138), (2587, 0.004866480296227486), (2588, 0.0), (2589, 0.007877966856501193), (2590, 0.0), (2591, 0.0), (2592, 0.00807288618679198), (2593, 0.0033950121425168184), (2594, 0.0), (2595, 0.0), (2596, 0.0), (2597, 0.011897360857076862), (2598, 0.0), (2599, 0.005961128832978995), (2600, 0.0), (2601, 0.0), (2602, 0.0), (2603, 0.0), (2604, 0.0), (2605, 0.0), (2606, 0.0), (2607, 0.004882309759163165), (2608, 0.0), (2609, 0.0), (2610, 0.0), (2611, 0.0), (2612, 0.0032482735093418984), (2613, 0.016590338821520667), (2614, 0.0), (2615, 0.04025514388793108), (2616, 0.0), (2617, 0.00546035161600663), (2618, 0.0), (2619, 0.0), (2620, 0.013533132248101678), (2621, 0.0), (2622, 0.0), (2623, 0.005843297369917609), (2624, 0.0), (2625, 0.0), (2626, 0.0), (2627, 0.0), (2628, 0.0), (2629, 0.0), (2630, 0.0), (2631, 0.0), (2632, 0.0), (2633, 0.0), (2634, 0.0), (2635, 0.005463083569020871), (2636, 0.005878025010322661), (2637, 0.0), (2638, 0.0), (2639, 0.0), (2640, 0.0), (2641, 0.01873844061474155), (2642, 0.009571030505905572), (2643, 0.005203062341587867), (2644, 0.0), (2645, 0.0), (2646, 0.004690581976724692), (2647, 0.0), (2648, 0.004860870293003327), (2649, 0.0), (2650, 0.01142830888147358), (2651, 0.0), (2652, 0.0), (2653, 0.0), (2654, 0.0), (2655, 0.0), (2656, 0.0), (2657, 0.0), (2658, 0.0), (2659, 0.0034168969011571394), (2660, 0.0), (2661, 0.004839762092054857), (2662, 0.0), (2663, 0.0), (2664, 0.0042516294684499314), (2665, 0.005680519085826122), (2666, 0.0), (2667, 0.0), (2668, 0.0), (2669, 0.006284703795540422), (2670, 0.0), (2671, 0.0), (2672, 0.0), (2673, 0.003087745488005389), (2674, 0.0), (2675, 0.0), (2676, 0.0), (2677, 0.0), (2678, 0.0055711841393344085), (2679, 0.0), (2680, 0.0), (2681, 0.004712624200820511), (2682, 0.0), (2683, 0.005034672211747731), (2684, 0.0), (2685, 0.0), (2686, 0.0), (2687, 0.0), (2688, 0.004408062776761265), (2689, 0.0), (2690, 0.03439071013328874), (2691, 0.0), (2692, 0.0), (2693, 0.0), (2694, 0.0), (2695, 0.0), (2696, 0.0), (2697, 0.0), (2698, 0.005048417391272711), (2699, 0.004947658522585957), (2700, 0.0), (2701, 0.0), (2702, 0.0), (2703, 0.0), (2704, 0.0), (2705, 0.0), (2706, 0.004087131870282739), (2707, 0.004413404428418428), (2708, 0.0), (2709, 0.0), (2710, 0.0), (2711, 0.00950312296720548), (2712, 0.0), (2713, 0.0), (2714, 0.0), (2715, 0.0), (2716, 0.0), (2717, 0.0), (2718, 0.0), (2719, 0.0), (2720, 0.005235850743406887), (2721, 0.009731061388925785), (2722, 0.0), (2723, 0.0), (2724, 0.0066885628623197324), (2725, 0.018404445322208276), (2726, 0.0), (2727, 0.0035317050753862237), (2728, 0.00764171994045907), (2729, 0.0), (2730, 0.0), (2731, 0.0), (2732, 0.0), (2733, 0.0), (2734, 0.005131757961996041), (2735, 0.0), (2736, 0.0), (2737, 0.0), (2738, 0.004817636978517203), (2739, 0.0), (2740, 0.0), (2741, 0.0), (2742, 0.0), (2743, 0.0), (2744, 0.0), (2745, 0.0), (2746, 0.0), (2747, 0.003918320318821265), (2748, 0.0035443038428948446), (2749, 0.0038235865586866958), (2750, 0.005180647098544429), (2751, 0.007303454148833894), (2752, 0.0), (2753, 0.0), (2754, 0.0), (2755, 0.0053442046105045635), (2756, 0.0), (2757, 0.0), (2758, 0.0), (2759, 0.012799004988462002), (2760, 0.008854695381346783), (2761, 0.003323213238929742), (2762, 0.01649005178597404), (2763, 0.0), (2764, 0.0), (2765, 0.0), (2766, 0.0), (2767, 0.0), (2768, 0.0), (2769, 0.0), (2770, 0.008205405182137375), (2771, 0.0), (2772, 0.0057625440986579166), (2773, 0.0), (2774, 0.0), (2775, 0.0), (2776, 0.005705231754488575), (2777, 0.0), (2778, 0.0), (2779, 0.0), (2780, 0.0), (2781, 0.0), (2782, 0.0), (2783, 0.0), (2784, 0.0057830911927759104), (2785, 0.0), (2786, 0.0), (2787, 0.005111372300984828), (2788, 0.004520680541075841), (2789, 0.0), (2790, 0.0068134318007480365), (2791, 0.004143512958895505), (2792, 0.0028946770967009814), (2793, 0.0), (2794, 0.0), (2795, 0.0), (2796, 0.0), (2797, 0.0), (2798, 0.005913903599976124), (2799, 0.0), (2800, 0.0), (2801, 0.0), (2802, 0.009992176452375814), (2803, 0.0), (2804, 0.012302334590377167), (2805, 0.0), (2806, 0.005175306770523218), (2807, 0.008465824729254659), (2808, 0.0), (2809, 0.0), (2810, 0.0), (2811, 0.005462151112066319), (2812, 0.0), (2813, 0.0051439585931829694), (2814, 0.0), (2815, 0.0), (2816, 0.007221138578865309), (2817, 0.011593692229409201), (2818, 0.0), (2819, 0.0), (2820, 0.0071320619133535944), (2821, 0.0034739871577442365), (2822, 0.008537624061105612), (2823, 0.0027693942844928795), (2824, 0.0028767380196660117), (2825, 0.0), (2826, 0.0), (2827, 0.0), (2828, 0.005838054688486704), (2829, 0.0), (2830, 0.007574364536251597), (2831, 0.0), (2832, 0.0027989315454541477), (2833, 0.008077406417403492), (2834, 0.0), (2835, 0.0), (2836, 0.005474709457446895), (2837, 0.0), (2838, 0.0), (2839, 0.0), (2840, 0.005537786567291391), (2841, 0.0), (2842, 0.01222422244001228), (2843, 0.0), (2844, 0.0043362204444715785), (2845, 0.005273309478128409), (2846, 0.01603968671784771), (2847, 0.0), (2848, 0.0), (2849, 0.0), (2850, 0.0), (2851, 0.0), (2852, 0.003950728086627779), (2853, 0.0), (2854, 0.0048498143963247985), (2855, 0.0), (2856, 0.0), (2857, 0.005586888331650499), (2858, 0.013073554861262611), (2859, 0.005599263572715247), (2860, 0.0), (2861, 0.0), (2862, 0.0), (2863, 0.0), (2864, 0.0091621935421395), (2865, 0.005963686485682238), (2866, 0.0), (2867, 0.0), (2868, 0.0), (2869, 0.0), (2870, 0.0), (2871, 0.0), (2872, 0.0), (2873, 0.0), (2874, 0.0), (2875, 0.0), (2876, 0.0), (2877, 0.0), (2878, 0.0), (2879, 0.0), (2880, 0.004891347590352373), (2881, 0.0), (2882, 0.0), (2883, 0.0), (2884, 0.0), (2885, 0.007951318205972033), (2886, 0.0), (2887, 0.0), (2888, 0.0078091661453507325), (2889, 0.0), (2890, 0.0), (2891, 0.0), (2892, 0.008439312450162932), (2893, 0.0030487721780165563), (2894, 0.006443029416468511), (2895, 0.005757704906406572), (2896, 0.0), (2897, 0.007001855135291306), (2898, 0.0), (2899, 0.01742669769373132), (2900, 0.00918626346082324), (2901, 0.0), (2902, 0.0), (2903, 0.0), (2904, 0.0), (2905, 0.007691453444063924), (2906, 0.0), (2907, 0.0), (2908, 0.0), (2909, 0.0), (2910, 0.0), (2911, 0.0), (2912, 0.0), (2913, 0.004758072298970567), (2914, 0.0), (2915, 0.0), (2916, 0.007677980165656672), (2917, 0.0), (2918, 0.005076490558807413), (2919, 0.0), (2920, 0.0), (2921, 0.0), (2922, 0.0), (2923, 0.0), (2924, 0.0), (2925, 0.0), (2926, 0.0), (2927, 0.0), (2928, 0.007020988420752025), (2929, 0.009023325244964697), (2930, 0.0065045507950075255), (2931, 0.0), (2932, 0.0), (2933, 0.015410496321460606), (2934, 0.0), (2935, 0.0), (2936, 0.011441327495673441), (2937, 0.0), (2938, 0.013404544988591376), (2939, 0.004386579145688223), (2940, 0.0), (2941, 0.006043939913611551), (2942, 0.0), (2943, 0.0), (2944, 0.0), (2945, 0.0), (2946, 0.0), (2947, 0.0), (2948, 0.0), (2949, 0.0), (2950, 0.006990644147129614), (2951, 0.0), (2952, 0.0), (2953, 0.0), (2954, 0.0), (2955, 0.0), (2956, 0.0), (2957, 0.0), (2958, 0.026347035108841572), (2959, 0.0), (2960, 0.0), (2961, 0.009250010545420502), (2962, 0.0), (2963, 0.011704868218220837), (2964, 0.011065491462169404), (2965, 0.00478623672095362), (2966, 0.003512420243419923), (2967, 0.0050486275674289345), (2968, 0.0), (2969, 0.0), (2970, 0.0), (2971, 0.0), (2972, 0.0), (2973, 0.0), (2974, 0.0), (2975, 0.0), (2976, 0.003951775912077875), (2977, 0.0), (2978, 0.0), (2979, 0.0), (2980, 0.0), (2981, 0.0), (2982, 0.0), (2983, 0.0), (2984, 0.0), (2985, 0.0), (2986, 0.004259473259539428), (2987, 0.0), (2988, 0.0), (2989, 0.0), (2990, 0.0), (2991, 0.005810540780026186), (2992, 0.0), (2993, 0.0), (2994, 0.0043904583963429), (2995, 0.0), (2996, 0.009969001376320648), (2997, 0.005907214365031977), (2998, 0.0), (2999, 0.0030852155413842344), (3000, 0.0), (3001, 0.006914093799795545), (3002, 0.0), (3003, 0.0), (3004, 0.0), (3005, 0.0), (3006, 0.0), (3007, 0.0), (3008, 0.011759847134230537), (3009, 0.0043466715698976905), (3010, 0.003959154094445507), (3011, 0.0), (3012, 0.004721885807394746), (3013, 0.0), (3014, 0.0), (3015, 0.0), (3016, 0.0), (3017, 0.0066685391622260904), (3018, 0.0), (3019, 0.005544104567446473), (3020, 0.0), (3021, 0.0), (3022, 0.004193723440419435), (3023, 0.0), (3024, 0.0), (3025, 0.008428687185553157), (3026, 0.0), (3027, 0.0), (3028, 0.0), (3029, 0.0), (3030, 0.005413328799571556), (3031, 0.0), (3032, 0.0), (3033, 0.0), (3034, 0.0), (3035, 0.0), (3036, 0.006186187187791633), (3037, 0.0), (3038, 0.0), (3039, 0.0), (3040, 0.003337431125481096), (3041, 0.0037120603258957658), (3042, 0.0), (3043, 0.0), (3044, 0.0), (3045, 0.0), (3046, 0.0), (3047, 0.0), (3048, 0.006602998852862058), (3049, 0.0), (3050, 0.0), (3051, 0.0), (3052, 0.004293563522690885), (3053, 0.0), (3054, 0.0), (3055, 0.009138802759125009), (3056, 0.0), (3057, 0.0), (3058, 0.004886327282533179), (3059, 0.0), (3060, 0.0), (3061, 0.0), (3062, 0.0), (3063, 0.0), (3064, 0.0), (3065, 0.0), (3066, 0.0), (3067, 0.0), (3068, 0.0046571421736030655), (3069, 0.0), (3070, 0.008210888509407644), (3071, 0.0), (3072, 0.0036704230274334083), (3073, 0.0), (3074, 0.0), (3075, 0.0021038030591832403), (3076, 0.004775880115968945), (3077, 0.0), (3078, 0.0), (3079, 0.012535750868835283), (3080, 0.003802972456237962), (3081, 0.0), (3082, 0.0), (3083, 0.0), (3084, 0.0), (3085, 0.0), (3086, 0.0), (3087, 0.0026020190750294233), (3088, 0.0), (3089, 0.0), (3090, 0.0), (3091, 0.0), (3092, 0.0), (3093, 0.008043776095777113), (3094, 0.0), (3095, 0.007109484479470331), (3096, 0.005324604302932438), (3097, 0.02124233834227914), (3098, 0.0), (3099, 0.0047998129059152175), (3100, 0.0), (3101, 0.0), (3102, 0.00955355622678429), (3103, 0.0), (3104, 0.0), (3105, 0.013942610253190775), (3106, 0.0027670223861973246), (3107, 0.0036570639174247784), (3108, 0.003965932159400371), (3109, 0.0), (3110, 0.0), (3111, 0.0), (3112, 0.0028650717083929323), (3113, 0.0), (3114, 0.0), (3115, 0.0), (3116, 0.0), (3117, 0.004311117264426241), (3118, 0.0039476864305367), (3119, 0.005843867158210881), (3120, 0.0), (3121, 0.0), (3122, 0.0), (3123, 0.01567963903638138), (3124, 0.003943923186675779), (3125, 0.0), (3126, 0.0), (3127, 0.0), (3128, 0.011770226176935702), (3129, 0.0), (3130, 0.0), (3131, 0.0), (3132, 0.0), (3133, 0.0), (3134, 0.0), (3135, 0.0), (3136, 0.0), (3137, 0.0), (3138, 0.005592327097886224), (3139, 0.0), (3140, 0.0053916016404610585), (3141, 0.004245190892642981), (3142, 0.00611666958978818), (3143, 0.006572111624931851), (3144, 0.0), (3145, 0.0), (3146, 0.0056124698711085535), (3147, 0.0037819259267403114), (3148, 0.0), (3149, 0.0), (3150, 0.00331515391454146), (3151, 0.003653088894257197), (3152, 0.0), (3153, 0.0), (3154, 0.0), (3155, 0.0), (3156, 0.0), (3157, 0.0), (3158, 0.0), (3159, 0.005242147254075258), (3160, 0.0), (3161, 0.0), (3162, 0.0), (3163, 0.0), (3164, 0.004760916795516021), (3165, 0.008487053197074192), (3166, 0.003962620837828251), (3167, 0.00448403675788842), (3168, 0.008315993202519302), (3169, 0.0), (3170, 0.0), (3171, 0.0), (3172, 0.004302254923551761), (3173, 0.0), (3174, 0.0), (3175, 0.0), (3176, 0.004674913512929818), (3177, 0.0), (3178, 0.005234143096488745), (3179, 0.0), (3180, 0.0), (3181, 0.004174657088688294), (3182, 0.0), (3183, 0.0), (3184, 0.0), (3185, 0.01009283778499807), (3186, 0.0), (3187, 0.0), (3188, 0.006905625901281376), (3189, 0.0), (3190, 0.0), (3191, 0.0), (3192, 0.002732979597086659), (3193, 0.0), (3194, 0.0), (3195, 0.008163570321008083), (3196, 0.008956581689520756), (3197, 0.0), (3198, 0.0), (3199, 0.0), (3200, 0.0), (3201, 0.0), (3202, 0.0), (3203, 0.0), (3204, 0.0), (3205, 0.0), (3206, 0.0), (3207, 0.0), (3208, 0.0), (3209, 0.0), (3210, 0.0), (3211, 0.0), (3212, 0.0), (3213, 0.005524888744375604), (3214, 0.002645469618577018), (3215, 0.0), (3216, 0.0076604299553916025), (3217, 0.0), (3218, 0.0), (3219, 0.0), (3220, 0.0), (3221, 0.007205377318243653), (3222, 0.0), (3223, 0.0), (3224, 0.0), (3225, 0.0), (3226, 0.0), (3227, 0.0), (3228, 0.0), (3229, 0.003241571688837114), (3230, 0.0), (3231, 0.0), (3232, 0.009879431296135126), (3233, 0.008884945176059889), (3234, 0.0), (3235, 0.0), (3236, 0.0), (3237, 0.0), (3238, 0.0), (3239, 0.0), (3240, 0.0), (3241, 0.00875001881245657), (3242, 0.0), (3243, 0.0), (3244, 0.0), (3245, 0.0081929657466058), (3246, 0.0), (3247, 0.0), (3248, 0.0031650156063400122), (3249, 0.0), (3250, 0.0), (3251, 0.006639938649531575), (3252, 0.0), (3253, 0.0), (3254, 0.0), (3255, 0.012436970764607423), (3256, 0.0), (3257, 0.0), (3258, 0.0), (3259, 0.0), (3260, 0.0), (3261, 0.0), (3262, 0.0), (3263, 0.0), (3264, 0.0), (3265, 0.0), (3266, 0.0), (3267, 0.0), (3268, 0.0), (3269, 0.003628369654369287), (3270, 0.0), (3271, 0.0), (3272, 0.007412526359988943), (3273, 0.0), (3274, 0.009279041737587626), (3275, 0.0060442772246455745), (3276, 0.0), (3277, 0.0042767190135510995), (3278, 0.0), (3279, 0.010808610369172883), (3280, 0.0), (3281, 0.0), (3282, 0.0), (3283, 0.0), (3284, 0.0), (3285, 0.0), (3286, 0.0), (3287, 0.0), (3288, 0.0), (3289, 0.006519374641694708), (3290, 0.0), (3291, 0.00590730054430019), (3292, 0.0), (3293, 0.0), (3294, 0.0), (3295, 0.0), (3296, 0.004159868314819914), (3297, 0.00799445031738034), (3298, 0.0), (3299, 0.004094897835702562), (3300, 0.0), (3301, 0.0), (3302, 0.003915876080429081), (3303, 0.004951225041507761), (3304, 0.0), (3305, 0.0), (3306, 0.0), (3307, 0.0), (3308, 0.008213697984908707), (3309, 0.0), (3310, 0.0), (3311, 0.0076366454459670195), (3312, 0.0), (3313, 0.0), (3314, 0.0), (3315, 0.0029956591947107583), (3316, 0.004562335532543256), (3317, 0.0), (3318, 0.0), (3319, 0.0), (3320, 0.003959652050178427), (3321, 0.0), (3322, 0.0), (3323, 0.0), (3324, 0.002627251725317117), (3325, 0.0), (3326, 0.012302642596006896), (3327, 0.0), (3328, 0.007292616640599009), (3329, 0.0), (3330, 0.0), (3331, 0.0), (3332, 0.0), (3333, 0.0), (3334, 0.0), (3335, 0.0), (3336, 0.0), (3337, 0.004178759532211087), (3338, 0.0), (3339, 0.0), (3340, 0.005572063397113556), (3341, 0.003910356836733416), (3342, 0.003295174271188251), (3343, 0.008506117530332024), (3344, 0.0), (3345, 0.0), (3346, 0.0), (3347, 0.0), (3348, 0.0), (3349, 0.0), (3350, 0.0), (3351, 0.0), (3352, 0.0), (3353, 0.0), (3354, 0.0), (3355, 0.0), (3356, 0.0), (3357, 0.003365272158916239), (3358, 0.006354196657819731), (3359, 0.00823711176988089), (3360, 0.00378906593628333), (3361, 0.0037453761485867205), (3362, 0.0), (3363, 0.009496831057754552), (3364, 0.0), (3365, 0.0), (3366, 0.0), (3367, 0.00771233323298263), (3368, 0.01479430989546297), (3369, 0.0019262794553636523), (3370, 0.0), (3371, 0.0), (3372, 0.008723462748514384), (3373, 0.0), (3374, 0.0), (3375, 0.0), (3376, 0.00843737102947338), (3377, 0.0), (3378, 0.0), (3379, 0.0038209491025690693), (3380, 0.0), (3381, 0.009870030991797214), (3382, 0.0), (3383, 0.010499904676713748), (3384, 0.009315701440650375), (3385, 0.008062474106779694), (3386, 0.0), (3387, 0.0), (3388, 0.0), (3389, 0.0), (3390, 0.0), (3391, 0.0), (3392, 0.0), (3393, 0.0), (3394, 0.0), (3395, 0.0037787953493418295), (3396, 0.0), (3397, 0.0), (3398, 0.0), (3399, 0.0), (3400, 0.004041993356646674), (3401, 0.0), (3402, 0.0), (3403, 0.0), (3404, 0.0), (3405, 0.0045601941126845414), (3406, 0.0), (3407, 0.0), (3408, 0.004251958331541117), (3409, 0.002827446193052682), (3410, 0.0), (3411, 0.0030893932972331727), (3412, 0.015706099168478933), (3413, 0.0), (3414, 0.004657660521126756), (3415, 0.0), (3416, 0.0), (3417, 0.0), (3418, 0.0), (3419, 0.0024884811009111005), (3420, 0.0), (3421, 0.0), (3422, 0.0037065655102769424), (3423, 0.0), (3424, 0.0), (3425, 0.0), (3426, 0.0), (3427, 0.0), (3428, 0.0026885584279197016), (3429, 0.005911022233106799), (3430, 0.0), (3431, 0.0), (3432, 0.0), (3433, 0.0), (3434, 0.0), (3435, 0.0), (3436, 0.0), (3437, 0.0), (3438, 0.0), (3439, 0.0), (3440, 0.0), (3441, 0.0), (3442, 0.0), (3443, 0.0), (3444, 0.0), (3445, 0.0), (3446, 0.0), (3447, 0.0), (3448, 0.0033383555090030154), (3449, 0.0), (3450, 0.0030640406093438858), (3451, 0.008223823123249473), (3452, 0.0), (3453, 0.0), (3454, 0.0), (3455, 0.007604011664688789), (3456, 0.0058157121873536), (3457, 0.0), (3458, 0.002913196118362489), (3459, 0.0), (3460, 0.0), (3461, 0.0), (3462, 0.0), (3463, 0.003825414393980234), (3464, 0.006178606308973717), (3465, 0.0), (3466, 0.0), (3467, 0.0), (3468, 0.0029026630463012825), (3469, 0.0), (3470, 0.004719046109992753), (3471, 0.00580850212605555), (3472, 0.0), (3473, 0.0), (3474, 0.0), (3475, 0.0), (3476, 0.0), (3477, 0.0), (3478, 0.006165835345483052), (3479, 0.0), (3480, 0.0), (3481, 0.0), (3482, 0.0), (3483, 0.0), (3484, 0.0), (3485, 0.0), (3486, 0.0), (3487, 0.0), (3488, 0.0), (3489, 0.0), (3490, 0.0), (3491, 0.0), (3492, 0.007166334039393257), (3493, 0.0), (3494, 0.0), (3495, 0.003510927679198654), (3496, 0.0), (3497, 0.004182733485057309), (3498, 0.0), (3499, 0.0), (3500, 0.0), (3501, 0.0), (3502, 0.0), (3503, 0.009475119790621007), (3504, 0.006627711564036656), (3505, 0.0), (3506, 0.005252285784302133), (3507, 0.0), (3508, 0.0), (3509, 0.0), (3510, 0.0), (3511, 0.0), (3512, 0.0), (3513, 0.0), (3514, 0.004989997257490651), (3515, 0.0035354116753123126), (3516, 0.0064443037242272756), (3517, 0.0), (3518, 0.0), (3519, 0.0), (3520, 0.0), (3521, 0.0), (3522, 0.0), (3523, 0.0), (3524, 0.0), (3525, 0.0), (3526, 0.003280696085007851), (3527, 0.0), (3528, 0.007515785369426342), (3529, 0.0), (3530, 0.0), (3531, 0.0), (3532, 0.0), (3533, 0.0), (3534, 0.0), (3535, 0.0043637474329891795), (3536, 0.0), (3537, 0.004490567036877998), (3538, 0.0), (3539, 0.0), (3540, 0.0), (3541, 0.0), (3542, 0.004219659148284011), (3543, 0.0), (3544, 0.010474918846083977), (3545, 0.0), (3546, 0.0), (3547, 0.0), (3548, 0.0), (3549, 0.004115250493222851), (3550, 0.0), (3551, 0.0), (3552, 0.0), (3553, 0.0), (3554, 0.0), (3555, 0.013426823080407043), (3556, 0.0), (3557, 0.0), (3558, 0.0), (3559, 0.005665039939216116), (3560, 0.0), (3561, 0.004662347365106589), (3562, 0.005497422687974594), (3563, 0.004089485100731431), (3564, 0.0), (3565, 0.0), (3566, 0.0), (3567, 0.0), (3568, 0.0), (3569, 0.0028205152276607748), (3570, 0.0), (3571, 0.0), (3572, 0.0), (3573, 0.003921562491197391), (3574, 0.0), (3575, 0.0), (3576, 0.0), (3577, 0.0), (3578, 0.0), (3579, 0.0), (3580, 0.0), (3581, 0.0), (3582, 0.0), (3583, 0.0038357591077303487), (3584, 0.0), (3585, 0.0), (3586, 0.010179388875988222), (3587, 0.0), (3588, 0.0), (3589, 0.0), (3590, 0.0), (3591, 0.0), (3592, 0.0), (3593, 0.004438730506813464), (3594, 0.0), (3595, 0.004763829231793425), (3596, 0.01030104640176119), (3597, 0.0), (3598, 0.0), (3599, 0.012827425126856674), (3600, 0.004665676228921764), (3601, 0.010256854631874505), (3602, 0.006372909245178694), (3603, 0.0), (3604, 0.0), (3605, 0.0), (3606, 0.0032060101255354523), (3607, 0.0), (3608, 0.0), (3609, 0.0071965977564718816), (3610, 0.0), (3611, 0.0), (3612, 0.004674607741194663), (3613, 0.0), (3614, 0.0), (3615, 0.0), (3616, 0.0), (3617, 0.0), (3618, 0.0), (3619, 0.007343072719320893), (3620, 0.005214320962444012), (3621, 0.006661844404525328), (3622, 0.0046659802014692685), (3623, 0.0), (3624, 0.005158254250051361), (3625, 0.0), (3626, 0.0), (3627, 0.0), (3628, 0.0), (3629, 0.007399170419254093), (3630, 0.0), (3631, 0.0), (3632, 0.0), (3633, 0.0), (3634, 0.004607630195193443), (3635, 0.0), (3636, 0.0), (3637, 0.0), (3638, 0.0), (3639, 0.0), (3640, 0.006555093102696447), (3641, 0.0), (3642, 0.0), (3643, 0.0), (3644, 0.0), (3645, 0.0), (3646, 0.0), (3647, 0.0), (3648, 0.008794310727938648), (3649, 0.0), (3650, 0.005075891393244605), (3651, 0.003961340735077115), (3652, 0.0), (3653, 0.005932975362698523), (3654, 0.0), (3655, 0.0), (3656, 0.0), (3657, 0.005927446643751074), (3658, 0.0), (3659, 0.0), (3660, 0.0), (3661, 0.0), (3662, 0.0), (3663, 0.0), (3664, 0.0), (3665, 0.026556994284820674), (3666, 0.0), (3667, 0.0), (3668, 0.003928257965853927), (3669, 0.0), (3670, 0.0), (3671, 0.0), (3672, 0.0), (3673, 0.0), (3674, 0.0), (3675, 0.01043557581738428), (3676, 0.0), (3677, 0.007202877014440449), (3678, 0.0), (3679, 0.004569860680697516), (3680, 0.0), (3681, 0.0), (3682, 0.00397324287852163), (3683, 0.0), (3684, 0.0), (3685, 0.002671414197423173), (3686, 0.0), (3687, 0.0), (3688, 0.0), (3689, 0.0), (3690, 0.002424556739673905), (3691, 0.0), (3692, 0.0), (3693, 0.004621412423359436), (3694, 0.0), (3695, 0.008661608873343048), (3696, 0.0), (3697, 0.0), (3698, 0.0), (3699, 0.007302449522641662), (3700, 0.0), (3701, 0.0), (3702, 0.0), (3703, 0.002713420242202654), (3704, 0.0), (3705, 0.004943094506921841), (3706, 0.0), (3707, 0.0), (3708, 0.0046244030485729955), (3709, 0.0), (3710, 0.0), (3711, 0.017558170704441555), (3712, 0.0), (3713, 0.0), (3714, 0.0), (3715, 0.0), (3716, 0.0), (3717, 0.0), (3718, 0.0), (3719, 0.0), (3720, 0.0), (3721, 0.0), (3722, 0.0), (3723, 0.0), (3724, 0.0), (3725, 0.0), (3726, 0.0), (3727, 0.006775578823217427), (3728, 0.0030689971131649366), (3729, 0.0), (3730, 0.0), (3731, 0.0), (3732, 0.0), (3733, 0.0), (3734, 0.004200744413469859), (3735, 0.00445822168274797), (3736, 0.0), (3737, 0.0), (3738, 0.006954455613493437), (3739, 0.0), (3740, 0.0), (3741, 0.004779643041172121), (3742, 0.0), (3743, 0.0), (3744, 0.0), (3745, 0.0), (3746, 0.005338884590063036), (3747, 0.0), (3748, 0.0), (3749, 0.0030998887554473556), (3750, 0.0), (3751, 0.0), (3752, 0.004467239913110441), (3753, 0.0), (3754, 0.0), (3755, 0.0), (3756, 0.0), (3757, 0.05311859128927567), (3758, 0.0), (3759, 0.0), (3760, 0.0), (3761, 0.0), (3762, 0.0), (3763, 0.015074910773705846), (3764, 0.0), (3765, 0.0), (3766, 0.0), (3767, 0.0), (3768, 0.003981398028564235), (3769, 0.0), (3770, 0.004112288948012148), (3771, 0.0), (3772, 0.0), (3773, 0.0039323636654056615), (3774, 0.009889599564377129), (3775, 0.0), (3776, 0.0), (3777, 0.003673340208375655), (3778, 0.0), (3779, 0.004525396791185152), (3780, 0.0), (3781, 0.006523802462927477), (3782, 0.005058913058952942), (3783, 0.0), (3784, 0.004511817027545189), (3785, 0.0), (3786, 0.0), (3787, 0.0), (3788, 0.0), (3789, 0.0), (3790, 0.0), (3791, 0.0), (3792, 0.0), (3793, 0.0), (3794, 0.0), (3795, 0.0), (3796, 0.0), (3797, 0.0), (3798, 0.0), (3799, 0.023347780060066985), (3800, 0.0), (3801, 0.0), (3802, 0.0), (3803, 0.0), (3804, 0.0), (3805, 0.0), (3806, 0.023793845404434605), (3807, 0.01039039894231887), (3808, 0.0), (3809, 0.0), (3810, 0.003945216937314053), (3811, 0.004355733790406583), (3812, 0.0), (3813, 0.0), (3814, 0.0066308717609004295), (3815, 0.0), (3816, 0.0), (3817, 0.0), (3818, 0.0), (3819, 0.0), (3820, 0.0), (3821, 0.0), (3822, 0.0), (3823, 0.009342860382952215), (3824, 0.0), (3825, 0.0), (3826, 0.003040570455901703), (3827, 0.0), (3828, 0.0), (3829, 0.0), (3830, 0.0), (3831, 0.0065990800123411925), (3832, 0.0), (3833, 0.0), (3834, 0.0), (3835, 0.0), (3836, 0.00682066035968421), (3837, 0.006722537199003042), (3838, 0.005877517622466546), (3839, 0.016544724054857036), (3840, 0.0016654615319192459), (3841, 0.0), (3842, 0.004028649871412584), (3843, 0.0), (3844, 0.0), (3845, 0.0), (3846, 0.0), (3847, 0.0), (3848, 0.0), (3849, 0.0024766746798828647), (3850, 0.0), (3851, 0.0), (3852, 0.0), (3853, 0.0), (3854, 0.0), (3855, 0.0), (3856, 0.0), (3857, 0.0), (3858, 0.0), (3859, 0.0), (3860, 0.0), (3861, 0.0), (3862, 0.0026093634270368997), (3863, 0.0), (3864, 0.004215157461506703), (3865, 0.004507682725554916), (3866, 0.006832319863908519), (3867, 0.008097055518772999), (3868, 0.004664347285494086), (3869, 0.0), (3870, 0.006686844764347476), (3871, 0.0), (3872, 0.0), (3873, 0.0), (3874, 0.0), (3875, 0.0), (3876, 0.004526561360296663), (3877, 0.005856658474017553), (3878, 0.0), (3879, 0.0), (3880, 0.0), (3881, 0.0), (3882, 0.0), (3883, 0.0), (3884, 0.0), (3885, 0.010101163436441535), (3886, 0.013127245347296992), (3887, 0.0), (3888, 0.0), (3889, 0.004501066175886634), (3890, 0.0), (3891, 0.0), (3892, 0.0), (3893, 0.0), (3894, 0.00480717749598219), (3895, 0.005178527131215014), (3896, 0.0), (3897, 0.0), (3898, 0.0), (3899, 0.0), (3900, 0.0), (3901, 0.0), (3902, 0.0), (3903, 0.012574468048878124), (3904, 0.0), (3905, 0.0), (3906, 0.0), (3907, 0.0), (3908, 0.0), (3909, 0.01609430261420576), (3910, 0.0), (3911, 0.00619342559413605), (3912, 0.0), (3913, 0.0), (3914, 0.0), (3915, 0.003216051940624066), (3916, 0.005974505835208938), (3917, 0.0), (3918, 0.0), (3919, 0.0034637376602178124), (3920, 0.0), (3921, 0.0), (3922, 0.0), (3923, 0.0), (3924, 0.0), (3925, 0.0), (3926, 0.0), (3927, 0.0), (3928, 0.0), (3929, 0.0), (3930, 0.0), (3931, 0.0), (3932, 0.0), (3933, 0.006923727487375468), (3934, 0.010363230095431537), (3935, 0.004170059841571198), (3936, 0.0), (3937, 0.0), (3938, 0.0), (3939, 0.005800261069617495), (3940, 0.008152475778696457), (3941, 0.0036464523367288593), (3942, 0.0035940694527894545), (3943, 0.006209755531945276), (3944, 0.005554482309882891), (3945, 0.0026326265978026957), (3946, 0.005361770789233314), (3947, 0.0), (3948, 0.006217927220061665), (3949, 0.0), (3950, 0.0), (3951, 0.0), (3952, 0.0), (3953, 0.010578030381512081), (3954, 0.006729355925263322), (3955, 0.0), (3956, 0.013867625109327413), (3957, 0.0), (3958, 0.0), (3959, 0.011892188633512005), (3960, 0.009763110138583633), (3961, 0.0), (3962, 0.0), (3963, 0.0), (3964, 0.0), (3965, 0.0), (3966, 0.0), (3967, 0.004863899949905933), (3968, 0.008230497413905705), (3969, 0.00929424012122728), (3970, 0.0), (3971, 0.0), (3972, 0.0034365745154559604), (3973, 0.0), (3974, 0.0050638617481836914), (3975, 0.0), (3976, 0.0), (3977, 0.0), (3978, 0.0), (3979, 0.005022769276566442), (3980, 0.0), (3981, 0.0), (3982, 0.0), (3983, 0.002581780708652968), (3984, 0.0), (3985, 0.008524215001238036), (3986, 0.0), (3987, 0.0), (3988, 0.0), (3989, 0.0), (3990, 0.0), (3991, 0.0), (3992, 0.0), (3993, 0.0), (3994, 0.0), (3995, 0.0), (3996, 0.0), (3997, 0.00818786042883452), (3998, 0.008152647274269358), (3999, 0.0034996871944741642), (4000, 0.002767188557069617), (4001, 0.002711159364479009), (4002, 0.005130112167791656), (4003, 0.004201797383911747), (4004, 0.0), (4005, 0.0), (4006, 0.0), (4007, 0.0), (4008, 0.0), (4009, 0.0), (4010, 0.0028947370840976413), (4011, 0.0), (4012, 0.0), (4013, 0.0), (4014, 0.0), (4015, 0.0), (4016, 0.0), (4017, 0.0), (4018, 0.0), (4019, 0.0084731052328539), (4020, 0.0), (4021, 0.0), (4022, 0.0), (4023, 0.002314389681838483), (4024, 0.0), (4025, 0.0037425564702677225), (4026, 0.0), (4027, 0.014010838962322152), (4028, 0.0019677424635760957), (4029, 0.004681464008987034), (4030, 0.0), (4031, 0.0), (4032, 0.0), (4033, 0.004555180980686153), (4034, 0.0), (4035, 0.0), (4036, 0.003688746725959582), (4037, 0.004806928133042075), (4038, 0.0), (4039, 0.0), (4040, 0.0), (4041, 0.012469179632902453), (4042, 0.009710430447970786), (4043, 0.013087437194588105), (4044, 0.0), (4045, 0.004700314682720445), (4046, 0.0), (4047, 0.0), (4048, 0.0), (4049, 0.0), (4050, 0.004427881815429385), (4051, 0.0), (4052, 0.003729412805484561), (4053, 0.0), (4054, 0.0), (4055, 0.0), (4056, 0.0), (4057, 0.013686728558490898), (4058, 0.0), (4059, 0.004785817640238587), (4060, 0.0), (4061, 0.0), (4062, 0.0), (4063, 0.006574578421043739), (4064, 0.0), (4065, 0.0), (4066, 0.004728099584546073), (4067, 0.0), (4068, 0.004895174234431314), (4069, 0.0), (4070, 0.0), (4071, 0.0), (4072, 0.0), (4073, 0.0), (4074, 0.0), (4075, 0.0), (4076, 0.0), (4077, 0.029127725336400317), (4078, 0.0), (4079, 0.0), (4080, 0.0), (4081, 0.0), (4082, 0.0), (4083, 0.0), (4084, 0.0), (4085, 0.0), (4086, 0.0), (4087, 0.0), (4088, 0.0), (4089, 0.0), (4090, 0.019210181899337854), (4091, 0.004000243460051429), (4092, 0.0), (4093, 0.0), (4094, 0.0), (4095, 0.0), (4096, 0.0033238563947124763), (4097, 0.0), (4098, 0.003837033680093549), (4099, 0.0), (4100, 0.0), (4101, 0.0), (4102, 0.0), (4103, 0.0), (4104, 0.0), (4105, 0.0), (4106, 0.0), (4107, 0.0), (4108, 0.0), (4109, 0.0), (4110, 0.0), (4111, 0.0), (4112, 0.0), (4113, 0.00747104480530645), (4114, 0.0), (4115, 0.0), (4116, 0.008287610403031814), (4117, 0.0), (4118, 0.0), (4119, 0.009505305413833511), (4120, 0.0), (4121, 0.0), (4122, 0.0034770887427865594), (4123, 0.0), (4124, 0.012190721467856167), (4125, 0.0), (4126, 0.0), (4127, 0.0065110624428717095), (4128, 0.011447288701606112), (4129, 0.0), (4130, 0.0), (4131, 0.0), (4132, 0.0), (4133, 0.007419285129628094), (4134, 0.0), (4135, 0.0), (4136, 0.010068559715249146), (4137, 0.010905998489411201), (4138, 0.0), (4139, 0.0027287636646878355), (4140, 0.0023020120621974434), (4141, 0.0), (4142, 0.0), (4143, 0.0), (4144, 0.0), (4145, 0.0), (4146, 0.0), (4147, 0.0), (4148, 0.0), (4149, 0.0), (4150, 0.0), (4151, 0.0), (4152, 0.0), (4153, 0.010299888460576704), (4154, 0.0), (4155, 0.0), (4156, 0.006326518993102847), (4157, 0.0), (4158, 0.004009784989738921), (4159, 0.008952639358030864), (4160, 0.0), (4161, 0.005073534282744411), (4162, 0.0), (4163, 0.0028517040222038746), (4164, 0.0), (4165, 0.006626916693939647), (4166, 0.007186464422458476), (4167, 0.00776036593423624), (4168, 0.0), (4169, 0.0), (4170, 0.003948348162785376), (4171, 0.0027264010602514916), (4172, 0.0), (4173, 0.0), (4174, 0.006064106042282452), (4175, 0.009204813649284615), (4176, 0.004863975420880984), (4177, 0.0), (4178, 0.005143664778078851), (4179, 0.0), (4180, 0.0), (4181, 0.0), (4182, 0.0), (4183, 0.01180900397486336), (4184, 0.012618711728639707), (4185, 0.0034820616808658063), (4186, 0.0), (4187, 0.0), (4188, 0.0), (4189, 0.0), (4190, 0.0), (4191, 0.0065138065311185515), (4192, 0.0), (4193, 0.0), (4194, 0.0029859932581844184), (4195, 0.0), (4196, 0.0), (4197, 0.0), (4198, 0.0), (4199, 0.0), (4200, 0.0), (4201, 0.0), (4202, 0.003681466119857337), (4203, 0.0), (4204, 0.0), (4205, 0.0), (4206, 0.0), (4207, 0.0), (4208, 0.0), (4209, 0.0), (4210, 0.00395406940068779), (4211, 0.007621175629820811), (4212, 0.01580389196768586), (4213, 0.0), (4214, 0.0), (4215, 0.005405941044773298), (4216, 0.004826011349867009), (4217, 0.0), (4218, 0.0), (4219, 0.003604697463374181), (4220, 0.0), (4221, 0.0), (4222, 0.0), (4223, 0.0), (4224, 0.007509258015571082), (4225, 0.0), (4226, 0.0), (4227, 0.0034400491342720485), (4228, 0.0), (4229, 0.0), (4230, 0.0), (4231, 0.004035715831988147), (4232, 0.0), (4233, 0.0), (4234, 0.0), (4235, 0.0), (4236, 0.0), (4237, 0.0032604842636600254), (4238, 0.009365295680201061), (4239, 0.0), (4240, 0.0), (4241, 0.0), (4242, 0.0), (4243, 0.0), (4244, 0.0), (4245, 0.0), (4246, 0.0), (4247, 0.0), (4248, 0.0), (4249, 0.0), (4250, 0.002660589795399672), (4251, 0.0), (4252, 0.0065280218701665015), (4253, 0.00427093440168551), (4254, 0.002508499998927113), (4255, 0.011608517442776125), (4256, 0.0), (4257, 0.0), (4258, 0.0), (4259, 0.0), (4260, 0.0), (4261, 0.0), (4262, 0.0), (4263, 0.0), (4264, 0.0), (4265, 0.0), (4266, 0.008874371850354935), (4267, 0.002412005369779261), (4268, 0.0), (4269, 0.0), (4270, 0.005106648814557139), (4271, 0.0), (4272, 0.0), (4273, 0.0), (4274, 0.0061879579323229385), (4275, 0.005550525635649093), (4276, 0.0), (4277, 0.0), (4278, 0.0), (4279, 0.0), (4280, 0.0), (4281, 0.0), (4282, 0.0), (4283, 0.00790685924989871), (4284, 0.010144915517458665), (4285, 0.0), (4286, 0.0), (4287, 0.0), (4288, 0.0), (4289, 0.0), (4290, 0.003993141133667225), (4291, 0.0), (4292, 0.014713773182073467), (4293, 0.0), (4294, 0.0), (4295, 0.0), (4296, 0.0032954747349143517), (4297, 0.004814384121386995), (4298, 0.0), (4299, 0.0), (4300, 0.0), (4301, 0.0), (4302, 0.004075858686018374), (4303, 0.003001401922841025), (4304, 0.0), (4305, 0.0), (4306, 0.0026065482922250113), (4307, 0.0), (4308, 0.007200391774582077), (4309, 0.0), (4310, 0.0), (4311, 0.007390221835154501), (4312, 0.0), (4313, 0.0), (4314, 0.0), (4315, 0.004408085115456954), (4316, 0.0), (4317, 0.0075595040076792035), (4318, 0.0), (4319, 0.0), (4320, 0.0), (4321, 0.009309401686573932), (4322, 0.0), (4323, 0.0), (4324, 0.0), (4325, 0.0), (4326, 0.0), (4327, 0.0), (4328, 0.0), (4329, 0.0), (4330, 0.0), (4331, 0.0), (4332, 0.0), (4333, 0.007402567167820615), (4334, 0.0), (4335, 0.0), (4336, 0.0), (4337, 0.0), (4338, 0.0), (4339, 0.0), (4340, 0.0), (4341, 0.0033913165576237537), (4342, 0.0), (4343, 0.0), (4344, 0.0), (4345, 0.00983358216891485), (4346, 0.0), (4347, 0.006003118161647207), (4348, 0.0), (4349, 0.0), (4350, 0.0), (4351, 0.0), (4352, 0.0), (4353, 0.0), (4354, 0.0), (4355, 0.0), (4356, 0.004603215475433583), (4357, 0.012540292507817997), (4358, 0.0), (4359, 0.0), (4360, 0.0), (4361, 0.0030750841850065917), (4362, 0.0), (4363, 0.0), (4364, 0.0), (4365, 0.0), (4366, 0.0), (4367, 0.013146342396593473), (4368, 0.0), (4369, 0.0), (4370, 0.0), (4371, 0.0), (4372, 0.0), (4373, 0.0), (4374, 0.010236147396248752), (4375, 0.0), (4376, 0.004913977406809965), (4377, 0.002841027354091847), (4378, 0.0), (4379, 0.0), (4380, 0.0), (4381, 0.0), (4382, 0.0), (4383, 0.03794715062415702), (4384, 0.0), (4385, 0.0), (4386, 0.0), (4387, 0.0), (4388, 0.0), (4389, 0.0), (4390, 0.0066188040591094646), (4391, 0.0), (4392, 0.0), (4393, 0.0), (4394, 0.004232569887284158), (4395, 0.0), (4396, 0.0), (4397, 0.0), (4398, 0.0), (4399, 0.0), (4400, 0.0), (4401, 0.0), (4402, 0.0), (4403, 0.0), (4404, 0.0), (4405, 0.0), (4406, 0.0), (4407, 0.0), (4408, 0.0), (4409, 0.0), (4410, 0.009420062808404656), (4411, 0.0), (4412, 0.014226410838901034), (4413, 0.0), (4414, 0.0), (4415, 0.003670910067024143), (4416, 0.0), (4417, 0.0), (4418, 0.0), (4419, 0.0), (4420, 0.0), (4421, 0.0), (4422, 0.0), (4423, 0.0), (4424, 0.0), (4425, 0.007534557680382148), (4426, 0.0), (4427, 0.0), (4428, 0.003545244940645102), (4429, 0.0), (4430, 0.0), (4431, 0.0), (4432, 0.0), (4433, 0.0), (4434, 0.0), (4435, 0.010692945168228826), (4436, 0.0), (4437, 0.0), (4438, 0.009448552257305986), (4439, 0.0), (4440, 0.0), (4441, 0.0), (4442, 0.0), (4443, 0.00593033990668322), (4444, 0.003270025461012996), (4445, 0.0), (4446, 0.0074470860109069675), (4447, 0.0), (4448, 0.0), (4449, 0.006242847865964297), (4450, 0.0), (4451, 0.0), (4452, 0.0), (4453, 0.0), (4454, 0.008645042116807966), (4455, 0.009766542151162192), (4456, 0.0), (4457, 0.0), (4458, 0.0), (4459, 0.0), (4460, 0.005184131332138973), (4461, 0.0061139690074736575), (4462, 0.0), (4463, 0.002734170577242943), (4464, 0.0), (4465, 0.005977683824786299), (4466, 0.00939667475162214), (4467, 0.0), (4468, 0.0), (4469, 0.006088503000158301), (4470, 0.0), (4471, 0.0), (4472, 0.0), (4473, 0.0), (4474, 0.0), (4475, 0.0), (4476, 0.0), (4477, 0.0), (4478, 0.0), (4479, 0.0), (4480, 0.07367934262657212), (4481, 0.012587793953411475), (4482, 0.0), (4483, 0.0), (4484, 0.0), (4485, 0.0), (4486, 0.0), (4487, 0.0), (4488, 0.0), (4489, 0.0), (4490, 0.0), (4491, 0.0), (4492, 0.0), (4493, 0.0), (4494, 0.005443634799444327), (4495, 0.0), (4496, 0.0), (4497, 0.0), (4498, 0.0), (4499, 0.0), (4500, 0.0039332128612376335), (4501, 0.0), (4502, 0.0), (4503, 0.0), (4504, 0.0), (4505, 0.0), (4506, 0.0), (4507, 0.0), (4508, 0.004501863017696881), (4509, 0.01223020866922881), (4510, 0.0), (4511, 0.0), (4512, 0.0), (4513, 0.0), (4514, 0.0), (4515, 0.0), (4516, 0.0), (4517, 0.003268344544809826), (4518, 0.007793693825921595), (4519, 0.0), (4520, 0.0), (4521, 0.0), (4522, 0.022294142140345693), (4523, 0.0), (4524, 0.002746148470969406), (4525, 0.0), (4526, 0.0), (4527, 0.0), (4528, 0.0038557345133042042), (4529, 0.003844920213683347), (4530, 0.0), (4531, 0.008034956921888423), (4532, 0.0), (4533, 0.0), (4534, 0.0), (4535, 0.0), (4536, 0.0), (4537, 0.005069517763476783), (4538, 0.0066323713033402355), (4539, 0.0), (4540, 0.0), (4541, 0.0), (4542, 0.0), (4543, 0.00396432553828015), (4544, 0.0), (4545, 0.0), (4546, 0.0), (4547, 0.00474350796494129), (4548, 0.0), (4549, 0.0), (4550, 0.0), (4551, 0.0), (4552, 0.0028480901080287615), (4553, 0.0035598960090496255), (4554, 0.0), (4555, 0.0), (4556, 0.0), (4557, 0.0), (4558, 0.0), (4559, 0.0), (4560, 0.0), (4561, 0.0), (4562, 0.0), (4563, 0.004975087875556967), (4564, 0.0), (4565, 0.0), (4566, 0.004214390760786139), (4567, 0.0), (4568, 0.0), (4569, 0.005953025954014653), (4570, 0.0), (4571, 0.0), (4572, 0.0038806795879733572), (4573, 0.0), (4574, 0.0), (4575, 0.0), (4576, 0.0), (4577, 0.0), (4578, 0.0), (4579, 0.0), (4580, 0.0060223840045830436), (4581, 0.0), (4582, 0.003588822190777484), (4583, 0.0), (4584, 0.00288043327935675), (4585, 0.0), (4586, 0.0), (4587, 0.01043981669913598), (4588, 0.0), (4589, 0.0), (4590, 0.0), (4591, 0.0), (4592, 0.0), (4593, 0.0), (4594, 0.0), (4595, 0.0), (4596, 0.0), (4597, 0.0), (4598, 0.0021742581473990987), (4599, 0.00201722297541385), (4600, 0.0), (4601, 0.0), (4602, 0.0), (4603, 0.003959155305338159), (4604, 0.0), (4605, 0.0), (4606, 0.005946937916978659), (4607, 0.00456765360422249), (4608, 0.0), (4609, 0.0), (4610, 0.0), (4611, 0.0), (4612, 0.0), (4613, 0.0), (4614, 0.0), (4615, 0.0031395391156649045), (4616, 0.0), (4617, 0.0), (4618, 0.0), (4619, 0.0), (4620, 0.0), (4621, 0.010619420656848998), (4622, 0.0), (4623, 0.0025553066765634934), (4624, 0.0), (4625, 0.0), (4626, 0.0), (4627, 0.0), (4628, 0.0040250564665676065), (4629, 0.006864897256481317), (4630, 0.0), (4631, 0.0), (4632, 0.0), (4633, 0.0), (4634, 0.0), (4635, 0.0), (4636, 0.0), (4637, 0.0), (4638, 0.007104706772434633), (4639, 0.0), (4640, 0.0052402754321425465), (4641, 0.0), (4642, 0.0), (4643, 0.0), (4644, 0.00323649105062291), (4645, 0.0), (4646, 0.0), (4647, 0.0), (4648, 0.0), (4649, 0.0), (4650, 0.0), (4651, 0.0), (4652, 0.00943016248777195), (4653, 0.0), (4654, 0.0), (4655, 0.0), (4656, 0.0), (4657, 0.010447083374593942), (4658, 0.0), (4659, 0.0), (4660, 0.0), (4661, 0.00463730938021597), (4662, 0.004152382389145829), (4663, 0.005370049354935753), (4664, 0.0), (4665, 0.0), (4666, 0.004264048162028301), (4667, 0.0), (4668, 0.0), (4669, 0.0), (4670, 0.0), (4671, 0.005499490626291305), (4672, 0.0), (4673, 0.0), (4674, 0.0), (4675, 0.0), (4676, 0.0), (4677, 0.0), (4678, 0.0), (4679, 0.0), (4680, 0.0), (4681, 0.0), (4682, 0.0), (4683, 0.0), (4684, 0.002927775589222536), (4685, 0.009934061995239154), (4686, 0.0), (4687, 0.0), (4688, 0.009579602638454199), (4689, 0.0), (4690, 0.0), (4691, 0.0058830330508690895), (4692, 0.004214611096976286), (4693, 0.005291448728361778), (4694, 0.0), (4695, 0.0), (4696, 0.0), (4697, 0.0), (4698, 0.0035420258501570405), (4699, 0.0), (4700, 0.0), (4701, 0.0), (4702, 0.04590570400313152), (4703, 0.0), (4704, 0.0), (4705, 0.0), (4706, 0.004160566735879295), (4707, 0.0), (4708, 0.0), (4709, 0.0), (4710, 0.007118120135368266), (4711, 0.0), (4712, 0.0), (4713, 0.0), (4714, 0.0), (4715, 0.0), (4716, 0.0), (4717, 0.0105662241269719), (4718, 0.003463291031906954), (4719, 0.0), (4720, 0.0), (4721, 0.00780334101841908), (4722, 0.0), (4723, 0.0), (4724, 0.004362951999605056), (4725, 0.0), (4726, 0.0), (4727, 0.012028986299756402), (4728, 0.009100137005187544), (4729, 0.007198277170923154), (4730, 0.008947960128329536), (4731, 0.0041209012295770255), (4732, 0.0), (4733, 0.0), (4734, 0.003247761500909973), (4735, 0.0), (4736, 0.0), (4737, 0.0), (4738, 0.002673447797726174), (4739, 0.005728617723724933), (4740, 0.0), (4741, 0.0), (4742, 0.0), (4743, 0.0), (4744, 0.00559331772907448), (4745, 0.00788517107608344), (4746, 0.0), (4747, 0.0), (4748, 0.0), (4749, 0.0), (4750, 0.0), (4751, 0.0), (4752, 0.0), (4753, 0.0), (4754, 0.0), (4755, 0.002499319654378356), (4756, 0.0), (4757, 0.0), (4758, 0.0), (4759, 0.0), (4760, 0.0), (4761, 0.0), (4762, 0.0), (4763, 0.0), (4764, 0.0), (4765, 0.00881506048910225), (4766, 0.0), (4767, 0.011119981922630364), (4768, 0.0), (4769, 0.0), (4770, 0.0), (4771, 0.0), (4772, 0.0), (4773, 0.0), (4774, 0.0), (4775, 0.005405640848693615), (4776, 0.0), (4777, 0.007891851702889906), (4778, 0.0), (4779, 0.0), (4780, 0.0), (4781, 0.0), (4782, 0.0), (4783, 0.0), (4784, 0.0), (4785, 0.0), (4786, 0.0), (4787, 0.0), (4788, 0.0), (4789, 0.004737767430478865), (4790, 0.0), (4791, 0.0), (4792, 0.0), (4793, 0.0), (4794, 0.005870612433722548), (4795, 0.0), (4796, 0.018505538369045102), (4797, 0.0), (4798, 0.0), (4799, 0.0), (4800, 0.006197638895923082), (4801, 0.0), (4802, 0.004495051596599914), (4803, 0.0), (4804, 0.0), (4805, 0.0), (4806, 0.0029465551767987744), (4807, 0.005869879658979591), (4808, 0.0), (4809, 0.0), (4810, 0.004790591320933305), (4811, 0.0), (4812, 0.0), (4813, 0.0026932855944960285), (4814, 0.00384631092115974), (4815, 0.0), (4816, 0.0), (4817, 0.0), (4818, 0.0), (4819, 0.0), (4820, 0.0), (4821, 0.0), (4822, 0.0), (4823, 0.0), (4824, 0.005125351716385169), (4825, 0.0), (4826, 0.0), (4827, 0.0), (4828, 0.0), (4829, 0.0), (4830, 0.0), (4831, 0.0), (4832, 0.0), (4833, 0.002062556386528018), (4834, 0.0), (4835, 0.0), (4836, 0.0), (4837, 0.006047318253581224), (4838, 0.0), (4839, 0.0), (4840, 0.0), (4841, 0.0), (4842, 0.004005143576963949), (4843, 0.0), (4844, 0.003056722012556837), (4845, 0.0), (4846, 0.0), (4847, 0.0), (4848, 0.007132795155856787), (4849, 0.005127921057016056), (4850, 0.004539874268221252), (4851, 0.0), (4852, 0.0), (4853, 0.004174193658414648), (4854, 0.0), (4855, 0.0), (4856, 0.0034266699245311086), (4857, 0.0), (4858, 0.0), (4859, 0.0038415309970199693), (4860, 0.0), (4861, 0.0), (4862, 0.003989866776015419), (4863, 0.0026007950991620335), (4864, 0.0), (4865, 0.005929360830761854), (4866, 0.0), (4867, 0.0), (4868, 0.0), (4869, 0.009915679371556638), (4870, 0.003799499622121764), (4871, 0.0), (4872, 0.0), (4873, 0.0), (4874, 0.0), (4875, 0.0), (4876, 0.0), (4877, 0.0), (4878, 0.004346446456310703), (4879, 0.014014805444500327), (4880, 0.0), (4881, 0.004066649610535881), (4882, 0.0), (4883, 0.0), (4884, 0.011205134687881214), (4885, 0.004960851969886434), (4886, 0.0), (4887, 0.00579352403074058), (4888, 0.0), (4889, 0.0), (4890, 0.0), (4891, 0.0), (4892, 0.0), (4893, 0.007394318323563002), (4894, 0.0059281285179183865), (4895, 0.0), (4896, 0.0), (4897, 0.0), (4898, 0.007767147982796298), (4899, 0.0), (4900, 0.003093719511694412), (4901, 0.004849592610810211), (4902, 0.0), (4903, 0.007367980820668117), (4904, 0.0), (4905, 0.0), (4906, 0.0), (4907, 0.0), (4908, 0.0), (4909, 0.0), (4910, 0.0), (4911, 0.0), (4912, 0.0), (4913, 0.0), (4914, 0.0038187420122936045), (4915, 0.0), (4916, 0.00440414797744176), (4917, 0.0), (4918, 0.006300177889473347), (4919, 0.0), (4920, 0.006392701163702302), (4921, 0.0063564886144297245), (4922, 0.0), (4923, 0.0053354338592444955), (4924, 0.0), (4925, 0.0), (4926, 0.005000282774453134), (4927, 0.0), (4928, 0.0), (4929, 0.0), (4930, 0.0), (4931, 0.0), (4932, 0.0), (4933, 0.010218485514688925), (4934, 0.0), (4935, 0.03574808866755129), (4936, 0.0), (4937, 0.004187028628248393), (4938, 0.0), (4939, 0.0), (4940, 0.011557897077485037), (4941, 0.0), (4942, 0.0), (4943, 0.00630150675146283), (4944, 0.0), (4945, 0.0), (4946, 0.0), (4947, 0.005519296488714758), (4948, 0.0), (4949, 0.0037963689005101283), (4950, 0.004034188604625151), (4951, 0.0), (4952, 0.0), (4953, 0.0), (4954, 0.0), (4955, 0.0), (4956, 0.0), (4957, 0.014500818868618587), (4958, 0.0), (4959, 0.004929407901344959), (4960, 0.0), (4961, 0.0), (4962, 0.0), (4963, 0.0057476384306207684), (4964, 0.0), (4965, 0.0), (4966, 0.0), (4967, 0.0), (4968, 0.0), (4969, 0.0), (4970, 0.005185029912907013), (4971, 0.0055701766814503185), (4972, 0.007894545159379589), (4973, 0.0030661026469077698), (4974, 0.0), (4975, 0.0), (4976, 0.0), (4977, 0.0), (4978, 0.0), (4979, 0.0028452164091852914), (4980, 0.0), (4981, 0.0), (4982, 0.0), (4983, 0.0), (4984, 0.0), (4985, 0.0), (4986, 0.0), (4987, 0.0), (4988, 0.05600734710995279), (4989, 0.006895764321023977), (4990, 0.0), (4991, 0.0), (4992, 0.0), (4993, 0.0), (4994, 0.0), (4995, 0.012730179317188098), (4996, 0.0), (4997, 0.0), (4998, 0.013100484712980677), (4999, 0.0), (5000, 0.0), (5001, 0.0), (5002, 0.006863057554154753), (5003, 0.0039138222829930595), (5004, 0.009558036370802865), (5005, 0.010585377817127399), (5006, 0.0), (5007, 0.00797092439903101), (5008, 0.0), (5009, 0.0), (5010, 0.008533453787500131), (5011, 0.0), (5012, 0.0), (5013, 0.008223547333610876), (5014, 0.0), (5015, 0.00488928484778387), (5016, 0.0), (5017, 0.0), (5018, 0.0), (5019, 0.01022088145986744), (5020, 0.0031900010308966637), (5021, 0.0), (5022, 0.0), (5023, 0.004140936057493552), (5024, 0.0), (5025, 0.0), (5026, 0.0), (5027, 0.0), (5028, 0.0), (5029, 0.0), (5030, 0.0), (5031, 0.0), (5032, 0.0), (5033, 0.0), (5034, 0.003605457002179598), (5035, 0.0), (5036, 0.0), (5037, 0.0), (5038, 0.005367946055132173), (5039, 0.0), (5040, 0.016348013281461245), (5041, 0.0031614042275104844), (5042, 0.0), (5043, 0.0), (5044, 0.0), (5045, 0.0), (5046, 0.0), (5047, 0.0038554014159654843), (5048, 0.004846827341450837), (5049, 0.0), (5050, 0.0), (5051, 0.0), (5052, 0.003962713877771089), (5053, 0.0), (5054, 0.0), (5055, 0.0), (5056, 0.0), (5057, 0.0), (5058, 0.0), (5059, 0.0), (5060, 0.005243685522496096), (5061, 0.0), (5062, 0.0), (5063, 0.0), (5064, 0.0), (5065, 0.0), (5066, 0.01155763660839386), (5067, 0.0), (5068, 0.0), (5069, 0.0), (5070, 0.0), (5071, 0.0), (5072, 0.009390668834966448), (5073, 0.0), (5074, 0.0), (5075, 0.0), (5076, 0.0), (5077, 0.0), (5078, 0.0), (5079, 0.0), (5080, 0.0), (5081, 0.0), (5082, 0.0), (5083, 0.0), (5084, 0.0), (5085, 0.0), (5086, 0.0059291202871360575), (5087, 0.0), (5088, 0.0), (5089, 0.0), (5090, 0.0), (5091, 0.0), (5092, 0.005543272216869558), (5093, 0.0), (5094, 0.0), (5095, 0.0), (5096, 0.0), (5097, 0.004281667556359034), (5098, 0.005838181739782821), (5099, 0.0), (5100, 0.0), (5101, 0.0107081989214419), (5102, 0.009190125365463615), (5103, 0.0), (5104, 0.005846242947798052), (5105, 0.005419363752952129), (5106, 0.0), (5107, 0.0), (5108, 0.004525638483017163), (5109, 0.0), (5110, 0.0), (5111, 0.0), (5112, 0.0), (5113, 0.0), (5114, 0.003755746907840746), (5115, 0.004841171364625167), (5116, 0.002968943596858915), (5117, 0.005195624874033924), (5118, 0.0), (5119, 0.0), (5120, 0.005742229225674513), (5121, 0.0), (5122, 0.0), (5123, 0.0), (5124, 0.0), (5125, 0.0), (5126, 0.003791936217135804), (5127, 0.010447050990760577), (5128, 0.0), (5129, 0.00576971278064587), (5130, 0.0), (5131, 0.007681078334048544), (5132, 0.0), (5133, 0.0), (5134, 0.008540243302156424), (5135, 0.0), (5136, 0.008928200314687823), (5137, 0.0), (5138, 0.0), (5139, 0.011789033112994816), (5140, 0.04868098510802588), (5141, 0.0), (5142, 0.0), (5143, 0.0), (5144, 0.006247167553788599), (5145, 0.0), (5146, 0.0), (5147, 0.009289395379525013), (5148, 0.006500056610246582), (5149, 0.0), (5150, 0.0), (5151, 0.0), (5152, 0.0), (5153, 0.0), (5154, 0.0), (5155, 0.013082537789287085), (5156, 0.0), (5157, 0.0), (5158, 0.0), (5159, 0.0), (5160, 0.00643698754827057), (5161, 0.0), (5162, 0.00398312161148808), (5163, 0.0), (5164, 0.003156701982321881), (5165, 0.0), (5166, 0.0), (5167, 0.0), (5168, 0.0), (5169, 0.0), (5170, 0.0), (5171, 0.01007792886342783), (5172, 0.0), (5173, 0.005366048586058095), (5174, 0.0), (5175, 0.0), (5176, 0.0), (5177, 0.004127762089544161), (5178, 0.0025848372852295375), (5179, 0.0028062345071555635), (5180, 0.0), (5181, 0.003457853218812063), (5182, 0.0), (5183, 0.0), (5184, 0.004852186323199778), (5185, 0.0), (5186, 0.0), (5187, 0.0044967333350476885), (5188, 0.0), (5189, 0.0042103785102331395), (5190, 0.0), (5191, 0.013204992053635813), (5192, 0.0), (5193, 0.0), (5194, 0.0), (5195, 0.0), (5196, 0.0), (5197, 0.0), (5198, 0.0), (5199, 0.0040295635564079925), (5200, 0.0054508776979987385), (5201, 0.0), (5202, 0.0), (5203, 0.0), (5204, 0.0), (5205, 0.0), (5206, 0.0), (5207, 0.010886132928585349), (5208, 0.0), (5209, 0.0), (5210, 0.0), (5211, 0.0), (5212, 0.0043435034954087), (5213, 0.0), (5214, 0.0), (5215, 0.0), (5216, 0.0), (5217, 0.0), (5218, 0.0), (5219, 0.0), (5220, 0.0), (5221, 0.005268020193756391), (5222, 0.0), (5223, 0.0), (5224, 0.0), (5225, 0.0), (5226, 0.0), (5227, 0.0), (5228, 0.011276056488996749), (5229, 0.0068041072622062205), (5230, 0.0), (5231, 0.0), (5232, 0.0), (5233, 0.0), (5234, 0.0), (5235, 0.003328998237156114), (5236, 0.0), (5237, 0.009267989205455428), (5238, 0.0), (5239, 0.0), (5240, 0.0), (5241, 0.0), (5242, 0.0), (5243, 0.0), (5244, 0.0), (5245, 0.0), (5246, 0.004207197786540282), (5247, 0.0), (5248, 0.0), (5249, 0.0), (5250, 0.0), (5251, 0.0), (5252, 0.0), (5253, 0.0), (5254, 0.0), (5255, 0.0), (5256, 0.0), (5257, 0.0), (5258, 0.0), (5259, 0.005640029036456456), (5260, 0.0), (5261, 0.00842616499457899), (5262, 0.0), (5263, 0.0), (5264, 0.0), (5265, 0.011932385345662912), (5266, 0.0), (5267, 0.0), (5268, 0.00403058693277646), (5269, 0.0), (5270, 0.0), (5271, 0.0), (5272, 0.0), (5273, 0.0), (5274, 0.0), (5275, 0.006046698841105301), (5276, 0.004831439986680675), (5277, 0.0), (5278, 0.007290741069801283), (5279, 0.0), (5280, 0.0), (5281, 0.03195940347803309), (5282, 0.0), (5283, 0.0), (5284, 0.0), (5285, 0.0), (5286, 0.005000594373850395), (5287, 0.0), (5288, 0.007464346503810791), (5289, 0.0), (5290, 0.004154284966909627), (5291, 0.0), (5292, 0.0), (5293, 0.0), (5294, 0.0), (5295, 0.0), (5296, 0.0), (5297, 0.0), (5298, 0.017278492002565378), (5299, 0.0), (5300, 0.0), (5301, 0.003828028900962858), (5302, 0.00426374839181288), (5303, 0.003628590317709277), (5304, 0.0), (5305, 0.009104599782005004), (5306, 0.0), (5307, 0.0), (5308, 0.013077230982944877), (5309, 0.0), (5310, 0.0), (5311, 0.0), (5312, 0.0), (5313, 0.0), (5314, 0.0), (5315, 0.0), (5316, 0.0), (5317, 0.0), (5318, 0.0), (5319, 0.0046071598360335015), (5320, 0.0), (5321, 0.009089706923750255), (5322, 0.0), (5323, 0.002864211902847262), (5324, 0.0), (5325, 0.007617521120813723), (5326, 0.0), (5327, 0.0024560757555631726), (5328, 0.0), (5329, 0.0), (5330, 0.0), (5331, 0.0), (5332, 0.0), (5333, 0.0), (5334, 0.0), (5335, 0.00450293037228418), (5336, 0.0), (5337, 0.0), (5338, 0.0), (5339, 0.0), (5340, 0.007542670597714157), (5341, 0.0), (5342, 0.0), (5343, 0.0), (5344, 0.00321539784159509), (5345, 0.008774133324912269), (5346, 0.0), (5347, 0.0), (5348, 0.0), (5349, 0.013030851681240104), (5350, 0.0), (5351, 0.0), (5352, 0.007535261363971114), (5353, 0.0), (5354, 0.0), (5355, 0.0072602525157177845), (5356, 0.0), (5357, 0.0), (5358, 0.015737858327635235), (5359, 0.0), (5360, 0.0), (5361, 0.03291122514974809), (5362, 0.0), (5363, 0.0031482435789012973), (5364, 0.0), (5365, 0.005991988492026145), (5366, 0.0), (5367, 0.004853689811385166), (5368, 0.004482465983011266), (5369, 0.0), (5370, 0.00597017398417476), (5371, 0.003212168688487423), (5372, 0.0), (5373, 0.0), (5374, 0.0), (5375, 0.0), (5376, 0.01774709939751376), (5377, 0.008205850767756187), (5378, 0.0), (5379, 0.0), (5380, 0.0), (5381, 0.0), (5382, 0.004619746703418953), (5383, 0.0), (5384, 0.0), (5385, 0.0), (5386, 0.0), (5387, 0.005153125033316382), (5388, 0.0), (5389, 0.007296948599819668), (5390, 0.0), (5391, 0.0), (5392, 0.0019219578569809404), (5393, 0.0), (5394, 0.004673335213387689), (5395, 0.0), (5396, 0.0), (5397, 0.0), (5398, 0.0), (5399, 0.007845361596175833), (5400, 0.0), (5401, 0.0), (5402, 0.005814707529043404), (5403, 0.0), (5404, 0.0), (5405, 0.0), (5406, 0.0), (5407, 0.0), (5408, 0.0), (5409, 0.0), (5410, 0.00404473103518501), (5411, 0.0), (5412, 0.0), (5413, 0.006842764965635738), (5414, 0.0), (5415, 0.0), (5416, 0.0), (5417, 0.0), (5418, 0.0), (5419, 0.0), (5420, 0.0058136204316321044), (5421, 0.0), (5422, 0.006047431789388717), (5423, 0.0), (5424, 0.0), (5425, 0.003533567455448121), (5426, 0.011091977876718428), (5427, 0.0), (5428, 0.0), (5429, 0.0), (5430, 0.0), (5431, 0.0), (5432, 0.0), (5433, 0.0), (5434, 0.0033501927292564713), (5435, 0.004527588117098867), (5436, 0.003026940791859894), (5437, 0.0), (5438, 0.0), (5439, 0.018793942266919127), (5440, 0.00960215610362864), (5441, 0.0), (5442, 0.0), (5443, 0.0), (5444, 0.004434768890961225), (5445, 0.0), (5446, 0.0), (5447, 0.0), (5448, 0.0), (5449, 0.0), (5450, 0.0), (5451, 0.016293580021245924), (5452, 0.0), (5453, 0.0), (5454, 0.007887816631817854), (5455, 0.0), (5456, 0.0), (5457, 0.00606452405707392), (5458, 0.005998220672335581), (5459, 0.0), (5460, 0.004940903194018199), (5461, 0.0), (5462, 0.007463813824074816), (5463, 0.0), (5464, 0.0), (5465, 0.0), (5466, 0.00594078404023372), (5467, 0.0), (5468, 0.0), (5469, 0.0), (5470, 0.0), (5471, 0.0), (5472, 0.0), (5473, 0.0), (5474, 0.0), (5475, 0.0), (5476, 0.0), (5477, 0.0), (5478, 0.0), (5479, 0.00556079887072764), (5480, 0.0), (5481, 0.0), (5482, 0.0), (5483, 0.0), (5484, 0.0), (5485, 0.0), (5486, 0.0), (5487, 0.0038288172118269123), (5488, 0.0), (5489, 0.003275601058370713), (5490, 0.0), (5491, 0.0), (5492, 0.0), (5493, 0.0), (5494, 0.0), (5495, 0.0), (5496, 0.0), (5497, 0.0), (5498, 0.0), (5499, 0.0), (5500, 0.010145700469750527), (5501, 0.0), (5502, 0.0), (5503, 0.0), (5504, 0.0), (5505, 0.0), (5506, 0.008800786306497199), (5507, 0.0), (5508, 0.0), (5509, 0.01815222279718743), (5510, 0.0), (5511, 0.0), (5512, 0.0), (5513, 0.0), (5514, 0.0049656204680780715), (5515, 0.012315977862536971), (5516, 0.0), (5517, 0.0), (5518, 0.0), (5519, 0.0017243703459781743), (5520, 0.003754968128617594), (5521, 0.005241924447315222), (5522, 0.0), (5523, 0.0), (5524, 0.0), (5525, 0.010037875793956642), (5526, 0.0), (5527, 0.007781017089731131), (5528, 0.0), (5529, 0.0), (5530, 0.0), (5531, 0.0), (5532, 0.0), (5533, 0.0), (5534, 0.0), (5535, 0.0), (5536, 0.008200819156726349), (5537, 0.0), (5538, 0.0), (5539, 0.003855320587418894), (5540, 0.006206767761095569), (5541, 0.0), (5542, 0.0038288851094533103), (5543, 0.0), (5544, 0.0), (5545, 0.0), (5546, 0.0), (5547, 0.004458633985369685), (5548, 0.008717023129076941), (5549, 0.0), (5550, 0.008031895982340989), (5551, 0.006619057436064156), (5552, 0.0), (5553, 0.0), (5554, 0.0), (5555, 0.0), (5556, 0.0), (5557, 0.007863336114920186), (5558, 0.00429235153156073), (5559, 0.0), (5560, 0.003124049059704417), (5561, 0.0), (5562, 0.0), (5563, 0.0), (5564, 0.005537323574110482), (5565, 0.0047337443296142125), (5566, 0.0), (5567, 0.0), (5568, 0.0), (5569, 0.0), (5570, 0.0), (5571, 0.0), (5572, 0.0), (5573, 0.0), (5574, 0.0), (5575, 0.0), (5576, 0.0), (5577, 0.003926923167700915), (5578, 0.0), (5579, 0.0), (5580, 0.0), (5581, 0.0), (5582, 0.0), (5583, 0.013207340744443921), (5584, 0.0), (5585, 0.0), (5586, 0.0), (5587, 0.012261278246071162), (5588, 0.0), (5589, 0.004720533490375873), (5590, 0.0034748217104897724), (5591, 0.0), (5592, 0.0026996697483846394), (5593, 0.0), (5594, 0.0), (5595, 0.0), (5596, 0.0), (5597, 0.0), (5598, 0.0), (5599, 0.01071356752244265), (5600, 0.0), (5601, 0.0), (5602, 0.0036158415821789386), (5603, 0.0), (5604, 0.0), (5605, 0.0), (5606, 0.004329721054952069), (5607, 0.0), (5608, 0.0), (5609, 0.0), (5610, 0.0), (5611, 0.009498704702195644), (5612, 0.0), (5613, 0.0), (5614, 0.0), (5615, 0.0), (5616, 0.0), (5617, 0.0), (5618, 0.0), (5619, 0.0), (5620, 0.0), (5621, 0.0), (5622, 0.0), (5623, 0.0), (5624, 0.0), (5625, 0.005885524596764752), (5626, 0.0), (5627, 0.0), (5628, 0.0), (5629, 0.0), (5630, 0.0), (5631, 0.0), (5632, 0.0), (5633, 0.0), (5634, 0.0), (5635, 0.0), (5636, 0.0), (5637, 0.004059661912379627), (5638, 0.0), (5639, 0.0), (5640, 0.0), (5641, 0.0), (5642, 0.0), (5643, 0.0), (5644, 0.0), (5645, 0.0), (5646, 0.0), (5647, 0.0), (5648, 0.0), (5649, 0.0), (5650, 0.0), (5651, 0.003935058826315431), (5652, 0.0), (5653, 0.0), (5654, 0.0), (5655, 0.0), (5656, 0.0), (5657, 0.006343483689837336), (5658, 0.0), (5659, 0.006893734906885926), (5660, 0.0), (5661, 0.0), (5662, 0.0), (5663, 0.0), (5664, 0.005906638752717915), (5665, 0.0), (5666, 0.0), (5667, 0.0), (5668, 0.0), (5669, 0.0), (5670, 0.005709033900336078), (5671, 0.0046952285634382215), (5672, 0.0), (5673, 0.0032526269316859946), (5674, 0.0), (5675, 0.0), (5676, 0.003035746597910209), (5677, 0.0), (5678, 0.008275343365973627), (5679, 0.0), (5680, 0.0), (5681, 0.0), (5682, 0.0031305224378233914), (5683, 0.003883018985507565), (5684, 0.0), (5685, 0.0), (5686, 0.0), (5687, 0.0), (5688, 0.0), (5689, 0.0), (5690, 0.0), (5691, 0.0), (5692, 0.0), (5693, 0.0), (5694, 0.0), (5695, 0.0), (5696, 0.0), (5697, 0.0), (5698, 0.007923677171138071), (5699, 0.0), (5700, 0.0), (5701, 0.0), (5702, 0.0), (5703, 0.0), (5704, 0.003621829692190315), (5705, 0.0), (5706, 0.0), (5707, 0.006191063130703779), (5708, 0.0), (5709, 0.0), (5710, 0.0), (5711, 0.0), (5712, 0.0), (5713, 0.002103937022708715), (5714, 0.0), (5715, 0.0), (5716, 0.0), (5717, 0.0), (5718, 0.0), (5719, 0.005883795274530281), (5720, 0.007513662989748481), (5721, 0.00644555538903437), (5722, 0.0), (5723, 0.0), (5724, 0.0), (5725, 0.0), (5726, 0.0), (5727, 0.0050922204931459015), (5728, 0.0), (5729, 0.0), (5730, 0.003526437387093617), (5731, 0.0), (5732, 0.012999977090853846), (5733, 0.006280419618826619), (5734, 0.012444503896995363), (5735, 0.009693731768522265), (5736, 0.0040890565556405516), (5737, 0.0), (5738, 0.0), (5739, 0.0), (5740, 0.0), (5741, 0.0), (5742, 0.007124535284776323), (5743, 0.004926014996093672), (5744, 0.004229193797650758), (5745, 0.0), (5746, 0.0), (5747, 0.0), (5748, 0.0), (5749, 0.0), (5750, 0.0), (5751, 0.0), (5752, 0.0), (5753, 0.0), (5754, 0.0), (5755, 0.0), (5756, 0.0), (5757, 0.0), (5758, 0.004536649105218422), (5759, 0.0), (5760, 0.0060888045478786615), (5761, 0.004329774679808692), (5762, 0.0), (5763, 0.0), (5764, 0.0), (5765, 0.0), (5766, 0.002765706964693217), (5767, 0.006028072701569499), (5768, 0.0), (5769, 0.0), (5770, 0.0), (5771, 0.0), (5772, 0.0026057936497337225), (5773, 0.0), (5774, 0.0), (5775, 0.004958132014253495), (5776, 0.0), (5777, 0.0), (5778, 0.0), (5779, 0.0), (5780, 0.0), (5781, 0.0), (5782, 0.0), (5783, 0.0), (5784, 0.0), (5785, 0.0), (5786, 0.0), (5787, 0.0), (5788, 0.0), (5789, 0.0), (5790, 0.0), (5791, 0.0), (5792, 0.0), (5793, 0.0), (5794, 0.0), (5795, 0.0037089206636433006), (5796, 0.0), (5797, 0.005968969267677343), (5798, 0.011657185998130457), (5799, 0.0), (5800, 0.0), (5801, 0.0), (5802, 0.007393498384494332), (5803, 0.0), (5804, 0.0), (5805, 0.0), (5806, 0.006149352523881284), (5807, 0.0), (5808, 0.0), (5809, 0.0), (5810, 0.0), (5811, 0.0), (5812, 0.0), (5813, 0.0), (5814, 0.015140032202990246), (5815, 0.0), (5816, 0.0), (5817, 0.00750288557287603), (5818, 0.0), (5819, 0.0), (5820, 0.0), (5821, 0.0026060958460444694), (5822, 0.003008719094806864), (5823, 0.0), (5824, 0.0), (5825, 0.0), (5826, 0.0), (5827, 0.019191690377637148), (5828, 0.0), (5829, 0.0), (5830, 0.005966461383574097), (5831, 0.011880023385446106), (5832, 0.0045988870279398695), (5833, 0.0), (5834, 0.0), (5835, 0.0), (5836, 0.0), (5837, 0.00562330651061046), (5838, 0.0), (5839, 0.0), (5840, 0.008469422782269476), (5841, 0.0), (5842, 0.0), (5843, 0.0), (5844, 0.0), (5845, 0.0), (5846, 0.0024044969999122714), (5847, 0.0), (5848, 0.0), (5849, 0.0), (5850, 0.0), (5851, 0.0), (5852, 0.0), (5853, 0.014280667254595685), (5854, 0.0), (5855, 0.0), (5856, 0.0043844986824470265), (5857, 0.004040076899849258), (5858, 0.0), (5859, 0.01647267736879932), (5860, 0.007868953687081293), (5861, 0.010974077544409528), (5862, 0.0), (5863, 0.0), (5864, 0.004609414211710407), (5865, 0.0), (5866, 0.0029939286699516908), (5867, 0.0), (5868, 0.0), (5869, 0.0), (5870, 0.0038508482815306612), (5871, 0.0023568957217047237), (5872, 0.0), (5873, 0.003061102830287859), (5874, 0.0), (5875, 0.0), (5876, 0.0), (5877, 0.0), (5878, 0.0), (5879, 0.0), (5880, 0.0), (5881, 0.0), (5882, 0.0), (5883, 0.006079497164201575), (5884, 0.013274483244851792), (5885, 0.0), (5886, 0.0), (5887, 0.0), (5888, 0.0), (5889, 0.0), (5890, 0.0), (5891, 0.0), (5892, 0.0058974206756018735), (5893, 0.005090630334468633), (5894, 0.0), (5895, 0.006978575047508554), (5896, 0.005588420219698956), (5897, 0.0), (5898, 0.0), (5899, 0.007285092243892385), (5900, 0.0), (5901, 0.009219124899313983), (5902, 0.0), (5903, 0.0), (5904, 0.0), (5905, 0.0), (5906, 0.0), (5907, 0.0), (5908, 0.0), (5909, 0.010397981510645311), (5910, 0.0), (5911, 0.0), (5912, 0.0), (5913, 0.013049274494602735), (5914, 0.0), (5915, 0.0), (5916, 0.0), (5917, 0.0038348125564836772), (5918, 0.004189379740552263), (5919, 0.0), (5920, 0.0), (5921, 0.00774384514511571), (5922, 0.0), (5923, 0.0037832178689092134), (5924, 0.0), (5925, 0.0), (5926, 0.0), (5927, 0.0), (5928, 0.0), (5929, 0.0), (5930, 0.0), (5931, 0.0), (5932, 0.005833225477939428), (5933, 0.0), (5934, 0.0), (5935, 0.0), (5936, 0.0), (5937, 0.0048487235528719835), (5938, 0.0), (5939, 0.0), (5940, 0.0), (5941, 0.0), (5942, 0.004516922908616877), (5943, 0.0), (5944, 0.0), (5945, 0.011831659136754822), (5946, 0.0), (5947, 0.0), (5948, 0.005403129924464992), (5949, 0.0), (5950, 0.0), (5951, 0.0), (5952, 0.014510217952977267), (5953, 0.0), (5954, 0.0), (5955, 0.0), (5956, 0.0), (5957, 0.0058311916556661745), (5958, 0.004467473140337531), (5959, 0.0), (5960, 0.006651913411202079), (5961, 0.0), (5962, 0.0), (5963, 0.0), (5964, 0.0), (5965, 0.0), (5966, 0.0), (5967, 0.005741635321815174), (5968, 0.008043568572505258), (5969, 0.0032153769838885577), (5970, 0.0), (5971, 0.0), (5972, 0.0), (5973, 0.0), (5974, 0.0042293893777417295), (5975, 0.010774554262063023), (5976, 0.0), (5977, 0.009164055817717903), (5978, 0.006085984547022877), (5979, 0.0), (5980, 0.0), (5981, 0.0), (5982, 0.0), (5983, 0.0), (5984, 0.0041869223491583), (5985, 0.010465709554321688), (5986, 0.0), (5987, 0.009138250800714558), (5988, 0.0), (5989, 0.0026631827269656253), (5990, 0.0), (5991, 0.0), (5992, 0.0), (5993, 0.0), (5994, 0.0), (5995, 0.0033112293090543864), (5996, 0.0050225862882464474), (5997, 0.0), (5998, 0.0), (5999, 0.01013290240558861), (6000, 0.0), (6001, 0.0), (6002, 0.0), (6003, 0.0), (6004, 0.0046842776005086165), (6005, 0.0), (6006, 0.0), (6007, 0.0), (6008, 0.0), (6009, 0.0), (6010, 0.0), (6011, 0.008049598918790151), (6012, 0.0), (6013, 0.0), (6014, 0.0), (6015, 0.0), (6016, 0.0), (6017, 0.003957230440597918), (6018, 0.0), (6019, 0.0), (6020, 0.0), (6021, 0.0), (6022, 0.004236888008987085), (6023, 0.0), (6024, 0.0), (6025, 0.013567751463429588), (6026, 0.0), (6027, 0.0), (6028, 0.0), (6029, 0.0), (6030, 0.0028394260489770186), (6031, 0.0), (6032, 0.0036351354036188244), (6033, 0.0), (6034, 0.009419440055125933), (6035, 0.0), (6036, 0.004664498674596737), (6037, 0.008607897159421483), (6038, 0.0), (6039, 0.0), (6040, 0.015097346093569159), (6041, 0.0023321595109794357), (6042, 0.004655334542525411), (6043, 0.005411448772007915), (6044, 0.0), (6045, 0.0), (6046, 0.0), (6047, 0.0), (6048, 0.0060174008627897286), (6049, 0.0), (6050, 0.007792615162030616), (6051, 0.0), (6052, 0.0), (6053, 0.0), (6054, 0.0), (6055, 0.0), (6056, 0.005383500926794324), (6057, 0.0), (6058, 0.004067206127246753), (6059, 0.0), (6060, 0.0), (6061, 0.0), (6062, 0.0), (6063, 0.0), (6064, 0.0), (6065, 0.0), (6066, 0.0), (6067, 0.0), (6068, 0.006615012467196667), (6069, 0.0), (6070, 0.0), (6071, 0.0), (6072, 0.007924439091177392), (6073, 0.0), (6074, 0.0), (6075, 0.004160346309076401), (6076, 0.0), (6077, 0.009233668639711447), (6078, 0.0038208711447347207), (6079, 0.0), (6080, 0.006983707329349486), (6081, 0.002773346098005231), (6082, 0.00536464549688421), (6083, 0.0), (6084, 0.00360204512836848), (6085, 0.004092887253697253), (6086, 0.0036098712818735455), (6087, 0.0), (6088, 0.0), (6089, 0.0), (6090, 0.0), (6091, 0.0), (6092, 0.00672571564525824), (6093, 0.0038257976599280832), (6094, 0.0), (6095, 0.0), (6096, 0.0), (6097, 0.0065458999881133064), (6098, 0.004914838311031466), (6099, 0.007368098679051575), (6100, 0.007183789507604992), (6101, 0.0), (6102, 0.003433964725037708), (6103, 0.0), (6104, 0.0), (6105, 0.005984163269675557), (6106, 0.0), (6107, 0.041564794026182794), (6108, 0.0), (6109, 0.0), (6110, 0.0), (6111, 0.0), (6112, 0.0), (6113, 0.0), (6114, 0.011350717407821995), (6115, 0.006455621441042096), (6116, 0.0), (6117, 0.0), (6118, 0.011665619435436267), (6119, 0.0), (6120, 0.010300521602160832), (6121, 0.0), (6122, 0.006350537285046503), (6123, 0.0), (6124, 0.0), (6125, 0.003729553885294473), (6126, 0.0), (6127, 0.004374868686380261), (6128, 0.0), (6129, 0.005760574632104018), (6130, 0.0), (6131, 0.0), (6132, 0.003840638281657334), (6133, 0.0), (6134, 0.0), (6135, 0.0), (6136, 0.005344770399240621), (6137, 0.0), (6138, 0.0), (6139, 0.0), (6140, 0.0), (6141, 0.0), (6142, 0.0), (6143, 0.0), (6144, 0.0), (6145, 0.0), (6146, 0.0019287990476173295), (6147, 0.007929795677637673), (6148, 0.0035304591385488513), (6149, 0.0), (6150, 0.0), (6151, 0.005493759207422092), (6152, 0.003984798696348684), (6153, 0.018626685361083375), (6154, 0.0), (6155, 0.0), (6156, 0.0), (6157, 0.005683832083130456), (6158, 0.0), (6159, 0.0029966956763202565), (6160, 0.0), (6161, 0.0), (6162, 0.0), (6163, 0.0), (6164, 0.0), (6165, 0.0), (6166, 0.0), (6167, 0.0), (6168, 0.0), (6169, 0.0), (6170, 0.0), (6171, 0.0), (6172, 0.0), (6173, 0.006492546263057051), (6174, 0.004440142398101288), (6175, 0.0), (6176, 0.005481217822106343), (6177, 0.0), (6178, 0.0), (6179, 0.004178800408877306), (6180, 0.0), (6181, 0.0033622339944793774), (6182, 0.0), (6183, 0.0032089344469726916), (6184, 0.0), (6185, 0.0), (6186, 0.0), (6187, 0.0), (6188, 0.0), (6189, 0.0), (6190, 0.0), (6191, 0.0), (6192, 0.0), (6193, 0.12713531244557033), (6194, 0.005445878345342187), (6195, 0.0), (6196, 0.0), (6197, 0.002491874746587541), (6198, 0.0), (6199, 0.0), (6200, 0.0), (6201, 0.0), (6202, 0.0034731184239920583), (6203, 0.0), (6204, 0.0), (6205, 0.0), (6206, 0.004733408808907367), (6207, 0.0), (6208, 0.007883967935637037), (6209, 0.0022887266810450112), (6210, 0.0), (6211, 0.0033882771961266643), (6212, 0.0), (6213, 0.0), (6214, 0.008660322349217977), (6215, 0.004846314880531341), (6216, 0.0), (6217, 0.0), (6218, 0.0), (6219, 0.03311389657350063), (6220, 0.0), (6221, 0.004090146693593344), (6222, 0.0), (6223, 0.006075530554241352), (6224, 0.0), (6225, 0.0), (6226, 0.0), (6227, 0.0), (6228, 0.0), (6229, 0.004303876383816729), (6230, 0.0), (6231, 0.0), (6232, 0.0), (6233, 0.0), (6234, 0.0), (6235, 0.0), (6236, 0.0), (6237, 0.012011338707602699), (6238, 0.0), (6239, 0.0), (6240, 0.0), (6241, 0.0), (6242, 0.0), (6243, 0.0), (6244, 0.009601274034318616), (6245, 0.0), (6246, 0.0), (6247, 0.00790491777271701), (6248, 0.0), (6249, 0.0), (6250, 0.0), (6251, 0.005868156573804647), (6252, 0.0), (6253, 0.0), (6254, 0.0), (6255, 0.003718764731347462), (6256, 0.004493233231404826), (6257, 0.01126376349571726), (6258, 0.0), (6259, 0.0), (6260, 0.0), (6261, 0.005356286848802685), (6262, 0.004204507896559099), (6263, 0.005518432634355997), (6264, 0.0), (6265, 0.004663081391402647), (6266, 0.0), (6267, 0.0), (6268, 0.0), (6269, 0.0), (6270, 0.0), (6271, 0.0), (6272, 0.0), (6273, 0.0), (6274, 0.004727110284780862), (6275, 0.015689004543934446), (6276, 0.0), (6277, 0.0028640272941752305), (6278, 0.0), (6279, 0.0), (6280, 0.0), (6281, 0.0), (6282, 0.0), (6283, 0.0), (6284, 0.0), (6285, 0.0), (6286, 0.007464380635292197), (6287, 0.0), (6288, 0.015432988637492071), (6289, 0.0), (6290, 0.04443423263666041), (6291, 0.02453363255500501), (6292, 0.005889096621363954), (6293, 0.0), (6294, 0.0), (6295, 0.0), (6296, 0.0), (6297, 0.0063579394275480984), (6298, 0.004904750937429415), (6299, 0.0), (6300, 0.0), (6301, 0.0), (6302, 0.0038305350764715747), (6303, 0.0), (6304, 0.0), (6305, 0.005354987092315912), (6306, 0.0), (6307, 0.0), (6308, 0.008501387943888094), (6309, 0.0040364365102825255), (6310, 0.005776357519408123), (6311, 0.006747363335500339), (6312, 0.0), (6313, 0.0), (6314, 0.0), (6315, 0.008161805692196997), (6316, 0.0), (6317, 0.0), (6318, 0.0), (6319, 0.0), (6320, 0.0), (6321, 0.0), (6322, 0.0), (6323, 0.0), (6324, 0.0), (6325, 0.008072688294757295), (6326, 0.0), (6327, 0.0), (6328, 0.0), (6329, 0.0), (6330, 0.002347209042527229), (6331, 0.006140180317533047), (6332, 0.0), (6333, 0.0), (6334, 0.004152305659416503), (6335, 0.0), (6336, 0.003951359132593402), (6337, 0.0), (6338, 0.0), (6339, 0.0), (6340, 0.0), (6341, 0.0), (6342, 0.0), (6343, 0.0), (6344, 0.0), (6345, 0.008470844449078075), (6346, 0.0), (6347, 0.0), (6348, 0.008494281561493284), (6349, 0.003474430659479393), (6350, 0.003936928740617447), (6351, 0.0), (6352, 0.005499642238041638), (6353, 0.0), (6354, 0.005886586157376654), (6355, 0.003638151397314531), (6356, 0.0), (6357, 0.0), (6358, 0.0), (6359, 0.0), (6360, 0.0), (6361, 0.0), (6362, 0.0), (6363, 0.0), (6364, 0.0), (6365, 0.0), (6366, 0.005355690442869308), (6367, 0.0), (6368, 0.0), (6369, 0.020313613845507873), (6370, 0.003998198131106101), (6371, 0.0), (6372, 0.0), (6373, 0.0), (6374, 0.0036040059862647304), (6375, 0.005328334791623216), (6376, 0.0), (6377, 0.0), (6378, 0.0), (6379, 0.0), (6380, 0.0), (6381, 0.0), (6382, 0.0), (6383, 0.0), (6384, 0.0), (6385, 0.0), (6386, 0.0), (6387, 0.0048543189352708), (6388, 0.004224647929941027), (6389, 0.0), (6390, 0.0), (6391, 0.0035220540930682473), (6392, 0.0), (6393, 0.0), (6394, 0.0), (6395, 0.0), (6396, 0.0), (6397, 0.0), (6398, 0.0036141987840186945), (6399, 0.0), (6400, 0.0), (6401, 0.0), (6402, 0.0), (6403, 0.0), (6404, 0.0), (6405, 0.0), (6406, 0.008227150665776308), (6407, 0.004275785205786386), (6408, 0.0), (6409, 0.0), (6410, 0.0), (6411, 0.006829474318194786), (6412, 0.0), (6413, 0.0), (6414, 0.0), (6415, 0.004864293875355832), (6416, 0.005736028017202657), (6417, 0.0), (6418, 0.0), (6419, 0.0), (6420, 0.002963367564454631), (6421, 0.0), (6422, 0.0), (6423, 0.0), (6424, 0.0), (6425, 0.0), (6426, 0.0), (6427, 0.007196926076581373), (6428, 0.0), (6429, 0.0), (6430, 0.0), (6431, 0.004658449782176121), (6432, 0.0), (6433, 0.0), (6434, 0.003637163617410445), (6435, 0.0), (6436, 0.0), (6437, 0.0), (6438, 0.0), (6439, 0.0), (6440, 0.007419814509978002), (6441, 0.0), (6442, 0.0036103335117515572), (6443, 0.0), (6444, 0.0035901674139632617), (6445, 0.006410543529356272), (6446, 0.0), (6447, 0.00642455310028446), (6448, 0.0), (6449, 0.0), (6450, 0.002571269050760528), (6451, 0.00817730471050435), (6452, 0.0), (6453, 0.0), (6454, 0.008271800629276063), (6455, 0.0), (6456, 0.0), (6457, 0.0), (6458, 0.0), (6459, 0.0), (6460, 0.0), (6461, 0.0), (6462, 0.0), (6463, 0.0), (6464, 0.004654653333593256), (6465, 0.0), (6466, 0.0), (6467, 0.0), (6468, 0.0), (6469, 0.0072421578795073376), (6470, 0.013725145599481924), (6471, 0.0073697758171484065), (6472, 0.0), (6473, 0.0), (6474, 0.0), (6475, 0.010584554364429254), (6476, 0.0), (6477, 0.0), (6478, 0.0), (6479, 0.0), (6480, 0.0), (6481, 0.0), (6482, 0.0), (6483, 0.005029694001752448), (6484, 0.0057319163141138895), (6485, 0.0), (6486, 0.0), (6487, 0.0), (6488, 0.0051766061541225015), (6489, 0.0048238030864218295), (6490, 0.0), (6491, 0.0), (6492, 0.0074269242311032005), (6493, 0.0), (6494, 0.0), (6495, 0.0), (6496, 0.0), (6497, 0.0), (6498, 0.0), (6499, 0.0), (6500, 0.0), (6501, 0.0), (6502, 0.0), (6503, 0.0), (6504, 0.0), (6505, 0.0), (6506, 0.0), (6507, 0.0), (6508, 0.01320913792490874), (6509, 0.00862265449667044), (6510, 0.0), (6511, 0.0), (6512, 0.0), (6513, 0.007888435621297464), (6514, 0.0), (6515, 0.0), (6516, 0.0), (6517, 0.0), (6518, 0.0), (6519, 0.0), (6520, 0.006223909131847201), (6521, 0.0), (6522, 0.0031363106793027267), (6523, 0.0), (6524, 0.0), (6525, 0.0), (6526, 0.013526880010871269), (6527, 0.0), (6528, 0.0), (6529, 0.0), (6530, 0.005261423773357889), (6531, 0.0), (6532, 0.0), (6533, 0.004517794243938046), (6534, 0.0), (6535, 0.010527986579050562), (6536, 0.0), (6537, 0.015914480125618444), (6538, 0.0), (6539, 0.0), (6540, 0.0036578077199998643), (6541, 0.0), (6542, 0.0), (6543, 0.0), (6544, 0.0), (6545, 0.0), (6546, 0.0), (6547, 0.0), (6548, 0.0), (6549, 0.0), (6550, 0.0), (6551, 0.0), (6552, 0.009372211739413645), (6553, 0.0), (6554, 0.06900200942605579), (6555, 0.0), (6556, 0.005706071759528634), (6557, 0.0), (6558, 0.0), (6559, 0.007425201444785146), (6560, 0.0), (6561, 0.0), (6562, 0.0), (6563, 0.0), (6564, 0.0), (6565, 0.004306353101071949), (6566, 0.0), (6567, 0.0), (6568, 0.0), (6569, 0.0), (6570, 0.0), (6571, 0.0), (6572, 0.0045070073351958055), (6573, 0.0), (6574, 0.0), (6575, 0.0), (6576, 0.005447013106114169), (6577, 0.0), (6578, 0.0), (6579, 0.0060450983569333965), (6580, 0.0), (6581, 0.0), (6582, 0.004130591984363058), (6583, 0.0), (6584, 0.0), (6585, 0.0), (6586, 0.0), (6587, 0.0), (6588, 0.0), (6589, 0.0), (6590, 0.0035052379280855967), (6591, 0.0029123811976477904), (6592, 0.0), (6593, 0.0), (6594, 0.0), (6595, 0.0), (6596, 0.0), (6597, 0.005272141184408049), (6598, 0.004887582176164122), (6599, 0.006355292030850885), (6600, 0.0), (6601, 0.0), (6602, 0.0), (6603, 0.005253381320133943), (6604, 0.0), (6605, 0.0), (6606, 0.005506181473568746), (6607, 0.0), (6608, 0.0), (6609, 0.0), (6610, 0.0), (6611, 0.0), (6612, 0.0), (6613, 0.0), (6614, 0.003167009199292138), (6615, 0.0049335391932100224), (6616, 0.0), (6617, 0.0), (6618, 0.0), (6619, 0.0), (6620, 0.0), (6621, 0.0), (6622, 0.0), (6623, 0.0), (6624, 0.0), (6625, 0.0), (6626, 0.0034759820234278992), (6627, 0.05606336772377038), (6628, 0.006920251913054349), (6629, 0.0), (6630, 0.004772239009663126), (6631, 0.0), (6632, 0.0), (6633, 0.003053874519552659), (6634, 0.0), (6635, 0.0025193280818573793), (6636, 0.0), (6637, 0.0), (6638, 0.005458115735229689), (6639, 0.0), (6640, 0.006520166947167341), (6641, 0.01200062528016404), (6642, 0.007052556296997851), (6643, 0.005273940929384869), (6644, 0.007231936303406244), (6645, 0.0), (6646, 0.0), (6647, 0.005595991224034979), (6648, 0.0), (6649, 0.0), (6650, 0.016411371363982512), (6651, 0.0), (6652, 0.0), (6653, 0.0), (6654, 0.0), (6655, 0.006281030191155007), (6656, 0.0052363793142453235), (6657, 0.0), (6658, 0.0), (6659, 0.0), (6660, 0.0), (6661, 0.004072998957715008), (6662, 0.0), (6663, 0.0), (6664, 0.003335228763860674), (6665, 0.0), (6666, 0.005338232809562103), (6667, 0.0), (6668, 0.0), (6669, 0.0), (6670, 0.009499012390163574), (6671, 0.0), (6672, 0.004331056593715456), (6673, 0.010292010915774013), (6674, 0.0051195089792781525), (6675, 0.0), (6676, 0.0), (6677, 0.0049985108832276415), (6678, 0.0), (6679, 0.0), (6680, 0.0), (6681, 0.0), (6682, 0.0), (6683, 0.0), (6684, 0.0), (6685, 0.0), (6686, 0.0058359176256974265), (6687, 0.0027455336500776433), (6688, 0.0072259530238149555), (6689, 0.002362040534178687), (6690, 0.008179068847676713), (6691, 0.003371615082143145), (6692, 0.0), (6693, 0.0), (6694, 0.0029988999596402208), (6695, 0.0), (6696, 0.0), (6697, 0.0), (6698, 0.0), (6699, 0.0141680626636271), (6700, 0.004206013527440308), (6701, 0.005915830228598549), (6702, 0.006413852128579313), (6703, 0.006683979884124317), (6704, 0.0), (6705, 0.0), (6706, 0.0), (6707, 0.0), (6708, 0.0), (6709, 0.0051310149630280156), (6710, 0.0), (6711, 0.0), (6712, 0.005062172055907101), (6713, 0.017637546875714016), (6714, 0.0), (6715, 0.0), (6716, 0.02392930102481787), (6717, 0.0), (6718, 0.0), (6719, 0.0), (6720, 0.0), (6721, 0.0), (6722, 0.0), (6723, 0.005223261604789074), (6724, 0.0), (6725, 0.0), (6726, 0.0), (6727, 0.0029914215661153245), (6728, 0.0), (6729, 0.0), (6730, 0.0), (6731, 0.0), (6732, 0.00913333177631266), (6733, 0.004088243552381126), (6734, 0.0), (6735, 0.0), (6736, 0.0), (6737, 0.0048219140489599785), (6738, 0.00990202376532131), (6739, 0.0), (6740, 0.0), (6741, 0.00962550890239593), (6742, 0.0), (6743, 0.015506435050055218), (6744, 0.0), (6745, 0.0), (6746, 0.0), (6747, 0.0), (6748, 0.0), (6749, 0.0), (6750, 0.006900734621753345), (6751, 0.0), (6752, 0.0), (6753, 0.0), (6754, 0.0), (6755, 0.0), (6756, 0.0), (6757, 0.0), (6758, 0.0), (6759, 0.0033897186700837306), (6760, 0.0), (6761, 0.0), (6762, 0.0), (6763, 0.0), (6764, 0.0), (6765, 0.0), (6766, 0.003976048557930937), (6767, 0.0), (6768, 0.003513794481781067), (6769, 0.0), (6770, 0.012836626275842672), (6771, 0.009596431944453617), (6772, 0.004205014133873164), (6773, 0.0), (6774, 0.007450569304754435), (6775, 0.0), (6776, 0.0), (6777, 0.0), (6778, 0.0), (6779, 0.0), (6780, 0.005722669374214879), (6781, 0.0), (6782, 0.0), (6783, 0.0022729050711204134), (6784, 0.0), (6785, 0.005427176000296562), (6786, 0.0), (6787, 0.0), (6788, 0.0), (6789, 0.0), (6790, 0.0), (6791, 0.0), (6792, 0.0), (6793, 0.0), (6794, 0.0), (6795, 0.0), (6796, 0.0), (6797, 0.0), (6798, 0.0), (6799, 0.014556841259255875), (6800, 0.0), (6801, 0.0), (6802, 0.0), (6803, 0.0), (6804, 0.0), (6805, 0.0), (6806, 0.0), (6807, 0.0), (6808, 0.0), (6809, 0.0), (6810, 0.0), (6811, 0.0), (6812, 0.010858086371578575), (6813, 0.0), (6814, 0.0), (6815, 0.0), (6816, 0.0), (6817, 0.0), (6818, 0.008149291029206198), (6819, 0.0), (6820, 0.007198880749452574), (6821, 0.0), (6822, 0.005473396111446428), (6823, 0.0), (6824, 0.0), (6825, 0.0), (6826, 0.0), (6827, 0.0), (6828, 0.008450186779039068), (6829, 0.0), (6830, 0.0), (6831, 0.006302156109366979), (6832, 0.0065931052821992155), (6833, 0.007547572490710651), (6834, 0.013711908279743883), (6835, 0.0), (6836, 0.0), (6837, 0.0), (6838, 0.0), (6839, 0.0), (6840, 0.0029430329955276308), (6841, 0.0), (6842, 0.0036271038640405986), (6843, 0.0), (6844, 0.006378929497520923), (6845, 0.0), (6846, 0.0), (6847, 0.0), (6848, 0.0), (6849, 0.0), (6850, 0.0), (6851, 0.0), (6852, 0.0), (6853, 0.0), (6854, 0.0), (6855, 0.0), (6856, 0.0), (6857, 0.0), (6858, 0.011847072061524019), (6859, 0.0), (6860, 0.0), (6861, 0.0051882295761540844), (6862, 0.006195532314714744), (6863, 0.0026779407978900624), (6864, 0.011315423964673992), (6865, 0.0), (6866, 0.0), (6867, 0.0), (6868, 0.0), (6869, 0.0), (6870, 0.008308953275460986), (6871, 0.0), (6872, 0.0), (6873, 0.008263401445213923), (6874, 0.0), (6875, 0.0), (6876, 0.0), (6877, 0.009061548516940672), (6878, 0.0), (6879, 0.032341984376617214), (6880, 0.0), (6881, 0.0), (6882, 0.005719822304702956), (6883, 0.0), (6884, 0.0), (6885, 0.006780319337990235), (6886, 0.0), (6887, 0.0028395139408092167), (6888, 0.0), (6889, 0.0), (6890, 0.0), (6891, 0.0), (6892, 0.0), (6893, 0.0), (6894, 0.0), (6895, 0.0), (6896, 0.0), (6897, 0.0), (6898, 0.0), (6899, 0.0), (6900, 0.0), (6901, 0.011764728604750196), (6902, 0.0), (6903, 0.0), (6904, 0.0), (6905, 0.0029481371925186295), (6906, 0.00502484226822036), (6907, 0.0), (6908, 0.0), (6909, 0.0), (6910, 0.0), (6911, 0.0), (6912, 0.0), (6913, 0.004208159419303365), (6914, 0.0), (6915, 0.0), (6916, 0.0062941646477171235), (6917, 0.0), (6918, 0.005228622387138741), (6919, 0.0), (6920, 0.0), (6921, 0.0), (6922, 0.0), (6923, 0.0), (6924, 0.0), (6925, 0.0), (6926, 0.0054789386701466145), (6927, 0.008657893409018142), (6928, 0.0), (6929, 0.0), (6930, 0.0), (6931, 0.0), (6932, 0.0), (6933, 0.0), (6934, 0.0), (6935, 0.0033644866157236304), (6936, 0.0), (6937, 0.0), (6938, 0.0), (6939, 0.0), (6940, 0.0), (6941, 0.005103997367782498), (6942, 0.0), (6943, 0.00596192063634962), (6944, 0.0035373861490002653), (6945, 0.0), (6946, 0.0), (6947, 0.0), (6948, 0.0), (6949, 0.0), (6950, 0.0), (6951, 0.004931137101225415), (6952, 0.0), (6953, 0.0), (6954, 0.0052702550690981445), (6955, 0.0), (6956, 0.0), (6957, 0.0), (6958, 0.0), (6959, 0.0), (6960, 0.004063476380325266), (6961, 0.0), (6962, 0.0), (6963, 0.0), (6964, 0.0), (6965, 0.0), (6966, 0.0), (6967, 0.0), (6968, 0.0), (6969, 0.011483024638438553), (6970, 0.0), (6971, 0.0), (6972, 0.0), (6973, 0.0), (6974, 0.0), (6975, 0.0), (6976, 0.0031262369508434197), (6977, 0.003265767142108027), (6978, 0.010698157060803038), (6979, 0.0), (6980, 0.0054050438661793244), (6981, 0.0), (6982, 0.0), (6983, 0.0), (6984, 0.0), (6985, 0.0), (6986, 0.0), (6987, 0.0), (6988, 0.0060042217374001935), (6989, 0.0), (6990, 0.0029362655036222203), (6991, 0.0), (6992, 0.0), (6993, 0.0), (6994, 0.0), (6995, 0.008301258292818312), (6996, 0.0), (6997, 0.0), (6998, 0.0), (6999, 0.0), (7000, 0.0), (7001, 0.0), (7002, 0.0), (7003, 0.008923383496903125), (7004, 0.0), (7005, 0.006072898263185447), (7006, 0.005034144916515649), (7007, 0.0), (7008, 0.0), (7009, 0.0), (7010, 0.0), (7011, 0.0), (7012, 0.0), (7013, 0.0), (7014, 0.007916970718491878), (7015, 0.0), (7016, 0.009883217122029445), (7017, 0.0), (7018, 0.0), (7019, 0.0), (7020, 0.0), (7021, 0.0), (7022, 0.0), (7023, 0.0), (7024, 0.0), (7025, 0.0), (7026, 0.0), (7027, 0.004169780910558622), (7028, 0.0), (7029, 0.0), (7030, 0.0), (7031, 0.006945391831175228), (7032, 0.0), (7033, 0.0), (7034, 0.004296196212307609), (7035, 0.0), (7036, 0.0), (7037, 0.0), (7038, 0.007408782716613563), (7039, 0.0), (7040, 0.0), (7041, 0.0), (7042, 0.01139355200045151), (7043, 0.01093917515069289), (7044, 0.0), (7045, 0.0), (7046, 0.0050166966323807165), (7047, 0.0), (7048, 0.0), (7049, 0.005069230681489783), (7050, 0.0), (7051, 0.0), (7052, 0.0), (7053, 0.005712991158154265), (7054, 0.0038056267974465917), (7055, 0.0), (7056, 0.0), (7057, 0.0), (7058, 0.0), (7059, 0.0), (7060, 0.0), (7061, 0.0), (7062, 0.0), (7063, 0.0), (7064, 0.006641932877664149), (7065, 0.0), (7066, 0.0), (7067, 0.0), (7068, 0.0), (7069, 0.00648798884984875), (7070, 0.0027866634572538095), (7071, 0.0), (7072, 0.0), (7073, 0.004065515862752336), (7074, 0.0054428305453490585), (7075, 0.014900405330648871), (7076, 0.0), (7077, 0.008612221936366729), (7078, 0.0), (7079, 0.0), (7080, 0.0), (7081, 0.0080333054500994), (7082, 0.0), (7083, 0.0), (7084, 0.00659830426018667), (7085, 0.0), (7086, 0.0), (7087, 0.0), (7088, 0.0), (7089, 0.0), (7090, 0.0), (7091, 0.0), (7092, 0.006795723013681304), (7093, 0.0045945088778107535), (7094, 0.0), (7095, 0.0), (7096, 0.0), (7097, 0.00691035591206395), (7098, 0.0), (7099, 0.0), (7100, 0.007042886756431895), (7101, 0.01025222845742375), (7102, 0.0), (7103, 0.0), (7104, 0.0019351182099989028), (7105, 0.0), (7106, 0.0), (7107, 0.0), (7108, 0.0), (7109, 0.0), (7110, 0.0), (7111, 0.0), (7112, 0.0), (7113, 0.0), (7114, 0.004257215282527559), (7115, 0.0025760146679721756), (7116, 0.0), (7117, 0.0), (7118, 0.0), (7119, 0.0), (7120, 0.004195711186168136), (7121, 0.0), (7122, 0.0), (7123, 0.0), (7124, 0.0043736598494916405), (7125, 0.004612952564842052), (7126, 0.003691602138572348), (7127, 0.0), (7128, 0.0), (7129, 0.0027960978558830515), (7130, 0.0), (7131, 0.004340798909635065), (7132, 0.003102747939863271), (7133, 0.0), (7134, 0.0), (7135, 0.0), (7136, 0.0), (7137, 0.0), (7138, 0.005363186505037462), (7139, 0.0), (7140, 0.005522144399693151), (7141, 0.0), (7142, 0.0), (7143, 0.0), (7144, 0.0), (7145, 0.004576791809880039), (7146, 0.0), (7147, 0.0), (7148, 0.007509047778984851), (7149, 0.0), (7150, 0.0), (7151, 0.0), (7152, 0.0), (7153, 0.003995536671434843), (7154, 0.0), (7155, 0.0), (7156, 0.0), (7157, 0.0), (7158, 0.0), (7159, 0.019634242985607363), (7160, 0.0), (7161, 0.0), (7162, 0.0), (7163, 0.0), (7164, 0.0), (7165, 0.0), (7166, 0.005630555140859021), (7167, 0.0), (7168, 0.0), (7169, 0.0), (7170, 0.0), (7171, 0.004270515726154743), (7172, 0.007527396996930062), (7173, 0.0), (7174, 0.005799647182474369), (7175, 0.004374629866105781), (7176, 0.008309764224216403), (7177, 0.0), (7178, 0.0), (7179, 0.0), (7180, 0.0048303126868528695), (7181, 0.0), (7182, 0.0), (7183, 0.0), (7184, 0.0), (7185, 0.004349765520838496), (7186, 0.0), (7187, 0.005530881595623822), (7188, 0.003503705180332368), (7189, 0.0035734932694036657), (7190, 0.0), (7191, 0.0033733949044395203), (7192, 0.0), (7193, 0.0), (7194, 0.0), (7195, 0.006311757468474259), (7196, 0.005479908203873301), (7197, 0.0), (7198, 0.004873748711109819), (7199, 0.0028981224499960868), (7200, 0.0029009930308897397), (7201, 0.0), (7202, 0.0), (7203, 0.0), (7204, 0.02817709345138886), (7205, 0.0), (7206, 0.004286170000346192), (7207, 0.0), (7208, 0.0), (7209, 0.0031594456555451406), (7210, 0.0), (7211, 0.0), (7212, 0.0), (7213, 0.0), (7214, 0.0), (7215, 0.0), (7216, 0.0), (7217, 0.0), (7218, 0.0), (7219, 0.0), (7220, 0.0), (7221, 0.013319461646854632), (7222, 0.0), (7223, 0.0), (7224, 0.0), (7225, 0.0), (7226, 0.006080442047988125), (7227, 0.0), (7228, 0.002571604075212903), (7229, 0.003577193663780223), (7230, 0.004905195829386024), (7231, 0.0), (7232, 0.0), (7233, 0.011394463278836552), (7234, 0.0), (7235, 0.0), (7236, 0.0), (7237, 0.0), (7238, 0.0), (7239, 0.0), (7240, 0.0), (7241, 0.0), (7242, 0.0), (7243, 0.0), (7244, 0.0), (7245, 0.0041337023215399695), (7246, 0.0), (7247, 0.0), (7248, 0.0037585781288526844), (7249, 0.0025152605457765534), (7250, 0.0), (7251, 0.0), (7252, 0.0), (7253, 0.0), (7254, 0.0), (7255, 0.0), (7256, 0.0), (7257, 0.005309533455745671), (7258, 0.0), (7259, 0.0), (7260, 0.0), (7261, 0.0), (7262, 0.0), (7263, 0.0), (7264, 0.0), (7265, 0.005261917891677436), (7266, 0.013046914021942621), (7267, 0.022369456103585716), (7268, 0.0038213604968241888), (7269, 0.008988983478097337), (7270, 0.0), (7271, 0.0), (7272, 0.0), (7273, 0.010692333637431323), (7274, 0.0), (7275, 0.0), (7276, 0.005914929575235827), (7277, 0.0), (7278, 0.0), (7279, 0.0), (7280, 0.0), (7281, 0.0), (7282, 0.0), (7283, 0.0040123583102679005), (7284, 0.0), (7285, 0.0), (7286, 0.0), (7287, 0.0), (7288, 0.012167267534316833), (7289, 0.0), (7290, 0.0), (7291, 0.01147700414142661), (7292, 0.0), (7293, 0.0), (7294, 0.0), (7295, 0.0), (7296, 0.0), (7297, 0.0), (7298, 0.0), (7299, 0.007338248852020611), (7300, 0.004844970294062196), (7301, 0.0), (7302, 0.0), (7303, 0.0), (7304, 0.0), (7305, 0.0), (7306, 0.004379711296559423), (7307, 0.0), (7308, 0.005563670304041436), (7309, 0.0), (7310, 0.0), (7311, 0.004174480861608396), (7312, 0.0), (7313, 0.0), (7314, 0.005719038099302498), (7315, 0.0), (7316, 0.0036410514654202342), (7317, 0.0032862837975710765), (7318, 0.0), (7319, 0.0), (7320, 0.0), (7321, 0.0), (7322, 0.0), (7323, 0.0), (7324, 0.0), (7325, 0.0), (7326, 0.0), (7327, 0.0), (7328, 0.0), (7329, 0.004167825228037423), (7330, 0.0), (7331, 0.0054711852597323415), (7332, 0.0), (7333, 0.0), (7334, 0.007749190937148906), (7335, 0.0), (7336, 0.0), (7337, 0.0), (7338, 0.0), (7339, 0.0), (7340, 0.0), (7341, 0.004679471978609883), (7342, 0.0), (7343, 0.0), (7344, 0.0), (7345, 0.0), (7346, 0.005341546608685775), (7347, 0.0), (7348, 0.0), (7349, 0.006953325617147305), (7350, 0.0017700542252597875), (7351, 0.0), (7352, 0.0), (7353, 0.0), (7354, 0.0), (7355, 0.0), (7356, 0.003963905870631535), (7357, 0.0), (7358, 0.0), (7359, 0.0), (7360, 0.0), (7361, 0.0), (7362, 0.0029724286999988723), (7363, 0.0), (7364, 0.0028325304203694426), (7365, 0.004145680492458067), (7366, 0.0), (7367, 0.0), (7368, 0.0), (7369, 0.0), (7370, 0.0), (7371, 0.03120063960418213), (7372, 0.0), (7373, 0.0), (7374, 0.0), (7375, 0.0), (7376, 0.0), (7377, 0.0), (7378, 0.0), (7379, 0.0), (7380, 0.0), (7381, 0.0), (7382, 0.0), (7383, 0.0), (7384, 0.0034186750946276346), (7385, 0.0), (7386, 0.0040063491708966), (7387, 0.008304044392878067), (7388, 0.0), (7389, 0.0), (7390, 0.006400102340609414), (7391, 0.0), (7392, 0.0), (7393, 0.0), (7394, 0.0), (7395, 0.014280413685579791), (7396, 0.0), (7397, 0.009239100198181142), (7398, 0.0), (7399, 0.005602912422315874), (7400, 0.002811465563995964), (7401, 0.0), (7402, 0.0), (7403, 0.005913139548424721), (7404, 0.0032290652104297324), (7405, 0.0), (7406, 0.0), (7407, 0.0), (7408, 0.006254392537506611), (7409, 0.0), (7410, 0.0031873292577938375), (7411, 0.0), (7412, 0.0), (7413, 0.0), (7414, 0.0), (7415, 0.004128685465576041), (7416, 0.0), (7417, 0.0), (7418, 0.0), (7419, 0.0), (7420, 0.016825739227714298), (7421, 0.0), (7422, 0.0035860842862906993), (7423, 0.010790967458825823), (7424, 0.0), (7425, 0.0), (7426, 0.00993000863198177), (7427, 0.0), (7428, 0.0), (7429, 0.0), (7430, 0.0), (7431, 0.0), (7432, 0.0), (7433, 0.0), (7434, 0.0), (7435, 0.008091200944847972), (7436, 0.0), (7437, 0.0), (7438, 0.0), (7439, 0.0), (7440, 0.0), (7441, 0.0), (7442, 0.0031843547129312578), (7443, 0.0), (7444, 0.0), (7445, 0.0), (7446, 0.0), (7447, 0.0), (7448, 0.0), (7449, 0.0), (7450, 0.012938325169609192), (7451, 0.0), (7452, 0.0), (7453, 0.0), (7454, 0.0), (7455, 0.0), (7456, 0.01831108247058428), (7457, 0.0), (7458, 0.0), (7459, 0.003608799132520013), (7460, 0.0), (7461, 0.003484317635308012), (7462, 0.002391238507602237), (7463, 0.0), (7464, 0.0), (7465, 0.0058538653896482145), (7466, 0.0), (7467, 0.00791700092860411), (7468, 0.0), (7469, 0.007900464753285218), (7470, 0.0), (7471, 0.0), (7472, 0.0), (7473, 0.0), (7474, 0.0), (7475, 0.0), (7476, 0.0044304900861920635), (7477, 0.0), (7478, 0.0), (7479, 0.0), (7480, 0.006082404475880033), (7481, 0.0), (7482, 0.0), (7483, 0.0), (7484, 0.0), (7485, 0.002880587366409003), (7486, 0.0039243922346629), (7487, 0.0), (7488, 0.0), (7489, 0.0), (7490, 0.0), (7491, 0.0030462913319311037), (7492, 0.012133730134216796), (7493, 0.0), (7494, 0.011720005239670917), (7495, 0.0), (7496, 0.003917878278451018), (7497, 0.0), (7498, 0.005220392991576786), (7499, 0.0), (7500, 0.0), (7501, 0.015728108618363604), (7502, 0.0), (7503, 0.004100700378790584), (7504, 0.0), (7505, 0.005619113048751887), (7506, 0.0), (7507, 0.010403244955936355), (7508, 0.0), (7509, 0.0), (7510, 0.0), (7511, 0.0036213690487307167), (7512, 0.0), (7513, 0.0), (7514, 0.0), (7515, 0.0), (7516, 0.003791781095499195), (7517, 0.005475421159119383), (7518, 0.0), (7519, 0.0), (7520, 0.0), (7521, 0.0), (7522, 0.0), (7523, 0.013327000669235391), (7524, 0.00521948033727656), (7525, 0.004847003351354116), (7526, 0.0036095595713386127), (7527, 0.005289483152241231), (7528, 0.0), (7529, 0.0), (7530, 0.0), (7531, 0.033115174245905286), (7532, 0.009634458355538295), (7533, 0.0), (7534, 0.0), (7535, 0.20139728782672164), (7536, 0.0), (7537, 0.0), (7538, 0.0), (7539, 0.0), (7540, 0.0), (7541, 0.0), (7542, 0.0), (7543, 0.0), (7544, 0.0), (7545, 0.002887048250456272), (7546, 0.015709239120182086), (7547, 0.00294339709213355), (7548, 0.0), (7549, 0.0), (7550, 0.0), (7551, 0.0), (7552, 0.0), (7553, 0.0), (7554, 0.007501780635779131), (7555, 0.0), (7556, 0.0), (7557, 0.0), (7558, 0.0), (7559, 0.0), (7560, 0.0), (7561, 0.0035748627705635212), (7562, 0.0), (7563, 0.0), (7564, 0.0), (7565, 0.0), (7566, 0.0), (7567, 0.0), (7568, 0.0), (7569, 0.00369497238049554), (7570, 0.0), (7571, 0.011057642735466038), (7572, 0.0), (7573, 0.0061620932390044755), (7574, 0.0), (7575, 0.0), (7576, 0.0), (7577, 0.0), (7578, 0.0), (7579, 0.009040555553655717), (7580, 0.0), (7581, 0.0), (7582, 0.0), (7583, 0.0), (7584, 0.004566404098111938), (7585, 0.0), (7586, 0.0), (7587, 0.0), (7588, 0.003932756200329201), (7589, 0.0), (7590, 0.0), (7591, 0.0), (7592, 0.007380630607274454), (7593, 0.0), (7594, 0.0), (7595, 0.0), (7596, 0.0), (7597, 0.005402229315318109), (7598, 0.0), (7599, 0.004998048514887132), (7600, 0.0), (7601, 0.00501528349131717), (7602, 0.0), (7603, 0.0), (7604, 0.0), (7605, 0.0), (7606, 0.0), (7607, 0.0), (7608, 0.0), (7609, 0.004428526066064225), (7610, 0.0), (7611, 0.0), (7612, 0.0), (7613, 0.0), (7614, 0.0), (7615, 0.005399129229187179), (7616, 0.0), (7617, 0.0038674453302452376), (7618, 0.019190838016462264), (7619, 0.0), (7620, 0.0), (7621, 0.0037372659059290844), (7622, 0.0), (7623, 0.0), (7624, 0.0), (7625, 0.0), (7626, 0.0), (7627, 0.0), (7628, 0.0), (7629, 0.0), (7630, 0.0), (7631, 0.0), (7632, 0.0), (7633, 0.0), (7634, 0.007910118347271112), (7635, 0.0), (7636, 0.0), (7637, 0.0), (7638, 0.004078715633156213), (7639, 0.007086823802013723), (7640, 0.005372811753897676), (7641, 0.0), (7642, 0.0), (7643, 0.0), (7644, 0.0), (7645, 0.0), (7646, 0.015736862905557533), (7647, 0.0), (7648, 0.004144638962110617), (7649, 0.0), (7650, 0.0), (7651, 0.007065747907312362), (7652, 0.0038704804487167638), (7653, 0.013709283696859571), (7654, 0.0), (7655, 0.0), (7656, 0.0), (7657, 0.0), (7658, 0.004256058453867882), (7659, 0.0), (7660, 0.0), (7661, 0.0), (7662, 0.0), (7663, 0.0), (7664, 0.0), (7665, 0.002880744447168043), (7666, 0.0), (7667, 0.0), (7668, 0.0), (7669, 0.0), (7670, 0.0), (7671, 0.0), (7672, 0.0), (7673, 0.0), (7674, 0.0038083891666843527), (7675, 0.0), (7676, 0.0), (7677, 0.0), (7678, 0.010650132483822546), (7679, 0.0), (7680, 0.0), (7681, 0.0), (7682, 0.003554923517794624), (7683, 0.0), (7684, 0.0034956978018432098), (7685, 0.009904758494891738), (7686, 0.003541978816755366), (7687, 0.0), (7688, 0.0023904383959333798), (7689, 0.0), (7690, 0.0), (7691, 0.0), (7692, 0.003424455310660605), (7693, 0.009592260687770434), (7694, 0.004374067357644192), (7695, 0.0), (7696, 0.008191817975755168), (7697, 0.0), (7698, 0.009863020634848632), (7699, 0.004807027523427597), (7700, 0.0), (7701, 0.00575427680259361), (7702, 0.0), (7703, 0.0), (7704, 0.003692453386044431), (7705, 0.0), (7706, 0.0), (7707, 0.0), (7708, 0.0), (7709, 0.0), (7710, 0.0), (7711, 0.0), (7712, 0.0064754490069708764), (7713, 0.0), (7714, 0.003403777009232415), (7715, 0.0), (7716, 0.0), (7717, 0.004546482160704071), (7718, 0.0), (7719, 0.0), (7720, 0.0), (7721, 0.0), (7722, 0.0), (7723, 0.03550268832703346), (7724, 0.0), (7725, 0.0), (7726, 0.0), (7727, 0.0), (7728, 0.0), (7729, 0.0), (7730, 0.0), (7731, 0.0), (7732, 0.0), (7733, 0.0), (7734, 0.0), (7735, 0.0), (7736, 0.0), (7737, 0.023562623713675748), (7738, 0.010552684285133658), (7739, 0.0), (7740, 0.004608958997407177), (7741, 0.0), (7742, 0.0), (7743, 0.0), (7744, 0.01801506684899326), (7745, 0.0), (7746, 0.0), (7747, 0.01152670561530762), (7748, 0.0036820178398065512), (7749, 0.012483997109694755), (7750, 0.0), (7751, 0.0), (7752, 0.007923573676899201), (7753, 0.005360799010242653), (7754, 0.0), (7755, 0.005359031512487137), (7756, 0.0036556799850032307), (7757, 0.005520264142648194), (7758, 0.0), (7759, 0.0), (7760, 0.0), (7761, 0.0), (7762, 0.005388648243803447), (7763, 0.0), (7764, 0.0), (7765, 0.00795788738979005), (7766, 0.01801471098471054), (7767, 0.0), (7768, 0.006820361110743213), (7769, 0.004172259751283095), (7770, 0.0043057044506952065), (7771, 0.01145384291437087), (7772, 0.0), (7773, 0.0), (7774, 0.0), (7775, 0.0), (7776, 0.0), (7777, 0.0), (7778, 0.0), (7779, 0.0), (7780, 0.0), (7781, 0.0), (7782, 0.0), (7783, 0.008967063195054532), (7784, 0.0), (7785, 0.0), (7786, 0.008329135978498579), (7787, 0.0), (7788, 0.007768564524346127), (7789, 0.0), (7790, 0.0), (7791, 0.0), (7792, 0.0), (7793, 0.003383316388356606), (7794, 0.0), (7795, 0.0020441090059374993), (7796, 0.0), (7797, 0.0), (7798, 0.0), (7799, 0.013341564449433598), (7800, 0.0), (7801, 0.0), (7802, 0.0), (7803, 0.0), (7804, 0.0), (7805, 0.0), (7806, 0.0), (7807, 0.0), (7808, 0.011562326298131888), (7809, 0.0), (7810, 0.0), (7811, 0.0), (7812, 0.003891869251942537), (7813, 0.0), (7814, 0.0), (7815, 0.0), (7816, 0.0), (7817, 0.0), (7818, 0.0), (7819, 0.0), (7820, 0.0), (7821, 0.0), (7822, 0.0), (7823, 0.0), (7824, 0.005977343767093927), (7825, 0.0), (7826, 0.0), (7827, 0.0), (7828, 0.0), (7829, 0.0), (7830, 0.0), (7831, 0.0), (7832, 0.0), (7833, 0.0), (7834, 0.0), (7835, 0.0), (7836, 0.0), (7837, 0.0), (7838, 0.0), (7839, 0.010848591304225224), (7840, 0.0), (7841, 0.0), (7842, 0.004167927518282513), (7843, 0.0), (7844, 0.0), (7845, 0.0), (7846, 0.004055458270972381), (7847, 0.00706537042786565), (7848, 0.0), (7849, 0.0), (7850, 0.0), (7851, 0.0), (7852, 0.0), (7853, 0.0), (7854, 0.0), (7855, 0.0), (7856, 0.009770551004568357), (7857, 0.0), (7858, 0.006000715556941182), (7859, 0.0), (7860, 0.0), (7861, 0.0), (7862, 0.0), (7863, 0.0), (7864, 0.003179833947121445), (7865, 0.0), (7866, 0.0), (7867, 0.0), (7868, 0.009679901211846616), (7869, 0.0), (7870, 0.007307912259106101), (7871, 0.0), (7872, 0.0), (7873, 0.0), (7874, 0.0), (7875, 0.006839635882697262), (7876, 0.0027642986664133235), (7877, 0.00560007155814586), (7878, 0.0), (7879, 0.005265992359406427), (7880, 0.0), (7881, 0.0), (7882, 0.0), (7883, 0.0), (7884, 0.0), (7885, 0.0), (7886, 0.0), (7887, 0.0), (7888, 0.0027013738841225217), (7889, 0.0), (7890, 0.0), (7891, 0.003012552447574527), (7892, 0.0), (7893, 0.0), (7894, 0.0), (7895, 0.0), (7896, 0.0), (7897, 0.0), (7898, 0.0), (7899, 0.0), (7900, 0.0), (7901, 0.005918335998193949), (7902, 0.0), (7903, 0.0), (7904, 0.0), (7905, 0.0), (7906, 0.0), (7907, 0.004620680463030987), (7908, 0.005226360129466025), (7909, 0.0), (7910, 0.0), (7911, 0.0), (7912, 0.0), (7913, 0.00465019694762317), (7914, 0.0), (7915, 0.0), (7916, 0.0), (7917, 0.0), (7918, 0.0), (7919, 0.007232577645082025), (7920, 0.0), (7921, 0.0), (7922, 0.0), (7923, 0.004939789873855591), (7924, 0.0), (7925, 0.0), (7926, 0.007274795785913843), (7927, 0.0), (7928, 0.0), (7929, 0.0), (7930, 0.0), (7931, 0.0), (7932, 0.0), (7933, 0.0), (7934, 0.0), (7935, 0.0), (7936, 0.0), (7937, 0.0), (7938, 0.0), (7939, 0.0), (7940, 0.0), (7941, 0.0), (7942, 0.0), (7943, 0.0), (7944, 0.0), (7945, 0.005402740899958179), (7946, 0.0), (7947, 0.0), (7948, 0.0), (7949, 0.0), (7950, 0.0), (7951, 0.0), (7952, 0.0), (7953, 0.005107428526238747), (7954, 0.0), (7955, 0.007465331715650095), (7956, 0.0), (7957, 0.0), (7958, 0.0), (7959, 0.0), (7960, 0.0), (7961, 0.0), (7962, 0.0), (7963, 0.0), (7964, 0.0), (7965, 0.0), (7966, 0.00899850417419178), (7967, 0.0), (7968, 0.005032759312337978), (7969, 0.0), (7970, 0.0), (7971, 0.006454452277769766), (7972, 0.0), (7973, 0.003067792598823312), (7974, 0.0), (7975, 0.004745080706972704), (7976, 0.002454819103538), (7977, 0.0), (7978, 0.006361534638664993), (7979, 0.0), (7980, 0.0), (7981, 0.0), (7982, 0.0), (7983, 0.0), (7984, 0.005008802253591381), (7985, 0.0), (7986, 0.0), (7987, 0.0), (7988, 0.0), (7989, 0.0035538832672843594), (7990, 0.0), (7991, 0.0), (7992, 0.0), (7993, 0.0), (7994, 0.0), (7995, 0.0), (7996, 0.0), (7997, 0.0), (7998, 0.0), (7999, 0.0), (8000, 0.0), (8001, 0.0), (8002, 0.008874978551840098), (8003, 0.0), (8004, 0.0), (8005, 0.0), (8006, 0.0), (8007, 0.006607478705050325), (8008, 0.0), (8009, 0.0037630188372073277), (8010, 0.0031608055848431973), (8011, 0.0), (8012, 0.011912261883824563), (8013, 0.007554075577719892), (8014, 0.0), (8015, 0.0), (8016, 0.0), (8017, 0.0024904211354723886), (8018, 0.0), (8019, 0.0), (8020, 0.01096331338828485), (8021, 0.0), (8022, 0.003819472551199285), (8023, 0.0), (8024, 0.0), (8025, 0.01022750650040718), (8026, 0.0), (8027, 0.0), (8028, 0.0), (8029, 0.0040536753907502105), (8030, 0.0), (8031, 0.003747690146398056), (8032, 0.0), (8033, 0.0), (8034, 0.0), (8035, 0.013128761149063882), (8036, 0.0), (8037, 0.008384279041172624), (8038, 0.0), (8039, 0.0), (8040, 0.0), (8041, 0.007491373943713937), (8042, 0.0), (8043, 0.0), (8044, 0.0), (8045, 0.0), (8046, 0.0), (8047, 0.0), (8048, 0.003024964603077406), (8049, 0.0), (8050, 0.0), (8051, 0.007009202064888398), (8052, 0.0), (8053, 0.0), (8054, 0.0), (8055, 0.0), (8056, 0.0), (8057, 0.004935771384725952), (8058, 0.0), (8059, 0.00646792081425439), (8060, 0.0), (8061, 0.0), (8062, 0.0), (8063, 0.0), (8064, 0.0), (8065, 0.0), (8066, 0.0), (8067, 0.0), (8068, 0.0), (8069, 0.0), (8070, 0.0), (8071, 0.0059407304708630464), (8072, 0.0), (8073, 0.0), (8074, 0.0025352372764468117), (8075, 0.0), (8076, 0.0), (8077, 0.0), (8078, 0.0), (8079, 0.0), (8080, 0.0030935728094109603), (8081, 0.0), (8082, 0.0), (8083, 0.0), (8084, 0.0), (8085, 0.0), (8086, 0.006891394994183848), (8087, 0.005976554130176668), (8088, 0.0), (8089, 0.0), (8090, 0.0), (8091, 0.007656675757836054), (8092, 0.0036446782168394988), (8093, 0.0), (8094, 0.0), (8095, 0.0), (8096, 0.0), (8097, 0.0), (8098, 0.0), (8099, 0.0), (8100, 0.0), (8101, 0.007960510244186236), (8102, 0.0), (8103, 0.0), (8104, 0.0), (8105, 0.0), (8106, 0.0), (8107, 0.0), (8108, 0.009470101669478002), (8109, 0.0034668377769522456), (8110, 0.004055355372921861), (8111, 0.0), (8112, 0.0034153555408871173), (8113, 0.01220813418853024), (8114, 0.0), (8115, 0.0), (8116, 0.0), (8117, 0.0), (8118, 0.0), (8119, 0.0), (8120, 0.0), (8121, 0.0), (8122, 0.003774211779286515), (8123, 0.0), (8124, 0.0), (8125, 0.0), (8126, 0.0), (8127, 0.0), (8128, 0.0), (8129, 0.0), (8130, 0.0), (8131, 0.0), (8132, 0.005378293498548418), (8133, 0.0), (8134, 0.0), (8135, 0.005375655220348787), (8136, 0.0), (8137, 0.007254943573556839), (8138, 0.0), (8139, 0.0), (8140, 0.0), (8141, 0.0064514160948776), (8142, 0.0), (8143, 0.0026736484940536164), (8144, 0.0), (8145, 0.0), (8146, 0.0), (8147, 0.0), (8148, 0.0), (8149, 0.0), (8150, 0.0), (8151, 0.008207976555719216), (8152, 0.004161877675233492), (8153, 0.0), (8154, 0.00243218020664171), (8155, 0.0), (8156, 0.0), (8157, 0.0), (8158, 0.0), (8159, 0.004885069075045099), (8160, 0.007050210621667076), (8161, 0.0), (8162, 0.0), (8163, 0.0), (8164, 0.0), (8165, 0.0), (8166, 0.0), (8167, 0.0), (8168, 0.0), (8169, 0.004533950782120111), (8170, 0.0), (8171, 0.0), (8172, 0.0), (8173, 0.0), (8174, 0.0), (8175, 0.0), (8176, 0.0), (8177, 0.006430401581098096), (8178, 0.0), (8179, 0.0), (8180, 0.0), (8181, 0.0), (8182, 0.0), (8183, 0.0), (8184, 0.0), (8185, 0.00702303842912494), (8186, 0.0), (8187, 0.008542310531897957), (8188, 0.0), (8189, 0.0), (8190, 0.0), (8191, 0.02692346155306984), (8192, 0.0), (8193, 0.0046154744053309655), (8194, 0.0), (8195, 0.0040224490859146304), (8196, 0.0), (8197, 0.007331662076933047), (8198, 0.0), (8199, 0.0), (8200, 0.0), (8201, 0.0), (8202, 0.0), (8203, 0.0), (8204, 0.006811710207870581), (8205, 0.0), (8206, 0.0), (8207, 0.007888947113002628), (8208, 0.0), (8209, 0.0), (8210, 0.002954417226691572), (8211, 0.0), (8212, 0.0), (8213, 0.0), (8214, 0.0), (8215, 0.0), (8216, 0.0), (8217, 0.0), (8218, 0.0), (8219, 0.0), (8220, 0.0), (8221, 0.0), (8222, 0.008367924377792732), (8223, 0.0), (8224, 0.0), (8225, 0.0), (8226, 0.00410452147014372), (8227, 0.0), (8228, 0.0), (8229, 0.0), (8230, 0.0), (8231, 0.0), (8232, 0.0), (8233, 0.0), (8234, 0.004579498755814174), (8235, 0.0), (8236, 0.0), (8237, 0.005528382581318861), (8238, 0.0), (8239, 0.0), (8240, 0.0), (8241, 0.0), (8242, 0.0), (8243, 0.0), (8244, 0.0), (8245, 0.0), (8246, 0.0), (8247, 0.005697257088960132), (8248, 0.009494649900181023), (8249, 0.0), (8250, 0.0), (8251, 0.0), (8252, 0.003072155528430068), (8253, 0.004723078901902189), (8254, 0.006542392709140036), (8255, 0.0), (8256, 0.0), (8257, 0.0), (8258, 0.0), (8259, 0.002129327231550917), (8260, 0.0), (8261, 0.004140038436592251), (8262, 0.012672615954744771), (8263, 0.0), (8264, 0.0), (8265, 0.0), (8266, 0.006457220898499653), (8267, 0.0), (8268, 0.0), (8269, 0.004443465944030977), (8270, 0.0), (8271, 0.0), (8272, 0.0), (8273, 0.0), (8274, 0.0), (8275, 0.0), (8276, 0.0), (8277, 0.0), (8278, 0.0), (8279, 0.0041898827871798845), (8280, 0.004812916704659801), (8281, 0.0), (8282, 0.0053040929567247505), (8283, 0.0), (8284, 0.0), (8285, 0.0), (8286, 0.00252875599750624), (8287, 0.0), (8288, 0.0037393585639299448), (8289, 0.00428747884274957), (8290, 0.0), (8291, 0.006030178325848578), (8292, 0.0), (8293, 0.0), (8294, 0.0), (8295, 0.004562535700213616), (8296, 0.0), (8297, 0.0), (8298, 0.0), (8299, 0.0), (8300, 0.0), (8301, 0.0), (8302, 0.006177379033348361), (8303, 0.0), (8304, 0.0), (8305, 0.0), (8306, 0.0), (8307, 0.0), (8308, 0.0), (8309, 0.0), (8310, 0.0), (8311, 0.0), (8312, 0.005227399751183172), (8313, 0.013087248789990853), (8314, 0.01078169063430659), (8315, 0.0), (8316, 0.0), (8317, 0.0), (8318, 0.006233139618803134), (8319, 0.0), (8320, 0.0), (8321, 0.0), (8322, 0.00810719485787383), (8323, 0.0), (8324, 0.0), (8325, 0.0), (8326, 0.0), (8327, 0.0), (8328, 0.003815563512403501), (8329, 0.01000979473414295), (8330, 0.04286376895653506), (8331, 0.0), (8332, 0.0), (8333, 0.0), (8334, 0.005672406322592674), (8335, 0.0), (8336, 0.0), (8337, 0.0), (8338, 0.0), (8339, 0.0035680980735941234), (8340, 0.0), (8341, 0.0), (8342, 0.0), (8343, 0.0), (8344, 0.0), (8345, 0.0), (8346, 0.0), (8347, 0.0), (8348, 0.0), (8349, 0.0), (8350, 0.003977410740236856), (8351, 0.010233851563758436), (8352, 0.0026760595278099274), (8353, 0.0), (8354, 0.006097522451216728), (8355, 0.002354222181238246), (8356, 0.0), (8357, 0.007095317005681555), (8358, 0.0), (8359, 0.003940030013602083), (8360, 0.006735261095038789), (8361, 0.0), (8362, 0.011005044513836536), (8363, 0.0), (8364, 0.004208176863384532), (8365, 0.0), (8366, 0.003405582357370732), (8367, 0.0), (8368, 0.0), (8369, 0.0), (8370, 0.00451746019468694), (8371, 0.0), (8372, 0.006189416703726581), (8373, 0.005402346736917017), (8374, 0.0039354496113430315), (8375, 0.0), (8376, 0.0), (8377, 0.0060358793376003445), (8378, 0.0), (8379, 0.0), (8380, 0.0055868826782443795), (8381, 0.0), (8382, 0.0), (8383, 0.0), (8384, 0.004301426131414782), (8385, 0.0), (8386, 0.0), (8387, 0.0), (8388, 0.0), (8389, 0.0), (8390, 0.006045040884992243), (8391, 0.0), (8392, 0.0), (8393, 0.0), (8394, 0.0), (8395, 0.0), (8396, 0.0), (8397, 0.006239645356564712), (8398, 0.0), (8399, 0.004984034685936026), (8400, 0.0), (8401, 0.0), (8402, 0.0), (8403, 0.0), (8404, 0.0), (8405, 0.0), (8406, 0.0), (8407, 0.0), (8408, 0.0), (8409, 0.0), (8410, 0.0), (8411, 0.0), (8412, 0.0), (8413, 0.04247787177483838), (8414, 0.0), (8415, 0.006398444983895202), (8416, 0.0), (8417, 0.0), (8418, 0.0), (8419, 0.0), (8420, 0.0), (8421, 0.0), (8422, 0.0), (8423, 0.02846573286989557), (8424, 0.0), (8425, 0.0047241522122840685), (8426, 0.0), (8427, 0.00325449829205041), (8428, 0.0033655732295975955), (8429, 0.0), (8430, 0.0), (8431, 0.0), (8432, 0.0), (8433, 0.0), (8434, 0.007464085758661488), (8435, 0.004315600876860871), (8436, 0.0), (8437, 0.0), (8438, 0.0), (8439, 0.0), (8440, 0.0), (8441, 0.0), (8442, 0.0), (8443, 0.0), (8444, 0.0), (8445, 0.0), (8446, 0.0), (8447, 0.0), (8448, 0.0), (8449, 0.0), (8450, 0.0), (8451, 0.0), (8452, 0.010828877282801633), (8453, 0.0), (8454, 0.0), (8455, 0.0), (8456, 0.0), (8457, 0.0), (8458, 0.0031538265522018214), (8459, 0.0), (8460, 0.0), (8461, 0.003419900758225666), (8462, 0.0), (8463, 0.0), (8464, 0.0), (8465, 0.002922310606580382), (8466, 0.0), (8467, 0.02288247501776731), (8468, 0.005637270982731816), (8469, 0.0052929866976446), (8470, 0.0), (8471, 0.0), (8472, 0.007074982217899945), (8473, 0.0), (8474, 0.009285585643051894), (8475, 0.009842237207763161), (8476, 0.02000421288832657), (8477, 0.0029729981571429446), (8478, 0.0), (8479, 0.005297219591558827), (8480, 0.0034080244051069917), (8481, 0.0), (8482, 0.0), (8483, 0.005320957760404972), (8484, 0.0), (8485, 0.0), (8486, 0.0), (8487, 0.0), (8488, 0.005048565023855684), (8489, 0.0), (8490, 0.003005532219818112), (8491, 0.0), (8492, 0.010163795703609773), (8493, 0.0031795926143012693), (8494, 0.0), (8495, 0.0), (8496, 0.008365246292663754), (8497, 0.0), (8498, 0.006665248948889833), (8499, 0.0), (8500, 0.004700337985398547), (8501, 0.007683939582551916), (8502, 0.0), (8503, 0.0), (8504, 0.007336988797202119), (8505, 0.0), (8506, 0.003991715366126742), (8507, 0.0), (8508, 0.0), (8509, 0.0), (8510, 0.004945630811895736), (8511, 0.0), (8512, 0.0), (8513, 0.0), (8514, 0.0), (8515, 0.0), (8516, 0.003763204930746134), (8517, 0.0), (8518, 0.0), (8519, 0.005116432373616981), (8520, 0.0), (8521, 0.005964994853612866), (8522, 0.0), (8523, 0.0), (8524, 0.004971960952218782), (8525, 0.0), (8526, 0.0), (8527, 0.0), (8528, 0.0), (8529, 0.0), (8530, 0.0), (8531, 0.0), (8532, 0.0), (8533, 0.0), (8534, 0.0), (8535, 0.0), (8536, 0.0), (8537, 0.0), (8538, 0.0), (8539, 0.008347985935407837), (8540, 0.007610801513121625), (8541, 0.017545967957914087), (8542, 0.008999683589449484), (8543, 0.0), (8544, 0.0), (8545, 0.015453605814310632), (8546, 0.0), (8547, 0.005388543083234285), (8548, 0.0), (8549, 0.004031378964915301), (8550, 0.0), (8551, 0.0), (8552, 0.0), (8553, 0.0), (8554, 0.0), (8555, 0.0), (8556, 0.005213251617189368), (8557, 0.0), (8558, 0.0), (8559, 0.0), (8560, 0.0), (8561, 0.0), (8562, 0.0), (8563, 0.005914134919891546), (8564, 0.0), (8565, 0.0), (8566, 0.0), (8567, 0.0), (8568, 0.0), (8569, 0.003296778126699025), (8570, 0.004619948654002392), (8571, 0.0), (8572, 0.006709331249853704), (8573, 0.010369416291093557), (8574, 0.0), (8575, 0.0), (8576, 0.0), (8577, 0.005701099055181246), (8578, 0.0), (8579, 0.0033938007586228587), (8580, 0.0), (8581, 0.0), (8582, 0.0), (8583, 0.0), (8584, 0.0), (8585, 0.0038285696130884585), (8586, 0.00293247196880154), (8587, 0.007712358636196288), (8588, 0.01751308553906937), (8589, 0.006598364746281884), (8590, 0.013024786658467458), (8591, 0.0), (8592, 0.01018747915779842), (8593, 0.0), (8594, 0.0), (8595, 0.0), (8596, 0.0), (8597, 0.0), (8598, 0.0), (8599, 0.0), (8600, 0.00876586235586691), (8601, 0.0030636182889143245), (8602, 0.0), (8603, 0.008917782333829397), (8604, 0.0), (8605, 0.0), (8606, 0.0), (8607, 0.0), (8608, 0.0), (8609, 0.002656751762468197), (8610, 0.0), (8611, 0.0), (8612, 0.0), (8613, 0.0), (8614, 0.0), (8615, 0.0), (8616, 0.0), (8617, 0.0), (8618, 0.0038699398066499476), (8619, 0.0), (8620, 0.0), (8621, 0.0), (8622, 0.013076617468962149), (8623, 0.0), (8624, 0.0), (8625, 0.0), (8626, 0.0), (8627, 0.0), (8628, 0.0), (8629, 0.0), (8630, 0.0), (8631, 0.0), (8632, 0.009015485914960266), (8633, 0.0), (8634, 0.0), (8635, 0.0), (8636, 0.0), (8637, 0.004229795194333751), (8638, 0.0), (8639, 0.0), (8640, 0.0), (8641, 0.0049689838768711865), (8642, 0.004884769182704216), (8643, 0.0), (8644, 0.0), (8645, 0.002477058643200656), (8646, 0.0), (8647, 0.0), (8648, 0.0), (8649, 0.0), (8650, 0.004120870182739272), (8651, 0.0), (8652, 0.007689237385301592), (8653, 0.0), (8654, 0.0), (8655, 0.0036919297381984894), (8656, 0.0), (8657, 0.0), (8658, 0.0), (8659, 0.0), (8660, 0.0), (8661, 0.0), (8662, 0.0), (8663, 0.0), (8664, 0.0), (8665, 0.010309795462161547), (8666, 0.0042552853397944965), (8667, 0.0), (8668, 0.0), (8669, 0.0), (8670, 0.0), (8671, 0.0), (8672, 0.0), (8673, 0.0), (8674, 0.006628465529567802), (8675, 0.0), (8676, 0.0), (8677, 0.009382075519205451), (8678, 0.0), (8679, 0.0), (8680, 0.0), (8681, 0.0), (8682, 0.007327548076475163), (8683, 0.0), (8684, 0.0), (8685, 0.0), (8686, 0.0), (8687, 0.0), (8688, 0.0), (8689, 0.0), (8690, 0.0), (8691, 0.0), (8692, 0.0), (8693, 0.0), (8694, 0.0031911897553235863), (8695, 0.0), (8696, 0.00958852723405486), (8697, 0.0), (8698, 0.0), (8699, 0.006830921233361306), (8700, 0.0), (8701, 0.0), (8702, 0.004344757529664208), (8703, 0.003707959794452752), (8704, 0.0041101730230712185), (8705, 0.0), (8706, 0.006867769565774801), (8707, 0.004694845964231326), (8708, 0.004900570432609781), (8709, 0.0), (8710, 0.0), (8711, 0.0), (8712, 0.0), (8713, 0.0), (8714, 0.0), (8715, 0.0), (8716, 0.006640019560998817), (8717, 0.0), (8718, 0.0), (8719, 0.0), (8720, 0.008696569561658254), (8721, 0.0), (8722, 0.0), (8723, 0.005202090860304367), (8724, 0.012904921103096566), (8725, 0.0), (8726, 0.0), (8727, 0.0071531416913322545), (8728, 0.0), (8729, 0.0), (8730, 0.0), (8731, 0.0), (8732, 0.0), (8733, 0.0), (8734, 0.0), (8735, 0.0), (8736, 0.0), (8737, 0.0), (8738, 0.0), (8739, 0.01188728745499372), (8740, 0.010091457690681774), (8741, 0.0), (8742, 0.0), (8743, 0.004414544933899689), (8744, 0.0058879235931920005), (8745, 0.003927842795541967), (8746, 0.0), (8747, 0.0), (8748, 0.0), (8749, 0.0), (8750, 0.0), (8751, 0.0), (8752, 0.003468105834056297), (8753, 0.003969486272280972), (8754, 0.0), (8755, 0.0), (8756, 0.0), (8757, 0.0), (8758, 0.0), (8759, 0.0), (8760, 0.004758161550360677), (8761, 0.0), (8762, 0.0), (8763, 0.0), (8764, 0.015254548863990094), (8765, 0.0033112293090543864), (8766, 0.0), (8767, 0.0), (8768, 0.0), (8769, 0.0), (8770, 0.0034763836013933977), (8771, 0.0), (8772, 0.0), (8773, 0.0), (8774, 0.003954344521225316), (8775, 0.005318162386464619), (8776, 0.0), (8777, 0.006655687845636116), (8778, 0.008282360805912652), (8779, 0.004854474003196645), (8780, 0.003957351139792654), (8781, 0.004087200252030483), (8782, 0.0), (8783, 0.0), (8784, 0.0), (8785, 0.0), (8786, 0.0), (8787, 0.0), (8788, 0.0), (8789, 0.0), (8790, 0.0), (8791, 0.0), (8792, 0.005543304071298917), (8793, 0.004554959387064281), (8794, 0.0), (8795, 0.0), (8796, 0.008916809689247447), (8797, 0.0032509705994049937), (8798, 0.004360897348443925), (8799, 0.0), (8800, 0.0), (8801, 0.0), (8802, 0.0), (8803, 0.0), (8804, 0.009300549845045436), (8805, 0.0031607112441215442), (8806, 0.0), (8807, 0.0), (8808, 0.0), (8809, 0.0), (8810, 0.009750727242481251), (8811, 0.0), (8812, 0.0), (8813, 0.0), (8814, 0.0), (8815, 0.006043867863492143), (8816, 0.0), (8817, 0.0), (8818, 0.0), (8819, 0.0), (8820, 0.0), (8821, 0.0), (8822, 0.0028040598418883813), (8823, 0.0), (8824, 0.0), (8825, 0.003976300886965906), (8826, 0.0), (8827, 0.008073382401885138), (8828, 0.0), (8829, 0.0), (8830, 0.0), (8831, 0.0), (8832, 0.002242012878811724), (8833, 0.0033733949044395203), (8834, 0.0), (8835, 0.0026276170329958847), (8836, 0.006825366070307329), (8837, 0.0036078437473595192), (8838, 0.0), (8839, 0.0), (8840, 0.0), (8841, 0.0), (8842, 0.0), (8843, 0.004837366828515768), (8844, 0.004757295997268539), (8845, 0.0), (8846, 0.0), (8847, 0.0), (8848, 0.0), (8849, 0.003883205329885138), (8850, 0.0), (8851, 0.0), (8852, 0.0), (8853, 0.0), (8854, 0.01158265491060387), (8855, 0.0), (8856, 0.006526154433712014), (8857, 0.0), (8858, 0.0), (8859, 0.0), (8860, 0.003937244018355397), (8861, 0.00445416530090354), (8862, 0.0), (8863, 0.0), (8864, 0.0), (8865, 0.0), (8866, 0.0), (8867, 0.0), (8868, 0.0023789606774727804), (8869, 0.0), (8870, 0.0), (8871, 0.0), (8872, 0.0), (8873, 0.0), (8874, 0.0), (8875, 0.0), (8876, 0.0), (8877, 0.006456958027464496), (8878, 0.0), (8879, 0.0), (8880, 0.0), (8881, 0.0), (8882, 0.0), (8883, 0.0), (8884, 0.0034377858125279057), (8885, 0.0020520041395033), (8886, 0.0041533378056979675), (8887, 0.0), (8888, 0.0), (8889, 0.0), (8890, 0.0), (8891, 0.0), (8892, 0.005164143413147365), (8893, 0.009594015952163365), (8894, 0.0), (8895, 0.0), (8896, 0.009222986497429387), (8897, 0.0), (8898, 0.004707061212157712), (8899, 0.0), (8900, 0.0), (8901, 0.0071772811731306094), (8902, 0.0), (8903, 0.0), (8904, 0.0), (8905, 0.0), (8906, 0.0), (8907, 0.0), (8908, 0.005922960500821348), (8909, 0.00813744665346684), (8910, 0.0), (8911, 0.004943544923432565), (8912, 0.0), (8913, 0.0), (8914, 0.0), (8915, 0.0), (8916, 0.007392252328021305), (8917, 0.0), (8918, 0.0), (8919, 0.0), (8920, 0.0), (8921, 0.0), (8922, 0.01849763564096196), (8923, 0.0), (8924, 0.0), (8925, 0.0), (8926, 0.00404985820425409), (8927, 0.0), (8928, 0.0), (8929, 0.0), (8930, 0.0), (8931, 0.0), (8932, 0.0), (8933, 0.0), (8934, 0.0), (8935, 0.004430642491432371), (8936, 0.0), (8937, 0.0), (8938, 0.0), (8939, 0.0), (8940, 0.0), (8941, 0.0), (8942, 0.014798318966615464), (8943, 0.0), (8944, 0.0), (8945, 0.0), (8946, 0.0), (8947, 0.0), (8948, 0.0), (8949, 0.0035849565419410166), (8950, 0.0), (8951, 0.0), (8952, 0.0), (8953, 0.003102297394127611), (8954, 0.0), (8955, 0.01994325059020737), (8956, 0.007068918359462821), (8957, 0.005395884628257574), (8958, 0.0), (8959, 0.005922110359255932), (8960, 0.0), (8961, 0.0), (8962, 0.0), (8963, 0.0), (8964, 0.0), (8965, 0.006296526792488423), (8966, 0.0), (8967, 0.011988184840692317), (8968, 0.0), (8969, 0.0), (8970, 0.002719777958851814), (8971, 0.0), (8972, 0.003142952510959007), (8973, 0.0), (8974, 0.0), (8975, 0.0), (8976, 0.0), (8977, 0.0), (8978, 0.0), (8979, 0.0058949175236867385), (8980, 0.0), (8981, 0.0), (8982, 0.004937904965856086), (8983, 0.0), (8984, 0.0), (8985, 0.006318883807631846), (8986, 0.0), (8987, 0.0), (8988, 0.0), (8989, 0.0), (8990, 0.0), (8991, 0.023173465532083826), (8992, 0.0), (8993, 0.012018478849080014), (8994, 0.0), (8995, 0.005627338339421323), (8996, 0.0037425564702677225), (8997, 0.0), (8998, 0.0), (8999, 0.0), (9000, 0.0), (9001, 0.0), (9002, 0.006071064408525848), (9003, 0.006002778132072498), (9004, 0.0), (9005, 0.0), (9006, 0.003290780588574026), (9007, 0.0), (9008, 0.0), (9009, 0.0), (9010, 0.0), (9011, 0.015464528168662336), (9012, 0.0029278428135671207), (9013, 0.0), (9014, 0.0), (9015, 0.0), (9016, 0.0), (9017, 0.0), (9018, 0.0), (9019, 0.0), (9020, 0.01640091692592729), (9021, 0.0), (9022, 0.0), (9023, 0.0), (9024, 0.0), (9025, 0.0), (9026, 0.011416054553054847), (9027, 0.0), (9028, 0.0), (9029, 0.007704938590649773), (9030, 0.0), (9031, 0.0), (9032, 0.0), (9033, 0.0), (9034, 0.0), (9035, 0.004203029038884068), (9036, 0.0), (9037, 0.0), (9038, 0.0), (9039, 0.013643047323938833), (9040, 0.0), (9041, 0.0), (9042, 0.0), (9043, 0.008276548580497412), (9044, 0.0), (9045, 0.0), (9046, 0.0), (9047, 0.003327348630431268), (9048, 0.005474597775422002), (9049, 0.0), (9050, 0.0), (9051, 0.0), (9052, 0.010479506476623119), (9053, 0.0), (9054, 0.0), (9055, 0.0), (9056, 0.0), (9057, 0.0), (9058, 0.0), (9059, 0.005536008072131373), (9060, 0.0), (9061, 0.01090765794296152), (9062, 0.0), (9063, 0.00455186032851713), (9064, 0.0), (9065, 0.0), (9066, 0.0), (9067, 0.0), (9068, 0.0), (9069, 0.0), (9070, 0.0), (9071, 0.0), (9072, 0.0), (9073, 0.0), (9074, 0.0), (9075, 0.0), (9076, 0.0), (9077, 0.0), (9078, 0.0), (9079, 0.007157069904933656), (9080, 0.0033419939992553847), (9081, 0.0), (9082, 0.0), (9083, 0.002700566050707733), (9084, 0.0031547308266090817), (9085, 0.00580307148515279), (9086, 0.0), (9087, 0.0), (9088, 0.0), (9089, 0.0), (9090, 0.0049257592278934784), (9091, 0.0), (9092, 0.0), (9093, 0.0), (9094, 0.0), (9095, 0.0048768431015789645), (9096, 0.0), (9097, 0.002508499998927113), (9098, 0.0)]\n"
     ]
    }
   ],
   "source": [
    "#To get pairwise similarity score for movie with index 0\n",
    "similarity =  list(enumerate(cosine_sim[0]))\n",
    "print(similarity)"
   ]
  },
  {
   "cell_type": "code",
   "execution_count": 64,
   "metadata": {},
   "outputs": [],
   "source": [
    "def desc_based_recommendation(title):\n",
    "    idx = indexes[title]\n",
    "    sim = list(enumerate(cosine_sim[idx]))\n",
    "    sim = sorted(sim, key=lambda x: x[1], reverse=True)\n",
    "    sim = sim[1:31]\n",
    "    rec_movies_indexes = [i[0] for i in sim]\n",
    "    return titles.iloc[rec_movies_indexes]"
   ]
  },
  {
   "cell_type": "markdown",
   "metadata": {},
   "source": [
    "Lets get reccomendation for star wars"
   ]
  },
  {
   "cell_type": "code",
   "execution_count": 65,
   "metadata": {},
   "outputs": [
    {
     "data": {
      "text/plain": [
       "949          The Empire Strikes Back\n",
       "962               Return of the Jedi\n",
       "8755    Star Wars: The Force Awakens\n",
       "6690                 Shrek the Third\n",
       "7539             Shrek Forever After\n",
       "4815               Where Eagles Dare\n",
       "2890                   Shanghai Noon\n",
       "5383                         Shrek 2\n",
       "5088             The Thief of Bagdad\n",
       "279                The Swan Princess\n",
       "Name: title, dtype: object"
      ]
     },
     "execution_count": 65,
     "metadata": {},
     "output_type": "execute_result"
    }
   ],
   "source": [
    "desc_based_recommendation('Star Wars').head(10)"
   ]
  },
  {
   "cell_type": "markdown",
   "metadata": {},
   "source": [
    "We get Return of Jedi and Star Wars: The Force Awakens as a recommendation for star wars which is pretty cool!"
   ]
  },
  {
   "cell_type": "markdown",
   "metadata": {},
   "source": [
    "#### Metadata Based Recommender\n",
    "\n",
    "Lets add more details like cast, crew , directors, keywords etc to get better similarity score for movies with similar content.\n",
    "To do the same we need to prepare this data as our first step."
   ]
  },
  {
   "cell_type": "code",
   "execution_count": 66,
   "metadata": {},
   "outputs": [],
   "source": [
    "#loading data from credits.csv for cast and crew, and Keywords.csv for keywords related to movies\n",
    "credits = pd.read_csv('credits.csv')\n",
    "keywords = pd.read_csv('keywords.csv')"
   ]
  },
  {
   "cell_type": "code",
   "execution_count": 67,
   "metadata": {},
   "outputs": [],
   "source": [
    "#Converting id's to int\n",
    "keywords['id'] = keywords['id'].astype('int')\n",
    "credits['id'] = credits['id'].astype('int')\n",
    "movies_metadata['id'] = movies_metadata['id'].astype('int')"
   ]
  },
  {
   "cell_type": "code",
   "execution_count": 68,
   "metadata": {},
   "outputs": [],
   "source": [
    "# Add Cast and Crew column to our movies dataset\n",
    "movies_metadata = movies_metadata.merge(credits, on='id')\n",
    "#Add Keywords to the dataset\n",
    "movies_metadata = movies_metadata.merge(keywords, on='id')"
   ]
  },
  {
   "cell_type": "code",
   "execution_count": 69,
   "metadata": {},
   "outputs": [
    {
     "data": {
      "text/html": [
       "<div>\n",
       "<style scoped>\n",
       "    .dataframe tbody tr th:only-of-type {\n",
       "        vertical-align: middle;\n",
       "    }\n",
       "\n",
       "    .dataframe tbody tr th {\n",
       "        vertical-align: top;\n",
       "    }\n",
       "\n",
       "    .dataframe thead th {\n",
       "        text-align: right;\n",
       "    }\n",
       "</style>\n",
       "<table border=\"1\" class=\"dataframe\">\n",
       "  <thead>\n",
       "    <tr style=\"text-align: right;\">\n",
       "      <th></th>\n",
       "      <th>index</th>\n",
       "      <th>adult</th>\n",
       "      <th>belongs_to_collection</th>\n",
       "      <th>budget</th>\n",
       "      <th>genres</th>\n",
       "      <th>homepage</th>\n",
       "      <th>id</th>\n",
       "      <th>imdb_id</th>\n",
       "      <th>original_language</th>\n",
       "      <th>original_title</th>\n",
       "      <th>...</th>\n",
       "      <th>video</th>\n",
       "      <th>vote_average</th>\n",
       "      <th>vote_count</th>\n",
       "      <th>movieId</th>\n",
       "      <th>year</th>\n",
       "      <th>pro_overview</th>\n",
       "      <th>description</th>\n",
       "      <th>cast</th>\n",
       "      <th>crew</th>\n",
       "      <th>keywords</th>\n",
       "    </tr>\n",
       "  </thead>\n",
       "  <tbody>\n",
       "    <tr>\n",
       "      <th>0</th>\n",
       "      <td>0</td>\n",
       "      <td>False</td>\n",
       "      <td>{'id': 10194, 'name': 'Toy Story Collection', ...</td>\n",
       "      <td>30000000</td>\n",
       "      <td>[Animation, Comedy, Family]</td>\n",
       "      <td>http://toystory.disney.com/toy-story</td>\n",
       "      <td>862</td>\n",
       "      <td>tt0114709</td>\n",
       "      <td>en</td>\n",
       "      <td>Toy Story</td>\n",
       "      <td>...</td>\n",
       "      <td>False</td>\n",
       "      <td>7.7</td>\n",
       "      <td>5415.0</td>\n",
       "      <td>1</td>\n",
       "      <td>1995</td>\n",
       "      <td>led woodi andi toy live happili room andi birt...</td>\n",
       "      <td>led woodi andi toy live happili room andi birt...</td>\n",
       "      <td>[{'cast_id': 14, 'character': 'Woody (voice)',...</td>\n",
       "      <td>[{'credit_id': '52fe4284c3a36847f8024f49', 'de...</td>\n",
       "      <td>[{'id': 931, 'name': 'jealousy'}, {'id': 4290,...</td>\n",
       "    </tr>\n",
       "    <tr>\n",
       "      <th>1</th>\n",
       "      <td>1</td>\n",
       "      <td>False</td>\n",
       "      <td>NaN</td>\n",
       "      <td>65000000</td>\n",
       "      <td>[Adventure, Fantasy, Family]</td>\n",
       "      <td>NaN</td>\n",
       "      <td>8844</td>\n",
       "      <td>tt0113497</td>\n",
       "      <td>en</td>\n",
       "      <td>Jumanji</td>\n",
       "      <td>...</td>\n",
       "      <td>False</td>\n",
       "      <td>6.9</td>\n",
       "      <td>2413.0</td>\n",
       "      <td>2</td>\n",
       "      <td>1995</td>\n",
       "      <td>sibl judi peter discov enchant board game open...</td>\n",
       "      <td>sibl judi peter discov enchant board game open...</td>\n",
       "      <td>[{'cast_id': 1, 'character': 'Alan Parrish', '...</td>\n",
       "      <td>[{'credit_id': '52fe44bfc3a36847f80a7cd1', 'de...</td>\n",
       "      <td>[{'id': 10090, 'name': 'board game'}, {'id': 1...</td>\n",
       "    </tr>\n",
       "    <tr>\n",
       "      <th>2</th>\n",
       "      <td>2</td>\n",
       "      <td>False</td>\n",
       "      <td>{'id': 119050, 'name': 'Grumpy Old Men Collect...</td>\n",
       "      <td>0</td>\n",
       "      <td>[Romance, Comedy]</td>\n",
       "      <td>NaN</td>\n",
       "      <td>15602</td>\n",
       "      <td>tt0113228</td>\n",
       "      <td>en</td>\n",
       "      <td>Grumpier Old Men</td>\n",
       "      <td>...</td>\n",
       "      <td>False</td>\n",
       "      <td>6.5</td>\n",
       "      <td>92.0</td>\n",
       "      <td>3</td>\n",
       "      <td>1995</td>\n",
       "      <td>famili wed reignit ancient feud nextdoor neigh...</td>\n",
       "      <td>famili wed reignit ancient feud nextdoor neigh...</td>\n",
       "      <td>[{'cast_id': 2, 'character': 'Max Goldman', 'c...</td>\n",
       "      <td>[{'credit_id': '52fe466a9251416c75077a89', 'de...</td>\n",
       "      <td>[{'id': 1495, 'name': 'fishing'}, {'id': 12392...</td>\n",
       "    </tr>\n",
       "    <tr>\n",
       "      <th>3</th>\n",
       "      <td>3</td>\n",
       "      <td>False</td>\n",
       "      <td>NaN</td>\n",
       "      <td>16000000</td>\n",
       "      <td>[Comedy, Drama, Romance]</td>\n",
       "      <td>NaN</td>\n",
       "      <td>31357</td>\n",
       "      <td>tt0114885</td>\n",
       "      <td>en</td>\n",
       "      <td>Waiting to Exhale</td>\n",
       "      <td>...</td>\n",
       "      <td>False</td>\n",
       "      <td>6.1</td>\n",
       "      <td>34.0</td>\n",
       "      <td>4</td>\n",
       "      <td>1995</td>\n",
       "      <td>cheat mistreat step woman hold breath wait elu...</td>\n",
       "      <td>cheat mistreat step woman hold breath wait elu...</td>\n",
       "      <td>[{'cast_id': 1, 'character': \"Savannah 'Vannah...</td>\n",
       "      <td>[{'credit_id': '52fe44779251416c91011acb', 'de...</td>\n",
       "      <td>[{'id': 818, 'name': 'based on novel'}, {'id':...</td>\n",
       "    </tr>\n",
       "    <tr>\n",
       "      <th>4</th>\n",
       "      <td>4</td>\n",
       "      <td>False</td>\n",
       "      <td>{'id': 96871, 'name': 'Father of the Bride Col...</td>\n",
       "      <td>0</td>\n",
       "      <td>[Comedy]</td>\n",
       "      <td>NaN</td>\n",
       "      <td>11862</td>\n",
       "      <td>tt0113041</td>\n",
       "      <td>en</td>\n",
       "      <td>Father of the Bride Part II</td>\n",
       "      <td>...</td>\n",
       "      <td>False</td>\n",
       "      <td>5.7</td>\n",
       "      <td>173.0</td>\n",
       "      <td>5</td>\n",
       "      <td>1995</td>\n",
       "      <td>georg bank recov daughter wed receiv news shes...</td>\n",
       "      <td>georg bank recov daughter wed receiv news shes...</td>\n",
       "      <td>[{'cast_id': 1, 'character': 'George Banks', '...</td>\n",
       "      <td>[{'credit_id': '52fe44959251416c75039ed7', 'de...</td>\n",
       "      <td>[{'id': 1009, 'name': 'baby'}, {'id': 1599, 'n...</td>\n",
       "    </tr>\n",
       "  </tbody>\n",
       "</table>\n",
       "<p>5 rows × 32 columns</p>\n",
       "</div>"
      ],
      "text/plain": [
       "   index  adult                              belongs_to_collection    budget  \\\n",
       "0      0  False  {'id': 10194, 'name': 'Toy Story Collection', ...  30000000   \n",
       "1      1  False                                                NaN  65000000   \n",
       "2      2  False  {'id': 119050, 'name': 'Grumpy Old Men Collect...         0   \n",
       "3      3  False                                                NaN  16000000   \n",
       "4      4  False  {'id': 96871, 'name': 'Father of the Bride Col...         0   \n",
       "\n",
       "                         genres                              homepage     id  \\\n",
       "0   [Animation, Comedy, Family]  http://toystory.disney.com/toy-story    862   \n",
       "1  [Adventure, Fantasy, Family]                                   NaN   8844   \n",
       "2             [Romance, Comedy]                                   NaN  15602   \n",
       "3      [Comedy, Drama, Romance]                                   NaN  31357   \n",
       "4                      [Comedy]                                   NaN  11862   \n",
       "\n",
       "     imdb_id original_language               original_title  \\\n",
       "0  tt0114709                en                    Toy Story   \n",
       "1  tt0113497                en                      Jumanji   \n",
       "2  tt0113228                en             Grumpier Old Men   \n",
       "3  tt0114885                en            Waiting to Exhale   \n",
       "4  tt0113041                en  Father of the Bride Part II   \n",
       "\n",
       "                         ...                          video vote_average  \\\n",
       "0                        ...                          False          7.7   \n",
       "1                        ...                          False          6.9   \n",
       "2                        ...                          False          6.5   \n",
       "3                        ...                          False          6.1   \n",
       "4                        ...                          False          5.7   \n",
       "\n",
       "  vote_count movieId  year                                       pro_overview  \\\n",
       "0     5415.0       1  1995  led woodi andi toy live happili room andi birt...   \n",
       "1     2413.0       2  1995  sibl judi peter discov enchant board game open...   \n",
       "2       92.0       3  1995  famili wed reignit ancient feud nextdoor neigh...   \n",
       "3       34.0       4  1995  cheat mistreat step woman hold breath wait elu...   \n",
       "4      173.0       5  1995  georg bank recov daughter wed receiv news shes...   \n",
       "\n",
       "                                         description  \\\n",
       "0  led woodi andi toy live happili room andi birt...   \n",
       "1  sibl judi peter discov enchant board game open...   \n",
       "2  famili wed reignit ancient feud nextdoor neigh...   \n",
       "3  cheat mistreat step woman hold breath wait elu...   \n",
       "4  georg bank recov daughter wed receiv news shes...   \n",
       "\n",
       "                                                cast  \\\n",
       "0  [{'cast_id': 14, 'character': 'Woody (voice)',...   \n",
       "1  [{'cast_id': 1, 'character': 'Alan Parrish', '...   \n",
       "2  [{'cast_id': 2, 'character': 'Max Goldman', 'c...   \n",
       "3  [{'cast_id': 1, 'character': \"Savannah 'Vannah...   \n",
       "4  [{'cast_id': 1, 'character': 'George Banks', '...   \n",
       "\n",
       "                                                crew  \\\n",
       "0  [{'credit_id': '52fe4284c3a36847f8024f49', 'de...   \n",
       "1  [{'credit_id': '52fe44bfc3a36847f80a7cd1', 'de...   \n",
       "2  [{'credit_id': '52fe466a9251416c75077a89', 'de...   \n",
       "3  [{'credit_id': '52fe44779251416c91011acb', 'de...   \n",
       "4  [{'credit_id': '52fe44959251416c75039ed7', 'de...   \n",
       "\n",
       "                                            keywords  \n",
       "0  [{'id': 931, 'name': 'jealousy'}, {'id': 4290,...  \n",
       "1  [{'id': 10090, 'name': 'board game'}, {'id': 1...  \n",
       "2  [{'id': 1495, 'name': 'fishing'}, {'id': 12392...  \n",
       "3  [{'id': 818, 'name': 'based on novel'}, {'id':...  \n",
       "4  [{'id': 1009, 'name': 'baby'}, {'id': 1599, 'n...  \n",
       "\n",
       "[5 rows x 32 columns]"
      ]
     },
     "execution_count": 69,
     "metadata": {},
     "output_type": "execute_result"
    }
   ],
   "source": [
    "movies_metadata.head()"
   ]
  },
  {
   "cell_type": "markdown",
   "metadata": {},
   "source": [
    "After getting the data in a single dataframe, we can get the following from the data:\n",
    "<p><b> Crew:</b>\n",
    "Since director is the most important person in the crew of the movie, we will take it as our feature from the crew\n",
    "<p><b>  Cast: </b>\n",
    "We will take the first 3 actors from the Cast"
   ]
  },
  {
   "cell_type": "code",
   "execution_count": 70,
   "metadata": {},
   "outputs": [],
   "source": [
    "#Checking for Python literal structures: strings, bytes, numbers, tuples, lists, dicts, sets, booleans, and None.\n",
    "movies_metadata['cast'] = movies_metadata['cast'].apply(literal_eval)\n",
    "movies_metadata['crew'] = movies_metadata['crew'].apply(literal_eval)\n",
    "movies_metadata['keywords'] = movies_metadata['keywords'].apply(literal_eval)\n",
    "#Get the cast and crew size\n",
    "movies_metadata['cast_size'] = movies_metadata['cast'].apply(lambda x: len(x))\n",
    "movies_metadata['crew_size'] = movies_metadata['crew'].apply(lambda x: len(x))"
   ]
  },
  {
   "cell_type": "code",
   "execution_count": 71,
   "metadata": {},
   "outputs": [],
   "source": [
    "def get_director(d):\n",
    "    for i in d:\n",
    "        if i['job'] == 'Director':\n",
    "            return i['name']\n",
    "    return np.nan"
   ]
  },
  {
   "cell_type": "code",
   "execution_count": 72,
   "metadata": {},
   "outputs": [],
   "source": [
    "movies_metadata['director'] = movies_metadata['crew'].apply(get_director)"
   ]
  },
  {
   "cell_type": "code",
   "execution_count": 73,
   "metadata": {},
   "outputs": [],
   "source": [
    "movies_metadata['cast'] = movies_metadata['cast'].apply(lambda x: [i['name'] for i in x] if isinstance(x, list) else [])\n",
    "movies_metadata['cast'] = movies_metadata['cast'].apply(lambda x: x[:3] if len(x) >=3 else x)"
   ]
  },
  {
   "cell_type": "code",
   "execution_count": 74,
   "metadata": {},
   "outputs": [],
   "source": [
    "movies_metadata['keywords'] = movies_metadata['keywords'].apply(lambda x: [i['name'] for i in x] if isinstance(x, list) else [])"
   ]
  },
  {
   "cell_type": "markdown",
   "metadata": {},
   "source": [
    "We will add genre, keywords, director and main actors and create count matrix using count vectorizer as we did in Description based recommender and follow similar steps to calculate cosine similarities to get most similar movies.\n",
    "\n",
    "- Remove Spaces between names\n",
    "- Convert all features to lower case\n",
    "- This will help to distinguish between Christopher Nolen and Christopher Columbus\n",
    "- To get movies with same director more often, we will add director 3 times and provide additional weight to this feature"
   ]
  },
  {
   "cell_type": "code",
   "execution_count": 75,
   "metadata": {},
   "outputs": [],
   "source": [
    "movies_metadata['cast'] = movies_metadata['cast'].apply(lambda x: [str.lower(i.replace(\" \", \"\")) for i in x])"
   ]
  },
  {
   "cell_type": "code",
   "execution_count": 76,
   "metadata": {},
   "outputs": [],
   "source": [
    "#Remove spaces between names\n",
    "movies_metadata['director'] = movies_metadata['director'].astype('str').apply(lambda x: str.lower(x.replace(\" \", \"\")))\n",
    "#Add more weight to director\n",
    "movies_metadata['director'] = movies_metadata['director'].apply(lambda x: [x,x, x])"
   ]
  },
  {
   "cell_type": "markdown",
   "metadata": {},
   "source": [
    "<b>Keywords:</b>\n",
    "We only require keywords that occur more than once, having keywords that occur just once will increase complexity and reduce similarity score. So let's count the keywords and keep only those occuring more than once"
   ]
  },
  {
   "cell_type": "code",
   "execution_count": 77,
   "metadata": {},
   "outputs": [],
   "source": [
    "k = movies_metadata.apply(lambda x: pd.Series(x['keywords']),axis=1).stack().reset_index(level=1, drop=True)\n",
    "k.name = 'keyword'"
   ]
  },
  {
   "cell_type": "code",
   "execution_count": 78,
   "metadata": {},
   "outputs": [
    {
     "data": {
      "text/plain": [
       "independent film        610\n",
       "woman director          550\n",
       "murder                  399\n",
       "duringcreditsstinger    327\n",
       "based on novel          318\n",
       "Name: keyword, dtype: int64"
      ]
     },
     "execution_count": 78,
     "metadata": {},
     "output_type": "execute_result"
    }
   ],
   "source": [
    "k = k.value_counts()\n",
    "k[:5]"
   ]
  },
  {
   "cell_type": "code",
   "execution_count": 79,
   "metadata": {},
   "outputs": [],
   "source": [
    "#Removing keyword occuring just once\n",
    "k = k[k > 1]"
   ]
  },
  {
   "cell_type": "markdown",
   "metadata": {},
   "source": [
    "Using Snowball Stemmer, lets take the word back to its root form. This helps to reduce same features like forest and forests"
   ]
  },
  {
   "cell_type": "code",
   "execution_count": 80,
   "metadata": {},
   "outputs": [
    {
     "data": {
      "text/plain": [
       "'forest'"
      ]
     },
     "execution_count": 80,
     "metadata": {},
     "output_type": "execute_result"
    }
   ],
   "source": [
    "stemmer = SnowballStemmer('english')\n",
    "stemmer.stem('forests')"
   ]
  },
  {
   "cell_type": "code",
   "execution_count": 81,
   "metadata": {},
   "outputs": [],
   "source": [
    "def filter_keywords(x):\n",
    "    words = []\n",
    "    for i in x:\n",
    "        if i in k:\n",
    "            words.append(i)\n",
    "    return words"
   ]
  },
  {
   "cell_type": "code",
   "execution_count": 82,
   "metadata": {},
   "outputs": [],
   "source": [
    "movies_metadata['keywords'] = movies_metadata['keywords'].apply(filter_keywords)\n",
    "movies_metadata['keywords'] = movies_metadata['keywords'].apply(lambda x: [stemmer.stem(i) for i in x])\n",
    "movies_metadata['keywords'] = movies_metadata['keywords'].apply(lambda x: [str.lower(i.replace(\" \", \"\")) for i in x])"
   ]
  },
  {
   "cell_type": "code",
   "execution_count": 83,
   "metadata": {},
   "outputs": [],
   "source": [
    "movies_metadata['analyzer'] = movies_metadata['keywords'] + movies_metadata['cast'] + movies_metadata['director'] + movies_metadata['genres']\n",
    "movies_metadata['analyzer'] = movies_metadata['analyzer'].apply(lambda x: ' '.join(x))"
   ]
  },
  {
   "cell_type": "code",
   "execution_count": 84,
   "metadata": {},
   "outputs": [],
   "source": [
    "count = CountVectorizer(analyzer='word',ngram_range=(1, 2),min_df=0, stop_words='english')\n",
    "count_matrix = count.fit_transform(movies_metadata['analyzer'])"
   ]
  },
  {
   "cell_type": "code",
   "execution_count": 85,
   "metadata": {},
   "outputs": [],
   "source": [
    "# Get pairwise cosine similarity\n",
    "cosine_sim = cosine_similarity(count_matrix, count_matrix)"
   ]
  },
  {
   "cell_type": "code",
   "execution_count": 86,
   "metadata": {},
   "outputs": [],
   "source": [
    "movies_metadata = movies_metadata.reset_index()\n",
    "titles = movies_metadata['title']\n",
    "indexes = pd.Series(movies_metadata.index, index=movies_metadata['title'])"
   ]
  },
  {
   "cell_type": "code",
   "execution_count": 87,
   "metadata": {},
   "outputs": [
    {
     "data": {
      "text/plain": [
       "2120       Star Wars: Episode I - The Phantom Menace\n",
       "4137    Star Wars: Episode II - Attack of the Clones\n",
       "6199    Star Wars: Episode III - Revenge of the Sith\n",
       "970                          The Empire Strikes Back\n",
       "4789                                        THX 1138\n",
       "983                               Return of the Jedi\n",
       "2705                               American Graffiti\n",
       "7088                       Star Wars: The Clone Wars\n",
       "8865                    Star Wars: The Force Awakens\n",
       "8079                Journey 2: The Mysterious Island\n",
       "Name: title, dtype: object"
      ]
     },
     "execution_count": 87,
     "metadata": {},
     "output_type": "execute_result"
    }
   ],
   "source": [
    "desc_based_recommendation('Star Wars').head(10)"
   ]
  },
  {
   "cell_type": "markdown",
   "metadata": {},
   "source": [
    "We get much better results this time, most of the star war related movies are covered. Let's try for another movie 'Inception'"
   ]
  },
  {
   "cell_type": "code",
   "execution_count": 88,
   "metadata": {},
   "outputs": [
    {
     "data": {
      "text/plain": [
       "6623                             The Prestige\n",
       "3381                                  Memento\n",
       "4145                                 Insomnia\n",
       "2085                                Following\n",
       "8031                    The Dark Knight Rises\n",
       "8613                             Interstellar\n",
       "6981                          The Dark Knight\n",
       "6218                            Batman Begins\n",
       "5638    Sky Captain and the World of Tomorrow\n",
       "8500                                  Don Jon\n",
       "Name: title, dtype: object"
      ]
     },
     "execution_count": 88,
     "metadata": {},
     "output_type": "execute_result"
    }
   ],
   "source": [
    "desc_based_recommendation('Inception').head(10)"
   ]
  },
  {
   "cell_type": "markdown",
   "metadata": {},
   "source": [
    "This proves that adding weight to the director definetly works, as most of the movies in Top 10 is of Christopher Nolan"
   ]
  },
  {
   "cell_type": "markdown",
   "metadata": {},
   "source": [
    "#### Popularity Based Recommendation\n",
    "Since our current recommender dosen't take popularity and ratings into account, it shows movies like 'Sky Captain and the World of Tomorrow' over many other popular movies.\n",
    "\n",
    "We will improve our recommendation system by returning only popular movies with more number of ratings\n",
    "\n",
    "let's take top 25 movies based on similarity scores and calculate the vote of the 70th percentile movie. Then, using this as the value of  m , we will calculate the weighted rating of each movie using IMDB's formula like we did in the Simple Recommender section."
   ]
  },
  {
   "cell_type": "code",
   "execution_count": 89,
   "metadata": {},
   "outputs": [],
   "source": [
    "def popularity_based_recommendations(title,percentile=0.70):\n",
    "    idx = indexes[title]\n",
    "    sim = list(enumerate(cosine_sim[idx]))\n",
    "    sim = sorted(sim, key=lambda x: x[1], reverse=True)\n",
    "    sim = sim[1:26]\n",
    "    req_index = [i[0] for i in sim]\n",
    "    \n",
    "    movies = movies_metadata.iloc[req_index][['title', 'vote_count', 'vote_average', 'year']]\n",
    "    no_of_votes = movies[movies['vote_count'].notnull()]['vote_count'].astype('int')\n",
    "    vote_mean = movies[movies['vote_average'].notnull()]['vote_average'].astype('int')\n",
    "    m = no_of_votes.quantile(percentile)\n",
    "    C = vote_mean.mean()\n",
    "    top_movies = movies[(movies['vote_count'] >= m) & (movies['vote_count'].notnull()) & (movies['vote_average'].notnull())]\n",
    "    top_movies['vote_count'] = top_movies['vote_count'].astype('int')\n",
    "    top_movies['vote_average'] = top_movies['vote_average'].astype('int')\n",
    "    top_movies['wr'] = top_movies.apply(weighted_rating, axis=1)\n",
    "    top_movies = top_movies.sort_values('wr', ascending=False).head(10)\n",
    "    return top_movies"
   ]
  },
  {
   "cell_type": "code",
   "execution_count": 90,
   "metadata": {},
   "outputs": [
    {
     "data": {
      "text/html": [
       "<div>\n",
       "<style scoped>\n",
       "    .dataframe tbody tr th:only-of-type {\n",
       "        vertical-align: middle;\n",
       "    }\n",
       "\n",
       "    .dataframe tbody tr th {\n",
       "        vertical-align: top;\n",
       "    }\n",
       "\n",
       "    .dataframe thead th {\n",
       "        text-align: right;\n",
       "    }\n",
       "</style>\n",
       "<table border=\"1\" class=\"dataframe\">\n",
       "  <thead>\n",
       "    <tr style=\"text-align: right;\">\n",
       "      <th></th>\n",
       "      <th>title</th>\n",
       "      <th>vote_count</th>\n",
       "      <th>vote_average</th>\n",
       "      <th>year</th>\n",
       "      <th>wr</th>\n",
       "    </tr>\n",
       "  </thead>\n",
       "  <tbody>\n",
       "    <tr>\n",
       "      <th>970</th>\n",
       "      <td>The Empire Strikes Back</td>\n",
       "      <td>5998</td>\n",
       "      <td>8</td>\n",
       "      <td>1980</td>\n",
       "      <td>7.671623</td>\n",
       "    </tr>\n",
       "    <tr>\n",
       "      <th>8865</th>\n",
       "      <td>Star Wars: The Force Awakens</td>\n",
       "      <td>7993</td>\n",
       "      <td>7</td>\n",
       "      <td>2015</td>\n",
       "      <td>6.866624</td>\n",
       "    </tr>\n",
       "    <tr>\n",
       "      <th>983</th>\n",
       "      <td>Return of the Jedi</td>\n",
       "      <td>4763</td>\n",
       "      <td>7</td>\n",
       "      <td>1983</td>\n",
       "      <td>6.793425</td>\n",
       "    </tr>\n",
       "    <tr>\n",
       "      <th>6199</th>\n",
       "      <td>Star Wars: Episode III - Revenge of the Sith</td>\n",
       "      <td>4200</td>\n",
       "      <td>7</td>\n",
       "      <td>2005</td>\n",
       "      <td>6.771573</td>\n",
       "    </tr>\n",
       "    <tr>\n",
       "      <th>7600</th>\n",
       "      <td>Iron Man 2</td>\n",
       "      <td>6969</td>\n",
       "      <td>6</td>\n",
       "      <td>2010</td>\n",
       "      <td>5.988459</td>\n",
       "    </tr>\n",
       "    <tr>\n",
       "      <th>8581</th>\n",
       "      <td>Divergent</td>\n",
       "      <td>4784</td>\n",
       "      <td>6</td>\n",
       "      <td>2014</td>\n",
       "      <td>5.984190</td>\n",
       "    </tr>\n",
       "    <tr>\n",
       "      <th>2120</th>\n",
       "      <td>Star Wars: Episode I - The Phantom Menace</td>\n",
       "      <td>4526</td>\n",
       "      <td>6</td>\n",
       "      <td>1999</td>\n",
       "      <td>5.983468</td>\n",
       "    </tr>\n",
       "    <tr>\n",
       "      <th>3049</th>\n",
       "      <td>X-Men</td>\n",
       "      <td>4172</td>\n",
       "      <td>6</td>\n",
       "      <td>2000</td>\n",
       "      <td>5.982363</td>\n",
       "    </tr>\n",
       "  </tbody>\n",
       "</table>\n",
       "</div>"
      ],
      "text/plain": [
       "                                             title  vote_count  vote_average  \\\n",
       "970                        The Empire Strikes Back        5998             8   \n",
       "8865                  Star Wars: The Force Awakens        7993             7   \n",
       "983                             Return of the Jedi        4763             7   \n",
       "6199  Star Wars: Episode III - Revenge of the Sith        4200             7   \n",
       "7600                                    Iron Man 2        6969             6   \n",
       "8581                                     Divergent        4784             6   \n",
       "2120     Star Wars: Episode I - The Phantom Menace        4526             6   \n",
       "3049                                         X-Men        4172             6   \n",
       "\n",
       "      year        wr  \n",
       "970   1980  7.671623  \n",
       "8865  2015  6.866624  \n",
       "983   1983  6.793425  \n",
       "6199  2005  6.771573  \n",
       "7600  2010  5.988459  \n",
       "8581  2014  5.984190  \n",
       "2120  1999  5.983468  \n",
       "3049  2000  5.982363  "
      ]
     },
     "execution_count": 90,
     "metadata": {},
     "output_type": "execute_result"
    }
   ],
   "source": [
    "popularity_based_recommendations('Star Wars')"
   ]
  },
  {
   "cell_type": "markdown",
   "metadata": {},
   "source": [
    "We get even better recommendation using popularity based recommender, as we get X-Men and Iron Man 2 in the list , which are my favourites "
   ]
  },
  {
   "cell_type": "markdown",
   "metadata": {},
   "source": [
    "#### Collaborative Filtering*\n",
    "The Results from our popularity based recommender are impressive, we get most of the similar movies when querying for a movie. While content based are good when we have good amount of content for the movie like the name of actors, movie synopsis, director’s information etc. we always don’t have all the information required for making relevant recommendations. Also, while we tried to derive user’s taste by using movies overview and taglines as input to our model, the recommendations provided by a collaborative filtering model are way better than a content based model. Another advantage of using a collaborative filtering model over Content based model is that it doesn’t require any data related to movies content. We have built a CF model using Scikit learn’s Surprise library which provides a simple data ingestion for making recommendations through CF. It also provides powerful algorithms like Singular Value Decomposition(SVD) to minimize RMSE and provide great recommendations."
   ]
  },
  {
   "cell_type": "markdown",
   "metadata": {},
   "source": [
    "*The code for Collaborative filtering is referred from Rounak Banik's Github Repository which can be accessed [here](https://github.com/rounakbanik/movies/blob/master/movies_recommender.ipynb)"
   ]
  },
  {
   "cell_type": "code",
   "execution_count": 91,
   "metadata": {},
   "outputs": [],
   "source": [
    "reader = Reader()"
   ]
  },
  {
   "cell_type": "code",
   "execution_count": 92,
   "metadata": {},
   "outputs": [
    {
     "data": {
      "text/html": [
       "<div>\n",
       "<style scoped>\n",
       "    .dataframe tbody tr th:only-of-type {\n",
       "        vertical-align: middle;\n",
       "    }\n",
       "\n",
       "    .dataframe tbody tr th {\n",
       "        vertical-align: top;\n",
       "    }\n",
       "\n",
       "    .dataframe thead th {\n",
       "        text-align: right;\n",
       "    }\n",
       "</style>\n",
       "<table border=\"1\" class=\"dataframe\">\n",
       "  <thead>\n",
       "    <tr style=\"text-align: right;\">\n",
       "      <th></th>\n",
       "      <th>userId</th>\n",
       "      <th>movieId</th>\n",
       "      <th>rating</th>\n",
       "      <th>timestamp</th>\n",
       "    </tr>\n",
       "  </thead>\n",
       "  <tbody>\n",
       "    <tr>\n",
       "      <th>0</th>\n",
       "      <td>1</td>\n",
       "      <td>31</td>\n",
       "      <td>2.5</td>\n",
       "      <td>1260759144</td>\n",
       "    </tr>\n",
       "    <tr>\n",
       "      <th>1</th>\n",
       "      <td>1</td>\n",
       "      <td>1029</td>\n",
       "      <td>3.0</td>\n",
       "      <td>1260759179</td>\n",
       "    </tr>\n",
       "    <tr>\n",
       "      <th>2</th>\n",
       "      <td>1</td>\n",
       "      <td>1061</td>\n",
       "      <td>3.0</td>\n",
       "      <td>1260759182</td>\n",
       "    </tr>\n",
       "    <tr>\n",
       "      <th>3</th>\n",
       "      <td>1</td>\n",
       "      <td>1129</td>\n",
       "      <td>2.0</td>\n",
       "      <td>1260759185</td>\n",
       "    </tr>\n",
       "    <tr>\n",
       "      <th>4</th>\n",
       "      <td>1</td>\n",
       "      <td>1172</td>\n",
       "      <td>4.0</td>\n",
       "      <td>1260759205</td>\n",
       "    </tr>\n",
       "  </tbody>\n",
       "</table>\n",
       "</div>"
      ],
      "text/plain": [
       "   userId  movieId  rating   timestamp\n",
       "0       1       31     2.5  1260759144\n",
       "1       1     1029     3.0  1260759179\n",
       "2       1     1061     3.0  1260759182\n",
       "3       1     1129     2.0  1260759185\n",
       "4       1     1172     4.0  1260759205"
      ]
     },
     "execution_count": 92,
     "metadata": {},
     "output_type": "execute_result"
    }
   ],
   "source": [
    "ratings = pd.read_csv('ratings.csv')\n",
    "ratings.head()"
   ]
  },
  {
   "cell_type": "code",
   "execution_count": 93,
   "metadata": {},
   "outputs": [],
   "source": [
    "data = Dataset.load_from_df(ratings[['userId', 'movieId', 'rating']], reader)\n",
    "data.split(n_folds=5)"
   ]
  },
  {
   "cell_type": "code",
   "execution_count": 94,
   "metadata": {},
   "outputs": [
    {
     "name": "stdout",
     "output_type": "stream",
     "text": [
      "Evaluating RMSE, MAE of algorithm SVD.\n",
      "\n",
      "------------\n",
      "Fold 1\n",
      "RMSE: 0.9016\n",
      "MAE:  0.6928\n",
      "------------\n",
      "Fold 2\n",
      "RMSE: 0.9004\n",
      "MAE:  0.6939\n",
      "------------\n",
      "Fold 3\n",
      "RMSE: 0.8917\n",
      "MAE:  0.6884\n",
      "------------\n",
      "Fold 4\n",
      "RMSE: 0.8999\n",
      "MAE:  0.6904\n",
      "------------\n",
      "Fold 5\n",
      "RMSE: 0.8911\n",
      "MAE:  0.6865\n",
      "------------\n",
      "------------\n",
      "Mean RMSE: 0.8969\n",
      "Mean MAE : 0.6904\n",
      "------------\n",
      "------------\n"
     ]
    },
    {
     "data": {
      "text/plain": [
       "CaseInsensitiveDefaultDict(list,\n",
       "                           {'mae': [0.6927538693365773,\n",
       "                             0.693911637711029,\n",
       "                             0.6883683654884518,\n",
       "                             0.6903754461245644,\n",
       "                             0.6865100330611149],\n",
       "                            'rmse': [0.9016342233871928,\n",
       "                             0.900402697676928,\n",
       "                             0.8917022443974216,\n",
       "                             0.8998581438416187,\n",
       "                             0.8911292005047662]})"
      ]
     },
     "execution_count": 94,
     "metadata": {},
     "output_type": "execute_result"
    }
   ],
   "source": [
    "svd = SVD()\n",
    "evaluate(svd, data, measures=['RMSE', 'MAE'])"
   ]
  },
  {
   "cell_type": "markdown",
   "metadata": {},
   "source": [
    "We get a mean Root Mean Sqaure Error of 0.8951 which is more than good enough for our case. Let us now train on our dataset and arrive at predictions."
   ]
  },
  {
   "cell_type": "code",
   "execution_count": 95,
   "metadata": {},
   "outputs": [
    {
     "data": {
      "text/plain": [
       "<surprise.prediction_algorithms.matrix_factorization.SVD at 0x2a1c32eaa20>"
      ]
     },
     "execution_count": 95,
     "metadata": {},
     "output_type": "execute_result"
    }
   ],
   "source": [
    "trainset = data.build_full_trainset()\n",
    "svd.train(trainset)"
   ]
  },
  {
   "cell_type": "code",
   "execution_count": 96,
   "metadata": {},
   "outputs": [
    {
     "data": {
      "text/plain": [
       "Prediction(uid=1, iid=302, r_ui=3, est=2.7450032112214804, details={'was_impossible': False})"
      ]
     },
     "execution_count": 96,
     "metadata": {},
     "output_type": "execute_result"
    }
   ],
   "source": [
    "#Provide userId, movieId and True Rating\n",
    "svd.predict(1, 302, 3)"
   ]
  },
  {
   "cell_type": "markdown",
   "metadata": {},
   "source": [
    "For movie with ID 302, we get an estimated prediction of 2.862. One startling feature of this recommender system is that it doesn't care what the movie is (or what it contains). It works purely on the basis of an assigned movie ID and tries to predict ratings based on how the other users have predicted the movie."
   ]
  },
  {
   "cell_type": "markdown",
   "metadata": {},
   "source": [
    "#### Hybrid Recommender*\n",
    "\n",
    "Hybrid Recommender leverages the best of both Content based and collaborative filtering techniques.\n",
    "\n",
    "Input: User ID and the Title of a Movie\n",
    "Output: Similar movies sorted on the basis of expected ratings by that particular user.\n",
    "\n",
    "*Part of code for Hybrid Recommendation is referred from Rounak Banik's Github Repository which can be accessed from [here](https://github.com/rounakbanik/movies/blob/master/movies_recommender.ipynb)"
   ]
  },
  {
   "cell_type": "code",
   "execution_count": 97,
   "metadata": {},
   "outputs": [],
   "source": [
    "links.drop('imdbId',axis=1,inplace=True)\n",
    "links.columns=['movieId', 'id']\n",
    "id_map = links.merge(movies_metadata[['title', 'id']], on='id').set_index('title')"
   ]
  },
  {
   "cell_type": "code",
   "execution_count": 98,
   "metadata": {},
   "outputs": [],
   "source": [
    "indices_map = id_map.set_index('id')"
   ]
  },
  {
   "cell_type": "code",
   "execution_count": 109,
   "metadata": {},
   "outputs": [],
   "source": [
    "def hybrid(userId, title):\n",
    "    idx = indexes[title]\n",
    "    tmdbId = id_map.loc[title]['id']\n",
    "    #print(idx)\n",
    "    movie_id = id_map.loc[title]['movieId']\n",
    "    \n",
    "    sim_scores = list(enumerate(cosine_sim[int(idx)]))\n",
    "    sim_scores = sorted(sim_scores, key=lambda x: x[1], reverse=True)\n",
    "    sim_scores = sim_scores[1:26]\n",
    "    movie_indices = [i[0] for i in sim_scores]\n",
    "    \n",
    "    movies = movies_metadata.iloc[movie_indices][['title', 'vote_count','year', 'id']]\n",
    "    movies['est rating'] = movies['id'].apply(lambda x: svd.predict(userId, indices_map.loc[x]['movieId']).est)\n",
    "    movies = movies.sort_values('est rating', ascending=False)\n",
    "    return movies.head(10)"
   ]
  },
  {
   "cell_type": "code",
   "execution_count": 110,
   "metadata": {},
   "outputs": [
    {
     "data": {
      "text/html": [
       "<div>\n",
       "<style scoped>\n",
       "    .dataframe tbody tr th:only-of-type {\n",
       "        vertical-align: middle;\n",
       "    }\n",
       "\n",
       "    .dataframe tbody tr th {\n",
       "        vertical-align: top;\n",
       "    }\n",
       "\n",
       "    .dataframe thead th {\n",
       "        text-align: right;\n",
       "    }\n",
       "</style>\n",
       "<table border=\"1\" class=\"dataframe\">\n",
       "  <thead>\n",
       "    <tr style=\"text-align: right;\">\n",
       "      <th></th>\n",
       "      <th>title</th>\n",
       "      <th>vote_count</th>\n",
       "      <th>year</th>\n",
       "      <th>id</th>\n",
       "      <th>est rating</th>\n",
       "    </tr>\n",
       "  </thead>\n",
       "  <tbody>\n",
       "    <tr>\n",
       "      <th>1011</th>\n",
       "      <td>The Terminator</td>\n",
       "      <td>4208.0</td>\n",
       "      <td>1984</td>\n",
       "      <td>218</td>\n",
       "      <td>3.113663</td>\n",
       "    </tr>\n",
       "    <tr>\n",
       "      <th>522</th>\n",
       "      <td>Terminator 2: Judgment Day</td>\n",
       "      <td>4274.0</td>\n",
       "      <td>1991</td>\n",
       "      <td>280</td>\n",
       "      <td>3.099023</td>\n",
       "    </tr>\n",
       "    <tr>\n",
       "      <th>974</th>\n",
       "      <td>Aliens</td>\n",
       "      <td>3282.0</td>\n",
       "      <td>1986</td>\n",
       "      <td>679</td>\n",
       "      <td>2.979387</td>\n",
       "    </tr>\n",
       "    <tr>\n",
       "      <th>8658</th>\n",
       "      <td>X-Men: Days of Future Past</td>\n",
       "      <td>6155.0</td>\n",
       "      <td>2014</td>\n",
       "      <td>127585</td>\n",
       "      <td>2.894395</td>\n",
       "    </tr>\n",
       "    <tr>\n",
       "      <th>8401</th>\n",
       "      <td>Star Trek Into Darkness</td>\n",
       "      <td>4479.0</td>\n",
       "      <td>2013</td>\n",
       "      <td>54138</td>\n",
       "      <td>2.874042</td>\n",
       "    </tr>\n",
       "    <tr>\n",
       "      <th>2014</th>\n",
       "      <td>Fantastic Planet</td>\n",
       "      <td>140.0</td>\n",
       "      <td>1973</td>\n",
       "      <td>16306</td>\n",
       "      <td>2.820920</td>\n",
       "    </tr>\n",
       "    <tr>\n",
       "      <th>344</th>\n",
       "      <td>True Lies</td>\n",
       "      <td>1138.0</td>\n",
       "      <td>1994</td>\n",
       "      <td>36955</td>\n",
       "      <td>2.779683</td>\n",
       "    </tr>\n",
       "    <tr>\n",
       "      <th>1668</th>\n",
       "      <td>Return from Witch Mountain</td>\n",
       "      <td>38.0</td>\n",
       "      <td>1978</td>\n",
       "      <td>14822</td>\n",
       "      <td>2.747166</td>\n",
       "    </tr>\n",
       "    <tr>\n",
       "      <th>1621</th>\n",
       "      <td>Darby O'Gill and the Little People</td>\n",
       "      <td>35.0</td>\n",
       "      <td>1959</td>\n",
       "      <td>18887</td>\n",
       "      <td>2.741992</td>\n",
       "    </tr>\n",
       "    <tr>\n",
       "      <th>4017</th>\n",
       "      <td>Hawk the Slayer</td>\n",
       "      <td>13.0</td>\n",
       "      <td>1980</td>\n",
       "      <td>25628</td>\n",
       "      <td>2.699138</td>\n",
       "    </tr>\n",
       "  </tbody>\n",
       "</table>\n",
       "</div>"
      ],
      "text/plain": [
       "                                   title  vote_count  year      id  est rating\n",
       "1011                      The Terminator      4208.0  1984     218    3.113663\n",
       "522           Terminator 2: Judgment Day      4274.0  1991     280    3.099023\n",
       "974                               Aliens      3282.0  1986     679    2.979387\n",
       "8658          X-Men: Days of Future Past      6155.0  2014  127585    2.894395\n",
       "8401             Star Trek Into Darkness      4479.0  2013   54138    2.874042\n",
       "2014                    Fantastic Planet       140.0  1973   16306    2.820920\n",
       "344                            True Lies      1138.0  1994   36955    2.779683\n",
       "1668          Return from Witch Mountain        38.0  1978   14822    2.747166\n",
       "1621  Darby O'Gill and the Little People        35.0  1959   18887    2.741992\n",
       "4017                     Hawk the Slayer        13.0  1980   25628    2.699138"
      ]
     },
     "execution_count": 110,
     "metadata": {},
     "output_type": "execute_result"
    }
   ],
   "source": [
    "hybrid(1, 'Avatar')"
   ]
  },
  {
   "cell_type": "code",
   "execution_count": 111,
   "metadata": {},
   "outputs": [
    {
     "data": {
      "text/html": [
       "<div>\n",
       "<style scoped>\n",
       "    .dataframe tbody tr th:only-of-type {\n",
       "        vertical-align: middle;\n",
       "    }\n",
       "\n",
       "    .dataframe tbody tr th {\n",
       "        vertical-align: top;\n",
       "    }\n",
       "\n",
       "    .dataframe thead th {\n",
       "        text-align: right;\n",
       "    }\n",
       "</style>\n",
       "<table border=\"1\" class=\"dataframe\">\n",
       "  <thead>\n",
       "    <tr style=\"text-align: right;\">\n",
       "      <th></th>\n",
       "      <th>title</th>\n",
       "      <th>vote_count</th>\n",
       "      <th>year</th>\n",
       "      <th>id</th>\n",
       "      <th>est rating</th>\n",
       "    </tr>\n",
       "  </thead>\n",
       "  <tbody>\n",
       "    <tr>\n",
       "      <th>2014</th>\n",
       "      <td>Fantastic Planet</td>\n",
       "      <td>140.0</td>\n",
       "      <td>1973</td>\n",
       "      <td>16306</td>\n",
       "      <td>3.245734</td>\n",
       "    </tr>\n",
       "    <tr>\n",
       "      <th>4966</th>\n",
       "      <td>Hercules in New York</td>\n",
       "      <td>63.0</td>\n",
       "      <td>1969</td>\n",
       "      <td>5227</td>\n",
       "      <td>3.239042</td>\n",
       "    </tr>\n",
       "    <tr>\n",
       "      <th>8658</th>\n",
       "      <td>X-Men: Days of Future Past</td>\n",
       "      <td>6155.0</td>\n",
       "      <td>2014</td>\n",
       "      <td>127585</td>\n",
       "      <td>3.180482</td>\n",
       "    </tr>\n",
       "    <tr>\n",
       "      <th>8401</th>\n",
       "      <td>Star Trek Into Darkness</td>\n",
       "      <td>4479.0</td>\n",
       "      <td>2013</td>\n",
       "      <td>54138</td>\n",
       "      <td>3.174624</td>\n",
       "    </tr>\n",
       "    <tr>\n",
       "      <th>8419</th>\n",
       "      <td>Man of Steel</td>\n",
       "      <td>6462.0</td>\n",
       "      <td>2013</td>\n",
       "      <td>49521</td>\n",
       "      <td>3.148933</td>\n",
       "    </tr>\n",
       "    <tr>\n",
       "      <th>1011</th>\n",
       "      <td>The Terminator</td>\n",
       "      <td>4208.0</td>\n",
       "      <td>1984</td>\n",
       "      <td>218</td>\n",
       "      <td>3.141192</td>\n",
       "    </tr>\n",
       "    <tr>\n",
       "      <th>1621</th>\n",
       "      <td>Darby O'Gill and the Little People</td>\n",
       "      <td>35.0</td>\n",
       "      <td>1959</td>\n",
       "      <td>18887</td>\n",
       "      <td>3.102287</td>\n",
       "    </tr>\n",
       "    <tr>\n",
       "      <th>1376</th>\n",
       "      <td>Titanic</td>\n",
       "      <td>7770.0</td>\n",
       "      <td>1997</td>\n",
       "      <td>597</td>\n",
       "      <td>3.077261</td>\n",
       "    </tr>\n",
       "    <tr>\n",
       "      <th>2132</th>\n",
       "      <td>Superman II</td>\n",
       "      <td>642.0</td>\n",
       "      <td>1980</td>\n",
       "      <td>8536</td>\n",
       "      <td>2.981782</td>\n",
       "    </tr>\n",
       "    <tr>\n",
       "      <th>1668</th>\n",
       "      <td>Return from Witch Mountain</td>\n",
       "      <td>38.0</td>\n",
       "      <td>1978</td>\n",
       "      <td>14822</td>\n",
       "      <td>2.975746</td>\n",
       "    </tr>\n",
       "  </tbody>\n",
       "</table>\n",
       "</div>"
      ],
      "text/plain": [
       "                                   title  vote_count  year      id  est rating\n",
       "2014                    Fantastic Planet       140.0  1973   16306    3.245734\n",
       "4966                Hercules in New York        63.0  1969    5227    3.239042\n",
       "8658          X-Men: Days of Future Past      6155.0  2014  127585    3.180482\n",
       "8401             Star Trek Into Darkness      4479.0  2013   54138    3.174624\n",
       "8419                        Man of Steel      6462.0  2013   49521    3.148933\n",
       "1011                      The Terminator      4208.0  1984     218    3.141192\n",
       "1621  Darby O'Gill and the Little People        35.0  1959   18887    3.102287\n",
       "1376                             Titanic      7770.0  1997     597    3.077261\n",
       "2132                         Superman II       642.0  1980    8536    2.981782\n",
       "1668          Return from Witch Mountain        38.0  1978   14822    2.975746"
      ]
     },
     "execution_count": 111,
     "metadata": {},
     "output_type": "execute_result"
    }
   ],
   "source": [
    "hybrid(500, 'Avatar')"
   ]
  },
  {
   "cell_type": "markdown",
   "metadata": {},
   "source": [
    "We see that for our hybrid recommender, we get different recommendations for different users although the movie is the same. Hence, our recommendations are more personalized and tailored towards particular users"
   ]
  },
  {
   "cell_type": "markdown",
   "metadata": {},
   "source": [
    "### Conclusion\n",
    "<p>In this project, I have created 6 types of movie recommender systems:</p>\n",
    "<p><b>Simple Recommendaion System:</b></p>\n",
    "- We created Top Movies Charts based on Genre and utilized IMDB's Weighted Rating System to calculate ratings which was used to then sort and return top movies.\n",
    "\n",
    "<p><b>Content Based Recommendation System:</b> We built four content based recommendation engines</p>\n",
    "- First we gathered movie's overviews which a user has already seen and rated above average, then we used latent semantic similarity to get the similarity score and created a recommender that provides most similar story to user's liking.\n",
    "- On our second approach on creating taste based recommendation by using NLP techniques used for above, and added tagline to the description as an input\n",
    "- Next we considered metadata such as cast, crew, genre and keywords as input features to our Recommendation Engine, We also added weights features like director to get more similar results\n",
    "- We then improved our prediction by adding a popularity and ratings filter so that recommendations are given on popular movies\n",
    "\n",
    "<p><b>Collaborative Filtering Recommendation System:</b></p>\n",
    "- We used the powerful Surprise Library to build a collaborative filter based on single value decomposition(SVD). The RMSE obtained was less than 1 and the engine gave estimated ratings for a given user and movie.\n",
    "\n",
    "<p><b>Hybrid Recommendation System:</b></p>\n",
    "- Using ideas from Content based engine and Collaborative filtering based engine, we created a Hybrid recommender system which provided more personalized recommendations for users"
   ]
  },
  {
   "cell_type": "code",
   "execution_count": null,
   "metadata": {},
   "outputs": [],
   "source": []
  }
 ],
 "metadata": {
  "kernelspec": {
   "display_name": "Python 3",
   "language": "python",
   "name": "python3"
  },
  "language_info": {
   "codemirror_mode": {
    "name": "ipython",
    "version": 3
   },
   "file_extension": ".py",
   "mimetype": "text/x-python",
   "name": "python",
   "nbconvert_exporter": "python",
   "pygments_lexer": "ipython3",
   "version": "3.6.4"
  }
 },
 "nbformat": 4,
 "nbformat_minor": 2
}
